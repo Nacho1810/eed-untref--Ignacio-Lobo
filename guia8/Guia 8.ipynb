{
 "cells": [
  {
   "cell_type": "markdown",
   "metadata": {
    "id": "PXmNVQABZLHp"
   },
   "source": [
    "# <center> Estructuras de Datos</center>\n",
    "## <center> Universidad Nacional de Tres de Febrero</center>\n",
    "## <center>Guía de ejercicios 8</center>"
   ]
  },
  {
   "cell_type": "markdown",
   "metadata": {
    "id": "lJYGLTbRZLHu",
    "slideshow": {
     "slide_type": "slide"
    }
   },
   "source": [
    "### Índices Invertidos"
   ]
  },
  {
   "cell_type": "markdown",
   "metadata": {
    "id": "wpj46MLFZLHu"
   },
   "source": [
    "#### Ejercicio 1: Escribir una función que reciba una lista de documentos y devuelva el índice invertido corresponidente. Los documentos de entrada los recibe en un diccionario con la siguiente estructura (todas las palabras se deben pasar a minúsculas antes de indexarlas):\n"
   ]
  },
  {
   "cell_type": "code",
   "execution_count": null,
   "metadata": {
    "id": "8x35RukSZLHv"
   },
   "outputs": [],
   "source": [
    "documentos = {\"doc1\": \"La casa esta ordenada y organizada\",\\\n",
    "              \"doc2\": \"Maria se casa el dia de mañana\",\\\n",
    "              \"doc3\": \"Maria es muy ordenada y Marta muy organizada\",\\\n",
    "              \"doc4\": \"mañana sera un gran dia para visitar a Maria y a Marcela y dejar todo ordenado\"}\n",
    "\n",
    "def indice_invertido(docs):\n",
    "    '''Recibe un diccionario con documentos, donde la clave es el\n",
    "    nombre del documento y el valor el contenido y crea un índice\n",
    "    invertido. Devuelve un diccionario, donde las claves son las\n",
    "    palabras de los textos y los valores son conjuntos de documentos\n",
    "    que contienen esas palabras\n",
    "    '''\n",
    "    pass\n",
    "\n",
    "dicc=indice_invertido(documentos)\n",
    "print(dicc)"
   ]
  },
  {
   "cell_type": "markdown",
   "metadata": {
    "id": "hNlP0SeMZLHy"
   },
   "source": [
    "#### Ejercicio 2: Resolver puntualmente las siguientes consultas booleanas, utilizando el índice invertido del ejercicio anterior:\n",
    "1. día and mañana\n",
    "2. (maría or día) and not (ordenada)\n",
    "3. (casa and not maría) or (mañana and not maría)\n",
    "4. (casa or mañana) and not María"
   ]
  },
  {
   "cell_type": "code",
   "execution_count": null,
   "metadata": {
    "id": "u8ecbkUBZLHy"
   },
   "outputs": [],
   "source": [
    "#1\n",
    "print(\"{: <50} {:}\".format(\"1: dia and mañana:\", ))\n",
    "#2\n",
    "print(\"{: <50} {:}\".format(\"2: (maría or dia) and not (ordenada):\",))\n",
    "#3\n",
    "print(\"{: <50} {:}\".format(\"3: (casa and not maría) or (mañana and not maria):\",))\n",
    "#4\n",
    "print(\"{: <50} {:}\".format(\"4: (casa or mañana) and not maria:\",))\n"
   ]
  },
  {
   "cell_type": "markdown",
   "metadata": {
    "id": "RgbtSUfwZLHz"
   },
   "source": [
    "#### Ejercicio 3: Escribir una función que reciba una lista de documentos, donde los documentos son nombres de archivos de texto (path completo) y calcule el índice invertido correspondiente. Calcular el índice invertido de los cuentos de Tolkien, considerando los siguientes documentos:\n",
    "1. Introduccion.txt\n",
    "2. Bombadil.txt\n",
    "3. Egidio.txt\n",
    "4. Niggle.txt\n",
    "5. Roverandom.txt\n",
    "6. Wootton.txt\n",
    "\n",
    "La función pedida no debe considerar stop words, no debe distinguir entre mayúsculas y minúsculas, no debe indexar palabras con menos de 3 caracteres, se deben reemplazar las vocales acentuadas, eliminar espacios que sobren y signos de puntuación."
   ]
  },
  {
   "cell_type": "code",
   "execution_count": null,
   "metadata": {
    "id": "bg7L6paBZLHz"
   },
   "outputs": [],
   "source": [
    "import string\n",
    "#Lista de Stop Words en español\n",
    "# http://snowball.tartarus.org/algorithms/spanish/stop.txt\n",
    "_STOP_WORDS = frozenset(['de', 'la', 'que', 'el', 'en', 'y', 'a', 'los',\n",
    "'del', 'se', 'las', 'por', 'un', 'para', 'con', 'no', 'una', 'su', 'al', 'es',\n",
    "'lo', 'como', 'más', 'pero', 'sus', 'le', 'ya', 'o', 'fue', 'este', 'ha', 'sí',\n",
    "'porque', 'esta', 'son', 'entre', 'está', 'cuando', 'muy', 'sin', 'sobre',\n",
    "'ser', 'tiene', 'también', 'me', 'hasta', 'hay', 'donde', 'han', 'quien',\n",
    "'están', 'estado', 'desde', 'todo', 'nos', 'durante', 'estados', 'todos',\n",
    "'uno', 'les', 'ni', 'contra', 'otros', 'fueron', 'ese', 'eso', 'había',\n",
    "'ante', 'ellos', 'e', 'esto', 'mí', 'antes', 'algunos', 'qué', 'unos', 'yo',\n",
    "'otro', 'otras', 'otra', 'él', 'tanto', 'esa', 'estos', 'mucho', 'quienes',\n",
    "'nada', 'muchos', 'cual', 'sea', 'poco', 'ella', 'estar', 'haber', 'estas',\n",
    "'estaba', 'estamos', 'algunas', 'algo', 'nosotros', 'mi', 'mis', 'tú', 'te',\n",
    "'ti', 'tu', 'tus', 'ellas', 'nosotras', 'vosotros', 'vosotras', 'os', 'mío',\n",
    "'mía', 'míos', 'mías', 'tuyo', 'tuya', 'tuyos', 'tuyas', 'suyo', 'suya',\n",
    "'suyos', 'suyas', 'nuestro', 'nuestra', 'nuestros', 'nuestras', 'vuestro',\n",
    "'vuestra', 'vuestros', 'vuestras', 'esos', 'esas', 'estoy', 'estás', 'está',\n",
    "'estamos', 'estáis', 'están', 'esté', 'estés', 'estemos', 'estéis', 'estén',\n",
    "'estaré', 'estarás', 'estará', 'estaremos', 'estaréis', 'estarán', 'estaría',\n",
    "'estarías', 'estaríamos', 'estaríais', 'estarían', 'estaba', 'estabas',\n",
    "'estábamos', 'estabais', 'estaban', 'estuve', 'estuviste', 'estuvo',\n",
    "'estuvimos', 'estuvisteis', 'estuvieron', 'estuviera', 'estuvieras',\n",
    "'estuviéramos', 'estuvierais', 'estuvieran', 'estuviese', 'estuvieses',\n",
    "'estuviésemos', 'estuvieseis', 'estuviesen', 'estando', 'estado', 'estada',\n",
    "'estados', 'estadas', 'estad', 'he', 'has', 'ha', 'hemos', 'habéis', 'han',\n",
    "'haya', 'hayas', 'hayamos', 'hayáis', 'hayan', 'habré', 'habrás', 'habrá',\n",
    "'habremos', 'habréis', 'habrán', 'habría', 'habrías', 'habríamos', 'habríais',\n",
    "'habrían', 'había', 'habías', 'habíamos', 'habíais', 'habían', 'hube',\n",
    "'hubiste', 'hubo', 'hubimos', 'hubisteis', 'hubieron', 'hubiera', 'hubieras',\n",
    "'hubiéramos', 'hubierais', 'hubieran', 'hubiese', 'hubieses', 'hubiésemos',\n",
    "'hubieseis', 'hubiesen', 'habiendo', 'habido', 'habida', 'habidos', 'habidas',\n",
    "'soy', 'eres', 'es', 'somos', 'sois', 'son', 'sea', 'seas', 'seamos', 'seáis',\n",
    "'sean', 'seré', 'serás', 'será', 'seremos', 'seréis', 'serán', 'sería',\n",
    "'serías', 'seríamos', 'seríais', 'serían', 'era', 'eras', 'éramos', 'erais',\n",
    "'eran', 'fui', 'fuiste', 'fue', 'fuimos', 'fuisteis', 'fueron', 'fuera',\n",
    "'fueras', 'fuéramos', 'fuerais', 'fueran', 'fuese', 'fueses', 'fuésemos',\n",
    "'fueseis', 'fuesen', 'siendo', 'sido', 'sed', 'tengo', 'tienes', 'tiene',\n",
    "'tenemos', 'tenéis', 'tienen', 'tenga', 'tengas', 'tengamos', 'tengáis',\n",
    "'tengan', 'tendré', 'tendrás', 'tendrá', 'tendremos', 'tendréis', 'tendrán',\n",
    "'tendría', 'tendrías', 'tendríamos', 'tendríais', 'tendrían', 'tenía',\n",
    "'tenías', 'teníamos', 'teníais', 'tenían', 'tuve', 'tuviste', 'tuvo',\n",
    "'tuvimos', 'tuvisteis', 'tuvieron', 'tuviera', 'tuvieras', 'tuviéramos',\n",
    "'tuvierais', 'tuvieran', 'tuviese', 'tuvieses', 'tuviésemos', 'tuvieseis',\n",
    "'tuviesen', 'teniendo', 'tenido', 'tenida', 'tenidos', 'tenidas', 'tened', ''])\n",
    "\n",
    "def acondicionar_palabra(pal):\n",
    "    '''Reemplaza vocales acentuadas, elimina espacios sobrantes y\n",
    "    signos de puntuación\n",
    "    '''\n",
    "    pass\n",
    "\n",
    "def ii_agregar_archivo(dicc, archivo):\n",
    "    '''Agrega las palabras del archivo al indice invertido dicc\n",
    "    archivo es el path completo al archivo, el archivo tiene extensión .txt\n",
    "    '''\n",
    "    pass\n",
    "\n",
    "def ii_crear(archivos):\n",
    "    '''Recibe una lista con archivos (path completos) a procesar\n",
    "    y devuelve un diccionario con el índice invertido\n",
    "    '''\n",
    "    pass\n",
    "\n",
    "archivos=[\"Introduccion.txt\",\"Bombadil.txt\",\"Egidio.txt\",\"Niggle.txt\",\"Roverandom.txt\",\"Wootton.txt\"]\n",
    "ii=ii_crear(archivos)\n",
    "\n"
   ]
  },
  {
   "cell_type": "markdown",
   "metadata": {
    "id": "RCD0TEU3ZLH0"
   },
   "source": [
    "#### Ejercicio 4: Completar el código a continuación para poder hacer consultas interactivas al índice invertido"
   ]
  },
  {
   "cell_type": "code",
   "execution_count": null,
   "metadata": {
    "id": "R9E8pWRfZLH1"
   },
   "outputs": [],
   "source": [
    "def consultar(indice_invertido):\n",
    "    '''Realiza consultas al indice_invertido, en caso de consultar por una única palabra\n",
    "    devuelve los documentos en los que aparece, y en en caso de consultar por varias palabras\n",
    "    (separadas por blancos) busca alguna de las palabras (OR) y todas las palabras (AND)\n",
    "    '''\n",
    "    while True:\n",
    "        op = input(\"\\nIntroduce tu búsqueda(Enter para finalizar):\\n>>> \")\n",
    "        if len(op) == 0: break\n",
    "        busq = op.split()\n",
    "        if len(busq) == 1: #op es una sola palabra\n",
    "            pass\n",
    "        elif len(busq) > 1:\n",
    "            print(\"\\nDocumentos en donde aparece al menos una palabra buscada (OR)\\n\")\n",
    "            pass\n",
    "            print(\"\\nDocumentos en donde aparecen todas las palabras buscadas (AND)\\n\")\n",
    "            pass\n",
    "\n",
    "\n",
    "consultar(ii)"
   ]
  },
  {
   "cell_type": "markdown",
   "metadata": {
    "id": "aeirSOO2ZLH1"
   },
   "source": [
    "#### Ejercicio 4: Agregar un stemmer a los ejercicios anteriores. Por ejemplo se puede utilizar PyStemmer (https://github.com/snowballstem/pystemmer) que es parte de Snowball (http://snowballstem.org/).\n"
   ]
  },
  {
   "cell_type": "code",
   "execution_count": null,
   "metadata": {
    "id": "zsEnhLhfZLH2"
   },
   "outputs": [],
   "source": []
  }
 ],
 "metadata": {
  "colab": {
   "provenance": []
  },
  "kernelspec": {
   "display_name": "Python 3 (ipykernel)",
   "language": "python",
   "name": "python3"
  },
  "language_info": {
   "codemirror_mode": {
    "name": "ipython",
    "version": 3
   },
   "file_extension": ".py",
   "mimetype": "text/x-python",
   "name": "python",
   "nbconvert_exporter": "python",
   "pygments_lexer": "ipython3",
   "version": "3.12.5"
  }
 },
 "nbformat": 4,
 "nbformat_minor": 4
}
