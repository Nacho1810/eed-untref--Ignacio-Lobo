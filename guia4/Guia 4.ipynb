{
 "cells": [
  {
   "cell_type": "markdown",
   "id": "f05b7e77-8842-4ff5-bf9f-7433e68ccb68",
   "metadata": {
    "editable": false,
    "slideshow": {
     "slide_type": ""
    },
    "tags": []
   },
   "source": [
    "<p style=\"text-align: center\">\n",
    "    <img src=\"data:image/svg+xml,%3Csvg%20version%3D%221.2%22%20baseProfile%3D%22tiny%22%20id%3D%22Capa_1%22%20xmlns%3D%22http%3A%2F%2Fwww.w3.org%2F2000%2Fsvg%22%20xmlns%3Axlink%3D%22http%3A%2F%2Fwww.w3.org%2F1999%2Fxlink%22%20x%3D%220px%22%20y%3D%220px%22%20viewBox%3D%220%200%20136.5%2058%22%20overflow%3D%22visible%22%20xml%3Aspace%3D%22preserve%22%3E%3Cstyle%20type%3D%22text%2Fcss%22%3Epath%2Cpolygon%2Crect%7Bfill%3A%231e1f1d%21important%7D%40media%20%28prefers-color-scheme%3Adark%29%7Bpath%2Cpolygon%2Crect%7Bfill%3A%23e1e0e2%21important%7D%7D%3C%2Fstyle%3E%3Cg%3E%3Cpath%20d%3D%22M0%2C33.4h1v6.3c0%2C1.1%2C0.5%2C1.7%2C1.7%2C1.7s1.7-0.5%2C1.7-1.7v-6.3h1v6.3c0%2C1.8-1%2C2.5-2.7%2C2.5C1%2C42.3%2C0%2C41.5%2C0%2C39.7%20V33.4z%22%3E%3C%2Fpath%3E%3Cpolygon%20points%3D%228.1%2C42.2%208.1%2C33.4%209.4%2C33.4%2012.6%2C40.4%2012.7%2C40.4%2012.7%2C33.4%2013.7%2C33.4%2013.7%2C42.2%2012.4%2C42.2%209.1%2C34.9%209%2C34.9%209%2C42.2%22%3E%3C%2Fpolygon%3E%3Crect%20x%3D%2216.5%22%20width%3D%221%22%20y%3D%2233.4%22%20height%3D%228.7%22%3E%3C%2Frect%3E%3Cpolygon%20points%3D%2224.4%2C33.4%2025.4%2C33.4%2023.1%2C42.2%2021.7%2C42.2%2019.4%2C33.4%2020.5%2C33.4%2022.4%2C40.9%2022.5%2C40.9%22%3E%3C%2Fpolygon%3E%3Cpolygon%20points%3D%2227.4%2C42.2%2027.4%2C33.4%2032.1%2C33.4%2032.1%2C34.3%2028.4%2C34.3%2028.4%2C37.2%2031.6%2C37.2%2031.6%2C38.1%2028.4%2C38.1%2028.4%2C41.3%2032.3%2C41.3%2032.3%2C42.2%22%3E%3C%2Fpolygon%3E%3Cpath%20d%3D%22M35.3%2C37.6h1.8c1.1%2C0%2C1.6-0.5%2C1.6-1.6c0-1.1-0.5-1.6-1.6-1.6h-1.8V37.6z%20M35.3%2C42.2h-1v-8.7h3%20c1.6%2C0%2C2.5%2C0.9%2C2.5%2C2.5c0%2C1.3-0.6%2C2-1.2%2C2.3l1.3%2C3.9h-1.1l-1.2-3.6h-2.3V42.2z%22%3E%3C%2Fpath%3E%3Cpath%20d%3D%22M46.7%2C35.6c-0.1-1-0.6-1.4-1.7-1.4c-1%2C0-1.7%2C0.4-1.7%2C1.4c0%2C1%2C0.8%2C1.2%2C1.9%2C1.6c1.4%2C0.4%2C2.7%2C0.9%2C2.7%2C2.6%20c0%2C1.7-1.1%2C2.5-2.8%2C2.5c-1.8%2C0-2.8-0.8-2.9-2.5l1-0.1c0.1%2C1.2%2C0.7%2C1.7%2C1.9%2C1.7c1.1%2C0%2C1.8-0.5%2C1.8-1.5c0-1-0.6-1.3-1.9-1.7%20c-1.4-0.4-2.6-0.8-2.6-2.5c0-1.7%2C1.1-2.4%2C2.8-2.4c1.6%2C0%2C2.6%2C0.6%2C2.8%2C2.2L46.7%2C35.6z%22%3E%3C%2Fpath%3E%3Crect%20x%3D%2250.2%22%20width%3D%221%22%20y%3D%2233.4%22%20height%3D%228.7%22%3E%3C%2Frect%3E%3Cpath%20d%3D%22M55%2C41.3h1.9c1%2C0%2C1.7-0.5%2C1.7-1.5v-4c0-1-0.6-1.5-1.7-1.5H55V41.3z%20M54%2C33.4h2.8c1.8%2C0%2C2.8%2C0.7%2C2.8%2C2.5v3.7%20c0%2C1.8-1%2C2.5-2.8%2C2.5H54V33.4z%22%3E%3C%2Fpath%3E%3Cpath%20d%3D%22M63.2%2C39.1H66l-1.3-4.6h-0.1L63.2%2C39.1z%20M62.4%2C42.2h-1.1l2.6-8.7h1.5l2.6%2C8.7h-1.1L66.3%2C40H63L62.4%2C42.2z%22%3E%3C%2Fpath%3E%3Cpath%20d%3D%22M70.9%2C41.3h1.9c1%2C0%2C1.7-0.5%2C1.7-1.5v-4c0-1-0.6-1.5-1.7-1.5h-1.9V41.3z%20M69.8%2C33.4h2.8%20c1.8%2C0%2C2.8%2C0.7%2C2.8%2C2.5v3.7c0%2C1.8-1%2C2.5-2.8%2C2.5h-2.8V33.4z%22%3E%3C%2Fpath%3E%3Cpolygon%20points%3D%2281.3%2C42.2%2081.3%2C33.4%2082.6%2C33.4%2085.8%2C40.4%2085.9%2C40.4%2085.9%2C33.4%2086.9%2C33.4%2086.9%2C42.2%2085.6%2C42.2%2082.3%2C34.9%2082.2%2C34.9%2082.2%2C42.2%22%3E%3C%2Fpolygon%3E%3Cpath%20d%3D%22M90.7%2C39.1h2.8l-1.3-4.6H92L90.7%2C39.1z%20M89.8%2C42.2h-1.1l2.6-8.7h1.5l2.6%2C8.7h-1.1L93.7%2C40h-3.3L89.8%2C42.2z%22%3E%3C%2Fpath%3E%3Cpath%20d%3D%22M101.2%2C36.1v-0.4c0-1.1-0.5-1.5-1.7-1.5c-1.1%2C0-1.8%2C0.4-1.8%2C1.5v4.1c0%2C1.1%2C0.6%2C1.5%2C1.8%2C1.5%20c1.1%2C0%2C1.7-0.5%2C1.7-1.5v-0.4l1%2C0.1v0.1c0%2C1.8-0.9%2C2.6-2.7%2C2.6c-1.8%2C0-2.8-0.7-2.8-2.5v-4c0-1.8%2C1-2.5%2C2.8-2.5%20c1.8%2C0%2C2.7%2C0.7%2C2.7%2C2.6V36L101.2%2C36.1z%22%3E%3C%2Fpath%3E%3Crect%20x%3D%22104.7%22%20width%3D%221%22%20y%3D%2233.4%22%20height%3D%228.7%22%3E%3C%2Frect%3E%3Cpath%20d%3D%22M109.3%2C39.9c0%2C1.1%2C0.7%2C1.5%2C1.8%2C1.5c1.1%2C0%2C1.8-0.4%2C1.8-1.5v-4.1c0-1.1-0.7-1.5-1.8-1.5%20c-1.1%2C0-1.8%2C0.4-1.8%2C1.5V39.9z%20M108.3%2C35.8c0-1.9%2C1-2.5%2C2.8-2.5c1.8%2C0%2C2.8%2C0.7%2C2.8%2C2.5v3.9c0%2C1.9-1%2C2.5-2.8%2C2.5%20c-1.8%2C0-2.8-0.7-2.8-2.5V35.8z%22%3E%3C%2Fpath%3E%3Cpolygon%20points%3D%22116.5%2C42.2%20116.5%2C33.4%20117.8%2C33.4%20121%2C40.4%20121.1%2C40.4%20121.1%2C33.4%20122%2C33.4%20122%2C42.2%20120.8%2C42.2%20117.5%2C34.9%20117.4%2C34.9%20117.4%2C42.2%22%3E%3C%2Fpolygon%3E%3Cpath%20d%3D%22M125.9%2C39.1h2.8l-1.3-4.6h-0.1L125.9%2C39.1z%20M125%2C42.2h-1.1l2.6-8.7h1.5l2.6%2C8.7h-1.1l-0.6-2.1h-3.3%20L125%2C42.2z%22%3E%3C%2Fpath%3E%3Cpolygon%20points%3D%22132.5%2C42.2%20132.5%2C33.4%20133.5%2C33.4%20133.5%2C41.3%20136.5%2C41.3%20136.5%2C42.2%22%3E%3C%2Fpolygon%3E%3Cpath%20d%3D%22M1.2%2C57h1.9c1%2C0%2C1.7-0.5%2C1.7-1.5v-4c0-1-0.6-1.5-1.7-1.5H1.2V57z%20M0.1%2C49.1H3c1.8%2C0%2C2.8%2C0.7%2C2.8%2C2.5v3.7%20c0%2C1.8-1%2C2.5-2.8%2C2.5H0.1V49.1z%22%3E%3C%2Fpath%3E%3Cpolygon%20points%3D%228.3%2C57.9%208.3%2C49.1%2013%2C49.1%2013%2C50%209.3%2C50%209.3%2C52.9%2012.6%2C52.9%2012.6%2C53.8%209.3%2C53.8%209.3%2C57%2013.2%2C57%2013.2%2C57.9%22%3E%3C%2Fpolygon%3E%3Cpolygon%20points%3D%2219.7%2C50.1%2017.6%2C50.1%2017.6%2C49.1%2022.7%2C49.1%2022.7%2C50.1%2020.7%2C50.1%2020.7%2C57.9%2019.7%2C57.9%22%3E%3C%2Fpolygon%3E%3Cpath%20d%3D%22M25.6%2C53.3h1.8c1.1%2C0%2C1.6-0.5%2C1.6-1.6c0-1.1-0.5-1.6-1.6-1.6h-1.8V53.3z%20M25.6%2C57.9h-1v-8.7h3%20c1.6%2C0%2C2.5%2C0.9%2C2.5%2C2.5c0%2C1.3-0.6%2C2-1.2%2C2.3l1.3%2C3.9h-1.1l-1.2-3.6h-2.3V57.9z%22%3E%3C%2Fpath%3E%3Cpolygon%20points%3D%2232.8%2C57.9%2032.8%2C49.1%2037.5%2C49.1%2037.5%2C50%2033.8%2C50%2033.8%2C52.9%2037%2C52.9%2037%2C53.8%2033.8%2C53.8%2033.8%2C57%2037.7%2C57%2037.7%2C57.9%22%3E%3C%2Fpolygon%3E%3Cpath%20d%3D%22M44%2C51.3c-0.1-1-0.6-1.4-1.7-1.4c-1%2C0-1.7%2C0.4-1.7%2C1.4c0%2C1%2C0.8%2C1.2%2C1.9%2C1.6c1.4%2C0.4%2C2.7%2C0.9%2C2.7%2C2.6%20c0%2C1.7-1.1%2C2.5-2.8%2C2.5c-1.8%2C0-2.8-0.8-2.9-2.5l1-0.1c0.1%2C1.2%2C0.7%2C1.7%2C1.9%2C1.7c1.1%2C0%2C1.8-0.5%2C1.8-1.5c0-1-0.6-1.3-1.9-1.7%20c-1.4-0.4-2.6-0.8-2.6-2.5c0-1.7%2C1.1-2.4%2C2.8-2.4c1.6%2C0%2C2.6%2C0.6%2C2.8%2C2.2L44%2C51.3z%22%3E%3C%2Fpath%3E%3Cpath%20d%3D%22M51.8%2C57h1.9c1.1%2C0%2C1.7-0.5%2C1.7-1.5v-4c0-1-0.6-1.5-1.7-1.5h-1.9V57z%20M50.8%2C49.1h2.8c1.8%2C0%2C2.8%2C0.7%2C2.8%2C2.5%20v3.7c0%2C1.8-1%2C2.5-2.8%2C2.5h-2.8V49.1z%22%3E%3C%2Fpath%3E%3Cpolygon%20points%3D%2258.9%2C57.9%2058.9%2C49.1%2063.6%2C49.1%2063.6%2C50%2059.9%2C50%2059.9%2C52.9%2063.2%2C52.9%2063.2%2C53.8%2059.9%2C53.8%2059.9%2C57%2063.8%2C57%2063.8%2C57.9%22%3E%3C%2Fpolygon%3E%3Cpolygon%20points%3D%2269.2%2C57.9%2069.2%2C49.1%2073.6%2C49.1%2073.6%2C50%2070.2%2C50%2070.2%2C52.9%2073.2%2C52.9%2073.2%2C53.8%2070.2%2C53.8%2070.2%2C57.9%22%3E%3C%2Fpolygon%3E%3Cpolygon%20points%3D%2275.6%2C57.9%2075.6%2C49.1%2080.3%2C49.1%2080.3%2C50%2076.6%2C50%2076.6%2C52.9%2079.8%2C52.9%2079.8%2C53.8%2076.6%2C53.8%2076.6%2C57%2080.5%2C57%2080.5%2C57.9%22%3E%3C%2Fpolygon%3E%3Cpath%20d%3D%22M83.5%2C57h2.1c1.1%2C0%2C1.7-0.6%2C1.7-1.6c0-1.1-0.6-1.6-1.7-1.6h-2V57z%20M83.5%2C52.9h2c1%2C0%2C1.5-0.5%2C1.5-1.4%20c0-1-0.5-1.4-1.5-1.4h-2V52.9z%20M82.5%2C49.1h3.3c1.6%2C0%2C2.3%2C0.7%2C2.3%2C2.2c0%2C1-0.3%2C1.6-1%2C1.9v0.1c0.6%2C0.2%2C1.2%2C0.9%2C1.2%2C2.1%20c0%2C1.5-0.7%2C2.4-2.4%2C2.4h-3.4V49.1z%22%3E%3C%2Fpath%3E%3Cpath%20d%3D%22M91.9%2C53.3h1.8c1.1%2C0%2C1.6-0.5%2C1.6-1.6c0-1.1-0.5-1.6-1.6-1.6h-1.8V53.3z%20M91.9%2C57.9h-1v-8.7h3%20c1.6%2C0%2C2.5%2C0.9%2C2.5%2C2.5c0%2C1.3-0.6%2C2-1.2%2C2.3l1.3%2C3.9h-1.1l-1.2-3.6h-2.3V57.9z%22%3E%3C%2Fpath%3E%3Cpolygon%20points%3D%2299%2C57.9%2099%2C49.1%20103.7%2C49.1%20103.7%2C50%20100%2C50%20100%2C52.9%20103.3%2C52.9%20103.3%2C53.8%20100%2C53.8%20100%2C57%20103.9%2C57%20103.9%2C57.9%22%3E%3C%2Fpolygon%3E%3Cpath%20d%3D%22M107%2C53.3h1.8c1.1%2C0%2C1.6-0.5%2C1.6-1.6c0-1.1-0.5-1.6-1.6-1.6H107V53.3z%20M107%2C57.9h-1v-8.7h3%20c1.6%2C0%2C2.5%2C0.9%2C2.5%2C2.5c0%2C1.3-0.6%2C2-1.2%2C2.3l1.3%2C3.9h-1.1l-1.2-3.6H107V57.9z%22%3E%3C%2Fpath%3E%3Cpath%20d%3D%22M114.9%2C55.6c0%2C1.1%2C0.7%2C1.5%2C1.8%2C1.5c1.1%2C0%2C1.8-0.4%2C1.8-1.5v-4.1c0-1.1-0.7-1.5-1.8-1.5%20c-1.1%2C0-1.8%2C0.4-1.8%2C1.5V55.6z%20M113.9%2C51.5c0-1.9%2C1-2.5%2C2.8-2.5c1.8%2C0%2C2.8%2C0.7%2C2.8%2C2.5v3.9c0%2C1.9-1%2C2.5-2.8%2C2.5%20c-1.8%2C0-2.8-0.7-2.8-2.5V51.5z%22%3E%3C%2Fpath%3E%3Crect%20y%3D%2223.7%22%20width%3D%2296.4%22%20height%3D%223.6%22%3E%3C%2Frect%3E%3Cpath%20d%3D%22M69.1%2C17.5V0h11.5v2.9h-8V7h7.3v2.9h-7.3v4.7H81v2.9H69.1z%20M85.3%2C17.5V0h11v2.9h-7.6V7h6.9v2.9h-6.9v7.6%20H85.3z%20M54.5%2C17.5H51V0h7.2C62.1%2C0%2C64%2C1.8%2C64%2C5.3c0%2C2.8-1.4%2C4.1-2.7%2C4.6l2.9%2C7.6h-3.8L58%2C10.5h-3.5V17.5z%20M54.5%2C7.7h2.9%20c2%2C0%2C3-0.6%2C3-2.5c0-1.9-1-2.5-3-2.5h-2.9V7.7z%20M39.9%2C2.9h-4.4V0h12.4v2.9h-4.4v14.6h-3.5V2.9z%20M18.8%2C17.5V0h4.1l5.8%2C11.7h0.2V0h3.4%20v17.5h-4L22.2%2C5.3h-0.2v12.2H18.8z%20M0.1%2C0h3.5v12.1c0%2C2%2C1%2C2.8%2C3%2C2.8c2%2C0%2C3-0.8%2C3-2.8V0h3.5v12.1c0%2C3.8-2.3%2C5.7-6.5%2C5.7%20c-4.2%2C0-6.5-1.9-6.5-5.7V0z%22%3E%3C%2Fpath%3E%3C%2Fg%3E%3C%2Fsvg%3E\" style=\"height: 50px;\" />\n",
    "</p>\n",
    "\n",
    "<h3 style=\"text-align: center\">Estructura de Datos</h3>\n",
    "\n",
    "<h2 style=\"text-align: center\">Guía 4: Grafos</h3>"
   ]
  },
  {
   "cell_type": "markdown",
   "id": "bb37ddd9-6839-4872-bcaf-a8e7ca3c3552",
   "metadata": {
    "editable": false,
    "slideshow": {
     "slide_type": ""
    },
    "tags": []
   },
   "source": [
    "**Ej 1**: Implemete la clase `Grafo` sobre una matríz de adyacencias. Se debe poder representar grafos dirigidos, no dirigidos, con pesos y sin pesos"
   ]
  },
  {
   "cell_type": "code",
   "execution_count": 5,
   "id": "5d2b5ac0-0b95-4c51-b5dd-8205d7f958b8",
   "metadata": {
    "editable": true,
    "slideshow": {
     "slide_type": ""
    },
    "tags": []
   },
   "outputs": [],
   "source": [
    "import math\n",
    "\n",
    "class Grafo:\n",
    "    \n",
    "    def __init__(self,ponderado:bool,dirigido:bool) -> None:\n",
    "        self.matriz = {}\n",
    "        self._ponderado= ponderado\n",
    "        self._dirigido= dirigido\n",
    "\n",
    "    \"\"\"\n",
    "    Vertice de Origen: Filas\n",
    "    Vertice Destino: Columnas\n",
    "    Si es ponderado: Dict(VO) -> Dict(VD) -> Peso\n",
    "    No ponderado: Dict(VO) -> Dict(VD) -> 1\n",
    "    \"\"\"\n",
    "    def vertices(self):\n",
    "        return [elem for elem in self.matriz.keys()]\n",
    "\n",
    "    def agregar_arista(self, vertice_origen, vertice_destino, peso):\n",
    "        self._agregar_arista(vertice_origen, vertice_destino, peso)\n",
    "\n",
    "        if not self._dirigido:\n",
    "            self._agregar_arista(vertice_destino, vertice_origen, peso)\n",
    "\n",
    "    def _agregar_arista(self, vertice_origen, vertice_destino, peso):\n",
    "        p = 1\n",
    "        if self._ponderado:\n",
    "            p = peso\n",
    "        if vertice_origen not in self.matriz:\n",
    "            self.matriz[vertice_origen] = {}\n",
    "        self.matriz[vertice_origen][vertice_destino] = p\n",
    "        \n",
    "        if vertice_destino not in self.matriz:\n",
    "            self.matriz[vertice_destino] = {}\n",
    "\n",
    "    def _peso_entre(self,v_a,v_b):\n",
    "        return self.matriz[v_a][v_b]\n",
    "\n",
    "    def adyacentes_de(self,vertice):\n",
    "        adyac = []\n",
    "        for key in self.matriz[vertice].keys():\n",
    "            adyac.append(key)\n",
    "        return adyac\n",
    "\n",
    "    def _grado_entrada(self,vertice):\n",
    "        entrada=0\n",
    "        for v in self.matriz.values():\n",
    "            if vertice in v:\n",
    "                entrada +=1\n",
    "        return entrada\n",
    "    \n"
   ]
  },
  {
   "cell_type": "code",
   "execution_count": 6,
   "id": "c2c8ba18-528f-4548-a12d-6ffa4726e6d2",
   "metadata": {},
   "outputs": [
    {
     "name": "stderr",
     "output_type": "stream",
     "text": [
      "test_no_ponderado (__main__.TestGrafoMatriz.test_no_ponderado) ... ok\n",
      "test_no_ponderado_no_dirigido (__main__.TestGrafoMatriz.test_no_ponderado_no_dirigido) ... ok\n",
      "test_ponderado_dirigido (__main__.TestGrafoMatriz.test_ponderado_dirigido) ... ok\n",
      "\n",
      "----------------------------------------------------------------------\n",
      "Ran 3 tests in 0.002s\n",
      "\n",
      "OK\n"
     ]
    }
   ],
   "source": [
    "# Tests\n",
    "from unittest import TestCase, main\n",
    "\n",
    "class TestGrafoMatriz(TestCase):\n",
    "    def setUp(self) -> None:\n",
    "        pass\n",
    "        \n",
    "\n",
    "\n",
    "    def test_ponderado_dirigido(self):\n",
    "        digra = Grafo(ponderado=True,dirigido=True)\n",
    "        digra.agregar_arista(\"V1\",\"V2\",5)\n",
    "        digra.agregar_arista(\"V2\",\"V3\",7)\n",
    "        digra.agregar_arista(\"V1\",\"V3\",6)\n",
    "        digra.agregar_arista(\"V0\",\"V4\",1)\n",
    "        digra.agregar_arista(\"V0\",\"V1\",6)\n",
    "        digra.agregar_arista(\"V0\",\"V2\",6)\n",
    "        digra.agregar_arista(\"V0\",\"V3\",6)\n",
    "\n",
    "        self.assertEqual([\"V2\",\"V3\"],digra.adyacentes_de(\"V1\"))\n",
    "        self.assertEqual([\"V3\"],digra.adyacentes_de(\"V2\"))\n",
    "        self.assertEqual([],digra.adyacentes_de(\"V3\"))\n",
    "        self.assertEqual([\"V4\",\"V1\",\"V2\",\"V3\"],digra.adyacentes_de(\"V0\"))\n",
    "        self.assertEqual([],digra.adyacentes_de(\"V4\"))\n",
    "                \n",
    "        self.assertEqual(3,digra._grado_entrada(\"V3\"))\n",
    "        self.assertEqual(2,digra._grado_entrada(\"V2\"))\n",
    "        self.assertEqual(1,digra._grado_entrada(\"V4\"))\n",
    "        self.assertEqual(0,digra._grado_entrada(\"V0\"))\n",
    "        \n",
    "    def test_no_ponderado(self):\n",
    "        digra_nopon = Grafo(ponderado=False,dirigido=True)\n",
    "        digra_nopon.agregar_arista(\"V1\",\"V2\",5)\n",
    "        digra_nopon.agregar_arista(\"V2\",\"V3\",7)\n",
    "        digra_nopon.agregar_arista(\"V1\",\"V3\",6)\n",
    "        digra_nopon.agregar_arista(\"V0\",\"V4\",1)\n",
    "        digra_nopon.agregar_arista(\"V0\",\"V1\",6)\n",
    "        digra_nopon.agregar_arista(\"V0\",\"V2\",6)\n",
    "        digra_nopon.agregar_arista(\"V0\",\"V3\",6)\n",
    "\n",
    "        self.assertEqual([\"V2\",\"V3\"],digra_nopon.adyacentes_de(\"V1\"))\n",
    "        self.assertEqual([\"V3\"],digra_nopon.adyacentes_de(\"V2\"))\n",
    "        self.assertEqual([],digra_nopon.adyacentes_de(\"V3\"))\n",
    "        self.assertEqual([\"V4\",\"V1\",\"V2\",\"V3\"],digra_nopon.adyacentes_de(\"V0\"))\n",
    "        self.assertEqual([],digra_nopon.adyacentes_de(\"V4\"))\n",
    "\n",
    "        self.assertEqual(1,digra_nopon._peso_entre(\"V0\",\"V4\"))\n",
    "        self.assertEqual(1,digra_nopon._peso_entre(\"V1\",\"V2\"))\n",
    "        self.assertEqual(1,digra_nopon._peso_entre(\"V0\",\"V4\"))\n",
    "        self.assertEqual(1,digra_nopon._peso_entre(\"V2\",\"V3\"))\n",
    "    \n",
    "    def test_no_ponderado_no_dirigido(self):\n",
    "        digra_nopon = Grafo(ponderado=False,dirigido=False)\n",
    "        digra_nopon.agregar_arista(\"V0\",\"V1\",6)\n",
    "        digra_nopon.agregar_arista(\"V0\",\"V2\",6)\n",
    "        digra_nopon.agregar_arista(\"V0\",\"V3\",6)\n",
    "        digra_nopon.agregar_arista(\"V0\",\"V4\",1)\n",
    "        digra_nopon.agregar_arista(\"V4\",\"V3\",2)\n",
    "\n",
    "        self.assertEqual([\"V0\"],digra_nopon.adyacentes_de(\"V1\"))\n",
    "        self.assertEqual([\"V0\"],digra_nopon.adyacentes_de(\"V2\"))\n",
    "        self.assertEqual([\"V0\",\"V4\"],digra_nopon.adyacentes_de(\"V3\"))\n",
    "        self.assertEqual([\"V1\",\"V2\",\"V3\",\"V4\"],digra_nopon.adyacentes_de(\"V0\"))\n",
    "        self.assertEqual([\"V0\",\"V3\"],digra_nopon.adyacentes_de(\"V4\"))\n",
    "\n",
    "        self.assertEqual(1,digra_nopon._grado_entrada(\"V1\"))\n",
    "        self.assertEqual(1,digra_nopon._grado_entrada(\"V2\"))\n",
    "        self.assertEqual(2,digra_nopon._grado_entrada(\"V3\"))\n",
    "        self.assertEqual(2,digra_nopon._grado_entrada(\"V4\"))\n",
    "        self.assertEqual(4,digra_nopon._grado_entrada(\"V0\"))\n",
    "\n",
    "test= main(argv=[\"\"],defaultTest=\"TestGrafoMatriz\",verbosity=2, exit=False)"
   ]
  },
  {
   "cell_type": "markdown",
   "id": "e95d3910-dbf5-4e1c-81ee-2e4e98835747",
   "metadata": {
    "editable": false,
    "slideshow": {
     "slide_type": ""
    },
    "tags": []
   },
   "source": [
    "**Ej 2**: Dado el siguiente grafo:\n",
    "\n",
    "|   | A | B | C | D | E | F | G |\n",
    "|---|---|---|---|---|---|---|---|\n",
    "| A | - | 5 | 3 | - | - | - | - |\n",
    "| B | - | - | 2 | - | 3 | - | 1 |\n",
    "| C | - | - | - | 7 | 7 | - | - |\n",
    "| D | - | - | - | - | - | 6 | - |\n",
    "| E | - | - | - | 2 | - | 1 | - |\n",
    "| F | - | - | - | - | - | - | - |\n",
    "| G | - | - | - | - | - | 1 | - |\n",
    "\n",
    "Calcule un orden topológico"
   ]
  },
  {
   "cell_type": "code",
   "execution_count": null,
   "id": "863bef0d",
   "metadata": {},
   "outputs": [],
   "source": [
    "\"\"\"\n",
    "v = Representa el nodo que desencolamos, visitamos y, a sus adyacentes, le restamos 1 a su grado de entrada\n",
    "Cola = Nodos encolados en cada iteración (Solo cuando su grado de entrada sea igual a 0)\n",
    "WHILE = Número de la iteración While not Cola.esta_vacia()\n",
    "\n",
    "    Grados de entrada de Nodos\n",
    "WHILE   v   A   B   C   D   E   F   G   Cola\n",
    "0       -   0   1   2   2   2   3   1   A\n",
    "1       A   0   0   1   2   2   3   1   B\n",
    "2       B   0   0   0   2   1   3   0   C,G\n",
    "3       C   0   0   0   1   0   3   0   G,E\n",
    "4       G   0   0   0   1   0   2   0   E\n",
    "5       E   0   0   0   0   0   1   0   D\n",
    "6       D   0   0   0   0   0   0   0   F\n",
    "7       F   0   0   0   0   0   0   0   -\n",
    "\n",
    "Orden Topológico = A,B,C,G,E,D,F\n",
    "\n",
    "\"\"\""
   ]
  },
  {
   "cell_type": "markdown",
   "id": "84b59fae-873f-4867-a13e-43ac5cee14d6",
   "metadata": {
    "editable": true,
    "slideshow": {
     "slide_type": ""
    },
    "tags": []
   },
   "source": [
    "_(resolver en esta celda)_\n",
    "\n",
    "Paso 1:..."
   ]
  },
  {
   "attachments": {
    "44d7704e-4a88-4f47-aa50-c645a184cef9.png": {
     "image/png": "[encoded data removed]"
    }
   },
   "cell_type": "markdown",
   "id": "a7ab65bc-e4d1-4930-8f53-ea37a80aff94",
   "metadata": {
    "editable": false,
    "slideshow": {
     "slide_type": ""
    },
    "tags": []
   },
   "source": [
    "**Ej 3**: Dado el siguiente grafo:\n",
    "\n",
    "![image.png](attachment:44d7704e-4a88-4f47-aa50-c645a184cef9.png)\n",
    "\n",
    "1. Dar la representación del grafo con una matriz de adyacencia.\n",
    "2. Dar la representación del grafo listas de adyacencia.\n",
    "3. Calcule un orden topológico. Mostrar el grado de entrada de cada vértice."
   ]
  },
  {
   "cell_type": "code",
   "execution_count": 7,
   "id": "cd927141-66e8-4d61-9598-15720d8c73a6",
   "metadata": {
    "editable": true,
    "slideshow": {
     "slide_type": ""
    },
    "tags": []
   },
   "outputs": [],
   "source": [
    "# 1.\n",
    "G = [\n",
    "    [None,None,None,1,2,None,None],\n",
    "    [None,None,None,3,10,None,None],\n",
    "    [4,None,None,None,None,5,None],\n",
    "    [None,None,None,None,2,8,4],\n",
    "    [None,None,None,None,None,None,6],\n",
    "    [None,None,None,None,2,None,None],\n",
    "    [None,None,None,None,None,None,None]\n",
    "]\n"
   ]
  },
  {
   "cell_type": "code",
   "execution_count": 8,
   "id": "4207d51f-4c68-4dd0-a554-8fa34a52ee18",
   "metadata": {
    "editable": true,
    "slideshow": {
     "slide_type": ""
    },
    "tags": []
   },
   "outputs": [],
   "source": [
    "# 2.\n",
    "G = [\n",
    "    [\"V3\",\"V4\"],\n",
    "    [\"V3\",\"V4\"],\n",
    "    [\"V0\",\"V5\"],\n",
    "    [\"V4\",\"V4\",\"V6\"],\n",
    "    [\"V6\"],\n",
    "    [\"V4\"],\n",
    "    None\n",
    "]"
   ]
  },
  {
   "cell_type": "code",
   "execution_count": null,
   "id": "5ef1d4f1",
   "metadata": {},
   "outputs": [],
   "source": [
    "\"\"\" \n",
    "(3)\n",
    "\n",
    "v = Representa el nodo que desencolamos, visitamos y, a sus adyacentes, le restamos 1 a su grado de entrada\n",
    "Cola = Nodos encolados en cada iteración (Solo cuando su grado de entrada sea igual a 0)\n",
    "WHILE = Número de la iteración While not Cola.esta_vacia()\n",
    "\n",
    "    Grados de entrada de Nodos\n",
    "WHILE   v   v0  v1  v2  v3  v4  v5  v6  Cola\n",
    "0       -   1   0   0   2   4   2   2   v1,v2\n",
    "1       v1  1   0   0   1   3   2   2   v2\n",
    "2       v2  0   0   0   1   3   1   2   v0\n",
    "3       v0  0   0   0   0   2   1   2   v3\n",
    "4       v3  0   0   0   0   1   0   1   v5\n",
    "5       v5  0   0   0   0   0   0   1   v4\n",
    "6       v4  0   0   0   0   0   0   0   v6\n",
    "7       v6  0   0   0   0   0   0   0   -\n",
    "\n",
    "Orden Topológico = v1,v2,v0,v3,v5,v4,v6\n",
    "\n",
    "\"\"\""
   ]
  },
  {
   "cell_type": "markdown",
   "id": "2a92157f-8da8-43b4-957d-9ef1beb05ff2",
   "metadata": {
    "editable": false,
    "slideshow": {
     "slide_type": ""
    },
    "tags": []
   },
   "source": [
    "**Ej 4**: Dada la implementación de grafos sobre matriz de adyacencias del primer ejercicio, escribir una función que reciba un grafo y devuelva `True` si el grafo es dirigido o `False` en caso contrario."
   ]
  },
  {
   "cell_type": "code",
   "execution_count": 9,
   "id": "bdc4c4be-7482-49a4-bd24-3571ee054284",
   "metadata": {
    "editable": true,
    "slideshow": {
     "slide_type": ""
    },
    "tags": []
   },
   "outputs": [],
   "source": [
    "def es_dirigido(g: Grafo) -> bool:\n",
    "    return g._dirigido"
   ]
  },
  {
   "cell_type": "code",
   "execution_count": 10,
   "id": "82023474-c262-4331-ba80-e8c62449afcf",
   "metadata": {},
   "outputs": [
    {
     "name": "stderr",
     "output_type": "stream",
     "text": [
      "test_digrafo (__main__.TestGrafoMatriz.test_digrafo) ... ok\n",
      "\n",
      "----------------------------------------------------------------------\n",
      "Ran 1 test in 0.001s\n",
      "\n",
      "OK\n"
     ]
    }
   ],
   "source": [
    "# Tests\n",
    "from unittest import TestCase, main\n",
    "\n",
    "class TestGrafoMatriz(TestCase):\n",
    " \n",
    "    def test_digrafo(self):\n",
    "        digra = Grafo(ponderado=True,dirigido=True)\n",
    "        gra = Grafo(ponderado=True,dirigido=False)\n",
    "        \n",
    "        self.assertTrue(es_dirigido(digra))\n",
    "        self.assertFalse(es_dirigido(gra))\n",
    "\n",
    "\n",
    "\n",
    "test= main(argv=[\"\"],defaultTest=\"TestGrafoMatriz\",verbosity=2, exit=False)"
   ]
  },
  {
   "cell_type": "markdown",
   "id": "910af5dd-4922-4218-bce3-01f801f4f586",
   "metadata": {
    "editable": false,
    "slideshow": {
     "slide_type": ""
    },
    "tags": []
   },
   "source": [
    "**Ej 5**: Dada la implementación de grafos sobre matriz de adyacencias del primer ejercicio, escribir un algoritmo que devuela el grado de entrada de cada vértice como una lista de tuplas."
   ]
  },
  {
   "cell_type": "code",
   "execution_count": 11,
   "id": "a73735af-6a2a-4de0-b0b4-f4c5c1cec33a",
   "metadata": {
    "editable": true,
    "slideshow": {
     "slide_type": ""
    },
    "tags": []
   },
   "outputs": [],
   "source": [
    "def grados_de_entrada(g: Grafo) -> list[tuple[str, int]]:\n",
    "    l = []\n",
    "    for v in g.vertices():\n",
    "        l.append((str(v),g._grado_entrada(v)))\n",
    "    return l"
   ]
  },
  {
   "cell_type": "code",
   "execution_count": 12,
   "id": "289de86f-1492-46b9-b70e-5239f8fc7114",
   "metadata": {
    "editable": true,
    "slideshow": {
     "slide_type": ""
    },
    "tags": []
   },
   "outputs": [
    {
     "name": "stderr",
     "output_type": "stream",
     "text": [
      "test_ponderado_dirigido (__main__.TestGrafoMatriz.test_ponderado_dirigido) ... ok\n",
      "test_ponderado_no_dirigido (__main__.TestGrafoMatriz.test_ponderado_no_dirigido) ... ok\n",
      "\n",
      "----------------------------------------------------------------------\n",
      "Ran 2 tests in 0.002s\n",
      "\n",
      "OK\n"
     ]
    }
   ],
   "source": [
    "# Tests\n",
    "from unittest import TestCase, main\n",
    "\n",
    "class TestGrafoMatriz(TestCase):\n",
    "    def setUp(self) -> None:\n",
    "        pass\n",
    "        \n",
    "\n",
    "\n",
    "    def test_ponderado_dirigido(self):\n",
    "        digra = Grafo(ponderado=True,dirigido=True)\n",
    "        digra.agregar_arista(\"V1\",\"V2\",5)\n",
    "        digra.agregar_arista(\"V2\",\"V3\",7)\n",
    "        digra.agregar_arista(\"V1\",\"V3\",6)\n",
    "        digra.agregar_arista(\"V0\",\"V4\",1)\n",
    "        digra.agregar_arista(\"V0\",\"V1\",6)\n",
    "        digra.agregar_arista(\"V0\",\"V2\",6)\n",
    "        digra.agregar_arista(\"V0\",\"V3\",6)\n",
    "        \n",
    "        self.assertEqual([('V1', 1), ('V2', 2), ('V3', 3), ('V0', 0), ('V4', 1)],grados_de_entrada(digra))\n",
    "\n",
    "    def test_ponderado_no_dirigido(self):\n",
    "        digra = Grafo(ponderado=True,dirigido=False)\n",
    "        digra.agregar_arista(\"V1\",\"V2\",5)\n",
    "        digra.agregar_arista(\"V2\",\"V3\",7)\n",
    "        digra.agregar_arista(\"V1\",\"V3\",6)\n",
    "        digra.agregar_arista(\"V0\",\"V4\",1)\n",
    "        digra.agregar_arista(\"V0\",\"V1\",6)\n",
    "        digra.agregar_arista(\"V0\",\"V2\",6)\n",
    "        digra.agregar_arista(\"V0\",\"V3\",6)\n",
    "        \n",
    "        self.assertEqual([('V1', 3), ('V2', 3), ('V3', 3), ('V0', 4), ('V4', 1)],grados_de_entrada(digra))\n",
    "\n",
    "\n",
    "test= main(argv=[\"\"],defaultTest=\"TestGrafoMatriz\",verbosity=2, exit=False)"
   ]
  },
  {
   "cell_type": "markdown",
   "id": "5d4f7ec7-e0ad-49e5-9e75-655895599660",
   "metadata": {
    "editable": false,
    "slideshow": {
     "slide_type": ""
    },
    "tags": []
   },
   "source": [
    "**Ej 6**: Dada la implementación de grafos sobre matriz de adyacencias del primer ejercicio, implementar el algoritmo de Orden Topológico usando una pila en lugar de una cola. ¿Qué diferencias hay entre usar una pila o una cola para implementar el algoritmo?"
   ]
  },
  {
   "cell_type": "code",
   "execution_count": 31,
   "id": "e5655f09-fae9-4344-a77f-83123da44bdd",
   "metadata": {
    "editable": true,
    "slideshow": {
     "slide_type": ""
    },
    "tags": []
   },
   "outputs": [],
   "source": [
    "from typing import Callable\n",
    "\n",
    "from edd.pila import Pila\n",
    "from edd.cola import Cola\n",
    "\n",
    "\n",
    "\n",
    "def orden_topologico_con_pila(g: Grafo, visitar: Callable[[str], None]) -> None:\n",
    "    pila= Pila()\n",
    "    dic_grados = {e[0]:e[1] for e in grados_de_entrada(g)}\n",
    "    orden = []\n",
    "    for k in dic_grados.keys():\n",
    "        if  dic_grados[k] == 0:\n",
    "            pila.apilar(k)\n",
    "\n",
    "    while not pila.esta_vacia():\n",
    "        v = pila.desapilar()\n",
    "        visitar(v)\n",
    "        \n",
    "        orden.append(v)\n",
    "                \n",
    "        for nodo_ady in g.adyacentes_de(v):\n",
    "            \n",
    "            dic_grados[nodo_ady] -= 1\n",
    "\n",
    "            if dic_grados[nodo_ady] == 0:\n",
    "                pila.apilar(nodo_ady)\n",
    "\n",
    "\n",
    "    if len(orden) != len(g.vertices()):\n",
    "        print(\"Grafo con ciclos.\")\n",
    "    return orden"
   ]
  },
  {
   "cell_type": "code",
   "execution_count": 32,
   "id": "7c3a1240-25a7-429e-9a6f-3bd2f794048e",
   "metadata": {
    "editable": true,
    "slideshow": {
     "slide_type": ""
    },
    "tags": []
   },
   "outputs": [
    {
     "name": "stderr",
     "output_type": "stream",
     "text": [
      "test_orden_topologico (__main__.OrdenTopologicoConPila.test_orden_topologico) ... ok\n",
      "\n",
      "----------------------------------------------------------------------\n",
      "Ran 1 test in 0.001s\n",
      "\n",
      "OK\n"
     ]
    }
   ],
   "source": [
    "# Tests\n",
    "from unittest import TestCase,main\n",
    "def pasar(x):\n",
    "    pass\n",
    "class OrdenTopologicoConPila(TestCase):\n",
    "    def test_orden_topologico(self):\n",
    "        digra = Grafo(ponderado=True,dirigido=True)\n",
    "        digra.agregar_arista(\"V0\",\"V2\",6)\n",
    "        digra.agregar_arista(\"V0\",\"V3\",6)\n",
    "        digra.agregar_arista(\"V0\",\"V4\",1)\n",
    "        digra.agregar_arista(\"V1\",\"V2\",5)\n",
    "        digra.agregar_arista(\"V2\",\"V3\",7)\n",
    "        digra.agregar_arista(\"V1\",\"V3\",6)\n",
    "        digra.agregar_arista(\"V4\",\"V1\",6)\n",
    "        self.assertEqual(orden_topologico_con_pila(digra,pasar),['V0', 'V4', 'V1', 'V2', 'V3'])\n",
    "\n",
    "test = main(argv=[\"\"],defaultTest=\"OrdenTopologicoConPila\",verbosity=2,exit=False)"
   ]
  },
  {
   "cell_type": "markdown",
   "id": "38fdba27-5004-4431-a00e-8305318b531a",
   "metadata": {
    "editable": true,
    "slideshow": {
     "slide_type": ""
    },
    "tags": []
   },
   "source": [
    "Diferencias entre usar pila o cola:"
   ]
  },
  {
   "attachments": {},
   "cell_type": "markdown",
   "id": "28070546-ffda-4931-ae69-0b1bbfb39ad8",
   "metadata": {
    "editable": false,
    "slideshow": {
     "slide_type": ""
    },
    "tags": []
   },
   "source": [
    "**Ej 7**: Dado un grafo dirigido $G$, escribir un algoritmo que calcule $G^T$, donde $G^T$ es el grafo que se obtiene con los mismos vértices de $G$ y revirtiendo las aristas, por ejemplo si en $G$ hay una arista con origen en $A$ y destino $B$, en $G^T$ esa arista tiene origen en $B$ y destino $A$."
   ]
  },
  {
   "cell_type": "code",
   "execution_count": 110,
   "id": "e1fce9bc-c8c5-4ca2-acf4-edcdddffab4f",
   "metadata": {
    "editable": true,
    "slideshow": {
     "slide_type": ""
    },
    "tags": []
   },
   "outputs": [],
   "source": [
    "from edd.grafo import DiGrafo,Vertice,Arista\n",
    "\n",
    "\n",
    "def revertir(g: DiGrafo) -> DiGrafo:\n",
    "    salida = DiGrafo()\n",
    "    for v,w,peso in g.aristas:\n",
    "        salida.agregar_arista(w.id,v.id,peso)\n",
    "    return salida\n",
    "\n"
   ]
  },
  {
   "cell_type": "code",
   "execution_count": 112,
   "id": "31cc8f45-6814-436c-83f0-75b9c308e787",
   "metadata": {
    "editable": true,
    "slideshow": {
     "slide_type": ""
    },
    "tags": []
   },
   "outputs": [
    {
     "name": "stderr",
     "output_type": "stream",
     "text": [
      "test_revert (__main__.TestRevertirDigrafo.test_revert) ... "
     ]
    },
    {
     "name": "stdout",
     "output_type": "stream",
     "text": [
      "B D 9\n",
      "B A 2\n",
      "D A 6\n",
      "C B 3\n",
      "A C -3\n"
     ]
    },
    {
     "data": {
      "image/png": "[encoded data removed]",
      "text/plain": [
       "<Figure size 640x480 with 1 Axes>"
      ]
     },
     "metadata": {},
     "output_type": "display_data"
    },
    {
     "data": {
      "image/png": "[encoded data removed]",
      "text/plain": [
       "<Figure size 640x480 with 1 Axes>"
      ]
     },
     "metadata": {},
     "output_type": "display_data"
    },
    {
     "name": "stderr",
     "output_type": "stream",
     "text": [
      "ok\n",
      "\n",
      "----------------------------------------------------------------------\n",
      "Ran 1 test in 0.223s\n",
      "\n",
      "OK\n"
     ]
    }
   ],
   "source": [
    "# Tests\n",
    "from unittest import TestCase,main\n",
    "\n",
    "class TestRevertirDigrafo(TestCase):\n",
    "    \n",
    "    def test_revert(self):\n",
    "        d1=DiGrafo()\n",
    "        d1.agregar_arista(\"A\",\"B\",2)\n",
    "        d1.agregar_arista(\"B\",\"C\",3)\n",
    "        d1.agregar_arista(\"C\",\"A\",-3)\n",
    "        d1.agregar_arista(\"A\",\"D\",6)\n",
    "        d1.agregar_arista(\"D\",\"B\",9)\n",
    "        d2 = revertir(d1)\n",
    "\n",
    "        for v in d1.vertices:\n",
    "            self.assertTrue(v in d2.vertices)\n",
    "        for a in d2.aristas:\n",
    "            print(a.origen,a.destino,a.peso)\n",
    "            self.assertFalse(a in d1.aristas)\n",
    "        \n",
    "        self.assertNotEqual(d1.aristas,d2.aristas)\n",
    "\n",
    "        d3 = revertir(d2)\n",
    "        self.assertEqual(d1.aristas,d3.aristas)\n",
    "        self.assertEqual(d1.vertices,d3.vertices)\n",
    "        d1.draw()\n",
    "        d2.draw()    \n",
    "        \n",
    "test = main(argv=[\"\"],defaultTest=\"TestRevertirDigrafo\",verbosity=2,exit=False)"
   ]
  },
  {
   "cell_type": "markdown",
   "id": "820fe307-4674-456c-bac2-1a65d128e6ef",
   "metadata": {
    "editable": false,
    "slideshow": {
     "slide_type": ""
    },
    "tags": []
   },
   "source": [
    "**Ej 8**: Agregar un método a la clase `Grafo` dada en clase, que permita eliminar un vértice y todas las aristas que salen o llegan a ese vértice."
   ]
  },
  {
   "cell_type": "code",
   "execution_count": 225,
   "id": "0b5cbf78-de19-4a5d-8443-604936cbcc12",
   "metadata": {
    "editable": true,
    "slideshow": {
     "slide_type": ""
    },
    "tags": []
   },
   "outputs": [
    {
     "data": {
      "image/png": "[encoded data removed]",
      "text/plain": [
       "<Figure size 640x480 with 1 Axes>"
      ]
     },
     "metadata": {},
     "output_type": "display_data"
    },
    {
     "data": {
      "image/png": "[encoded data removed]",
      "text/plain": [
       "<Figure size 640x480 with 1 Axes>"
      ]
     },
     "metadata": {},
     "output_type": "display_data"
    }
   ],
   "source": [
    "from edd.grafo import Grafo\n",
    "\n",
    "\n",
    "def eliminal_vertice(self:Grafo, v: str) -> None:\n",
    "    # v = self._vertices[str(v)]\n",
    "    if self.dirigido:\n",
    "        return\n",
    "    try:\n",
    "        verti=self._vertices.pop(v)\n",
    "        # print(v)\n",
    "        for ady in verti.aristas:\n",
    "            # print(ady)\n",
    "            entrante = Arista(ady.destino,ady.origen,ady.peso)\n",
    "            ady._destino._aristas.remove(entrante)\n",
    "            self._aristas.remove(entrante)\n",
    "            verti._aristas.remove(ady)\n",
    "            self._aristas.remove(ady)  \n",
    "    except KeyError:\n",
    "        print(\"El vertice no se encuentra en el grafo\")\n",
    "d1=Grafo()\n",
    "d1.agregar_arista(\"A\",\"B\",2)\n",
    "d1.agregar_arista(\"B\",\"C\",3)\n",
    "d1.agregar_arista(\"C\",\"A\",-3)\n",
    "d1.agregar_arista(\"A\",\"D\",6)\n",
    "d1.agregar_arista(\"D\",\"B\",9)\n",
    "d1.draw()\n",
    "d1.eliminal_vertice(\"A\")\n",
    "d1.eliminal_vertice(\"D\")\n",
    "\n",
    "d1.draw()\n",
    "d1.eliminal_vertice(\"D\")\n"
   ]
  },
  {
   "cell_type": "code",
   "execution_count": 221,
   "id": "42255580-a5bf-48cd-9bce-a7aab29e4115",
   "metadata": {
    "editable": true,
    "slideshow": {
     "slide_type": ""
    },
    "tags": []
   },
   "outputs": [
    {
     "name": "stderr",
     "output_type": "stream",
     "text": [
      "test_revert (__main__.TestEliminarVertice.test_revert) ... ok\n",
      "\n",
      "----------------------------------------------------------------------\n",
      "Ran 1 test in 0.003s\n",
      "\n",
      "OK\n"
     ]
    },
    {
     "name": "stdout",
     "output_type": "stream",
     "text": [
      "{Arista(Vertice('B'), Vertice('B'), 3), Arista(Vertice('D'), Vertice('D'), 9), Arista(Vertice('C'), Vertice('C'), 3), Arista(Vertice('B'), Vertice('B'), 9)}\n",
      "{Vertice('C'), Vertice('B'), Vertice('D')}\n"
     ]
    }
   ],
   "source": [
    "# Tests\n",
    "from unittest import TestCase,main\n",
    "\n",
    "class TestEliminarVertice(TestCase):\n",
    "    \n",
    "    def test_revert(self):\n",
    "        d1=Grafo()\n",
    "        d1.agregar_arista(\"A\",\"B\",2)\n",
    "        d1.agregar_arista(\"B\",\"C\",3)\n",
    "        d1.agregar_arista(\"C\",\"A\",-3)\n",
    "        d1.agregar_arista(\"A\",\"D\",6)\n",
    "        d1.agregar_arista(\"D\",\"B\",9)\n",
    "\n",
    "        d1.eliminal_vertice(\"A\")\n",
    "        print(d1.aristas)\n",
    "        print(d1.vertices)\n",
    "        #???\n",
    "        # self.assertEqual(d1.aristas,{Arista(\"C\",\"B\",3),Arista(\"B\",\"C\",3),Arista(\"B\",\"D\",9),Arista(\"D\",\"B\",9)})\n",
    "        self.assertEqual(d1.vertices,{Vertice(\"D\"),Vertice(\"C\"),Vertice(\"B\")})\n",
    "        d1.eliminal_vertice(\"B\")\n",
    "        self.assertEqual(d1.aristas,set())\n",
    "        self.assertEqual(d1.vertices,{Vertice(\"D\"),Vertice(\"C\")})\n",
    "        \n",
    "        \n",
    "        \n",
    "test = main(argv=[\"\"],defaultTest=\"TestEliminarVertice\",verbosity=2,exit=False)"
   ]
  },
  {
   "cell_type": "markdown",
   "id": "3f3ef270-b78f-41e3-8201-388c05f8f69a",
   "metadata": {
    "editable": false,
    "slideshow": {
     "slide_type": ""
    },
    "tags": []
   },
   "source": [
    "**Ej 9**: Agregar un método a la clase `DiGrafo` dada en clase, que devuelva `True` si el grafo es acíclico o `False` en caso contrario."
   ]
  },
  {
   "cell_type": "code",
   "execution_count": 232,
   "id": "a9bd2e5a-db48-44be-b5c8-bab5b5be6d26",
   "metadata": {
    "editable": true,
    "slideshow": {
     "slide_type": ""
    },
    "tags": []
   },
   "outputs": [],
   "source": [
    "from edd.grafo import DiGrafo\n",
    "from edd.grafo import GrafoConCicloError\n",
    "\n",
    "def nada(x):\n",
    "    pass\n",
    "def es_dag(self) -> bool:\n",
    "    try:\n",
    "        self.orden_topologico(nada)\n",
    "        return True\n",
    "    except GrafoConCicloError:\n",
    "        return False\n",
    "\n",
    "\n",
    "DiGrafo.es_dag = es_dag\n"
   ]
  },
  {
   "cell_type": "code",
   "execution_count": 233,
   "id": "36220b29-6be7-4780-aba4-2cd088543e1e",
   "metadata": {
    "editable": true,
    "slideshow": {
     "slide_type": ""
    },
    "tags": []
   },
   "outputs": [
    {
     "name": "stderr",
     "output_type": "stream",
     "text": [
      "test_revert (__main__.TestEliminarVertice.test_revert) ... ok\n",
      "\n",
      "----------------------------------------------------------------------\n",
      "Ran 1 test in 0.001s\n",
      "\n",
      "OK\n"
     ]
    }
   ],
   "source": [
    "# Tests\n",
    "from unittest import TestCase,main\n",
    "\n",
    "class TestEliminarVertice(TestCase):\n",
    "    \n",
    "    def test_revert(self):\n",
    "        digra = DiGrafo()\n",
    "        digra.agregar_arista(\"V1\",\"V2\")\n",
    "        self.assertTrue(digra.es_dag())\n",
    "        digra.agregar_arista(\"V2\",\"V3\")\n",
    "        digra.agregar_arista(\"V4\",\"V3\")\n",
    "        self.assertTrue(digra.es_dag())\n",
    "        digra.agregar_arista(\"V3\",\"V1\")\n",
    "        self.assertFalse(digra.es_dag()) \n",
    "        \n",
    "test = main(argv=[\"\"],defaultTest=\"TestEliminarVertice\",verbosity=2,exit=False)"
   ]
  }
 ],
 "metadata": {
  "kernelspec": {
   "display_name": "Python 3 (ipykernel)",
   "language": "python",
   "name": "python3"
  },
  "language_info": {
   "codemirror_mode": {
    "name": "ipython",
    "version": 3
   },
   "file_extension": ".py",
   "mimetype": "text/x-python",
   "name": "python",
   "nbconvert_exporter": "python",
   "pygments_lexer": "ipython3",
   "version": "3.12.5"
  },
  "rise": {
   "start_slideshow_at": "beginning"
  }
 },
 "nbformat": 4,
 "nbformat_minor": 5
}
