{
 "cells": [
  {
   "cell_type": "markdown",
   "metadata": {
    "editable": true,
    "id": "4vzOkTwRYIb9",
    "slideshow": {
     "slide_type": "slide"
    },
    "tags": []
   },
   "source": [
    "<p style=\"text-align: center\">\n",
    "    <img src=\"../../assets/images/untref-logo-negro.svg\" style=\"height: 50px;\" />\n",
    "</p>\n",
    "\n",
    "<h3 style=\"text-align: center\">Estructura de Datos</h3>\n",
    "\n",
    "<h2 style=\"text-align: center\">Clase 3: Introducción a Python</h3>"
   ]
  },
  {
   "cell_type": "markdown",
   "metadata": {
    "editable": true,
    "slideshow": {
     "slide_type": "slide"
    },
    "tags": []
   },
   "source": [
    "## Excepciones\n",
    "\n",
    "Las excepciones son eventos que interrumpen el flujo normal de ejecución de un programa. Cuando ocurre una excepción, Python genera un objeto de excepción que contiene información sobre el evento excepcional. \n",
    "\n",
    "El uso más común de las excepciones es el manejo de errores, por ejemplo cuando se intenta dividir por cero, pero también se utilizan para validar datos, control de flujo del programa y la comunicación entre módulos entre otros usos.\n",
    "\n",
    "Las excepciones se pueden personalizar para que tengan sentido en el contexto del programa. \n",
    "\n",
    "El mecanismo de excepciones nos permite lograr:\n",
    "\n",
    "- **Especificidad:** Permiten capturar errores específicos de la aplicación, proporcionando mensajes de error más claros y útiles.\n",
    "- **Modularidad:** Ayudan a separar la lógica de manejo de errores de la lógica principal del programa.\n",
    "- **Extensibilidad:** Python cuenta con una jerarquía de excepciones que se puede extender para lograr mayor granularidad en el manejo de las mismas."
   ]
  },
  {
   "cell_type": "markdown",
   "metadata": {
    "editable": true,
    "slideshow": {
     "slide_type": "slide"
    },
    "tags": []
   },
   "source": [
    "### Jerarquía de Excepciones\n",
    "\n",
    "- `BaseException`: La clase base de todas las excepciones.\n",
    "- `KeyboardInterrupt`: Se lanza cuando el usuario interrumpe la ejecución de un programa, generalmente presionando las teclas `Ctrl`+`C`.\n",
    "- `SystemExit`: Se lanza cuando el programa termina normalmente. No indica ningún error.\n",
    "- `Exception`: La clase base para las excepciones estándar.\n",
    "    - `TypeError`: Se genera cuando se utiliza un objeto de un tipo incorrecto.\n",
    "    - `ValueError`: Se genera cuando se pasa un argumento con un valor válido pero inapropiado.\n",
    "    - `ZeroDivisionError`: Se genera cuando se intenta dividir por cero.\n",
    "    - `IndexError`: Se genera cuando se intenta acceder a un elemento de una secuencia utilizando un índice fuera de rango.\n",
    "    - `KeyError`: Se genera cuando se intenta acceder a un elemento de un diccionario utilizando una clave que no existe.\n",
    "    - `OSError`: Subclase de `Exception` para errores del sistema operativo.\n",
    "\n",
    "[Jerarquías de excepciones en Python](https://docs.python.org/es/3/library/exceptions.html#exception-hierarchy)"
   ]
  },
  {
   "cell_type": "markdown",
   "metadata": {
    "editable": true,
    "slideshow": {
     "slide_type": "slide"
    },
    "tags": []
   },
   "source": [
    "### Manejo de Excepciones\n",
    "\n",
    "La instrucción para atrapar y manejar excepciones es:\n",
    "\n",
    "```python\n",
    "try:\n",
    "    <sentencias>    # Bloque principal\n",
    "except Excepcion1:\n",
    "    <sentencias>    # Si se produce una Excepcion1\n",
    "except (Excepcion2, Excepcion3):\n",
    "    <sentencias>    # Si se produce alguna de la lista \n",
    "except Excepcion4 as var:\n",
    "    <sentencias>    # La instancia queda ligada a var\n",
    "except:\n",
    "    <sentencias>    # Si se produce una excepción no listada\n",
    "else:\n",
    "    <sentencias>    # Si no hay excepciones en el bloque principal\n",
    "finally:\n",
    "     <sentencias>   # Se ejecuta siempre\n",
    "``` "
   ]
  },
  {
   "cell_type": "markdown",
   "metadata": {
    "editable": true,
    "slideshow": {
     "slide_type": "subslide"
    },
    "tags": []
   },
   "source": [
    "#### Ejemplo de uso\n",
    "\n",
    "<font color=\"red\">\n",
    "    \n",
    "**Ejecutar el siguiente fragmento en una consola, porque Jupyter deshabilita `KeyboardInterrupt`**\n",
    "\n",
    "</font>\n",
    "\n",
    "``` python\n",
    "def leer_enteros(mensaje):\n",
    "    numeros_leidos = []\n",
    "    try:\n",
    "        while True:\n",
    "            try:\n",
    "                n = input(mensaje + \" Ctrl-C para finalizar: \")\n",
    "                n = int(n)\n",
    "                numeros_leidos.append(n)\n",
    "            except ValueError:\n",
    "                print(\"Debes ingresar un número entero, intentalo de nuevo\")\n",
    "            except KeyboardInterrupt:\n",
    "                break\n",
    "    finally:\n",
    "        return numeros_leidos\n",
    "\n",
    "if __name__ == '__main__':\n",
    "    n = leer_enteros(\"Ingresa un entero\")\n",
    "    print(n)\n",
    "``` "
   ]
  },
  {
   "cell_type": "markdown",
   "metadata": {
    "editable": true,
    "slideshow": {
     "slide_type": "subslide"
    },
    "tags": []
   },
   "source": [
    "#### Ejemplo de uso de la cláusula else"
   ]
  },
  {
   "cell_type": "code",
   "execution_count": 2,
   "metadata": {
    "editable": true,
    "slideshow": {
     "slide_type": "fragment"
    },
    "tags": []
   },
   "outputs": [
    {
     "name": "stdout",
     "output_type": "stream",
     "text": [
      "(inf, 0)\n"
     ]
    }
   ],
   "source": [
    "import math\n",
    "\n",
    "\n",
    "def dividir(a, b):\n",
    "    try:\n",
    "        cociente = a // b\n",
    "    except ZeroDivisionError:\n",
    "        cociente = math.inf\n",
    "        resto = 0\n",
    "    else:\n",
    "        resto = a % b\n",
    "    return cociente, resto\n",
    "\n",
    "\n",
    "if __name__ == \"__main__\":\n",
    "    print(dividir(30, 0))"
   ]
  },
  {
   "cell_type": "markdown",
   "metadata": {
    "editable": true,
    "slideshow": {
     "slide_type": "fragment"
    },
    "tags": []
   },
   "source": [
    "Probar en [pythontutor.com](https://pythontutor.com/render.html#code=import%20math%0Adef%20dividir%28a,%20b%29%3A%0A%20%20%20%20try%3A%0A%20%20%20%20%20%20%20%20cociente%20%3D%20a%20//%20b%0A%20%20%20%20except%20ZeroDivisionError%3A%0A%20%20%20%20%20%20%20%20cociente%20%3D%20math.inf%0A%20%20%20%20%20%20%20%20resto%20%3D%200%0A%20%20%20%20else%3A%0A%20%20%20%20%20%20%20%20resto%20%3D%20a%20%25%20b%0A%20%20%20%20return%20cociente,%20resto%0A%20%20%20%20%0Aprint%28dividir%2830,%207%29%29&cumulative=false&curInstr=0&heapPrimitives=nevernest&mode=display&origin=opt-frontend.js&py=3&rawInputLstJSON=%5B%5D&textReferences=false)"
   ]
  },
  {
   "cell_type": "markdown",
   "metadata": {
    "editable": true,
    "slideshow": {
     "slide_type": "slide"
    },
    "tags": []
   },
   "source": [
    "### Lanzar Excepciones\n",
    "\n",
    "La instrucción `raise` en Python se utiliza para lanzar una excepción de forma explícita. Esto es útil en diversas situaciones, a continuación algunos ejemplos\n",
    "\n",
    "- **Cuando una condición no se cumple:** Si una función recibe un argumento inválido o si una condición crítica no se satisface, se puede lanzar una excepción para indicar que no se puede continuar y detener la ejecución normal del programa. Es responsablidad del que llamó la función manejar la excepción.\n",
    "- **Para crear excepciones personalizadas:** Se puede crear clases de excepciones propias para representar errores específicos nuestro programa, proporcionando información más detallada sobre el problema.\n",
    "- **Para relanzar una excepción:** Se puede capturar una excepción, realizar alguna acción y luego relanzarla con un mensaje más específico o con una excepción diferente.\n",
    "\n",
    "#### Cuando no lanzar excepciones\n",
    "\n",
    "- **Para controlar el flujo normal del programa:** Se deben utlilizar las estructuras de control como if, else y while para controlar el flujo de ejecución.\n",
    "- **Para errores que se pueden manejar localmente:** Si un error es específico de nuestro programa y lo podemos resolver, entonces no hace falta lanzar una excepción."
   ]
  },
  {
   "cell_type": "code",
   "execution_count": 3,
   "metadata": {
    "editable": true,
    "slideshow": {
     "slide_type": "subslide"
    },
    "tags": []
   },
   "outputs": [
    {
     "name": "stdout",
     "output_type": "stream",
     "text": [
      "Te voy a lanzar una excepción... Atrapala si podés\n",
      "f2 No puede manejar ninguna excepción\n",
      "f3 tampoco puede manejar MiExcepcion\n",
      "Error en f1\n",
      "La atrape en main\n"
     ]
    }
   ],
   "source": [
    "class MiExcepcion(Exception):\n",
    "    pass\n",
    "def f1():\n",
    "    print(\"Te voy a lanzar una excepción... Atrapala si podés\")\n",
    "    raise MiExcepcion(\"Error en f1\")\n",
    "def f2():\n",
    "    try:\n",
    "        f1()\n",
    "    except:  # Muy mala practica atrapar cualquier excepción\n",
    "        print(\"f2 No puede manejar ninguna excepción\")\n",
    "        raise\n",
    "def f3():\n",
    "    try:\n",
    "        f2()\n",
    "    except TypeError as e:\n",
    "        print(e)\n",
    "    finally:\n",
    "        print(\"f3 tampoco puede manejar MiExcepcion\")\n",
    "# Módulo Global\n",
    "try:\n",
    "    f3()\n",
    "except MiExcepcion as e:\n",
    "    print(e)\n",
    "    print(\"La atrape en main\")"
   ]
  },
  {
   "cell_type": "markdown",
   "metadata": {
    "editable": true,
    "slideshow": {
     "slide_type": "fragment"
    },
    "tags": []
   },
   "source": [
    "Ver en [pythontutor.com](https://pythontutor.com/render.html#code=class%20MiExcepcion%28Exception%29%3A%0A%20%20%20%20pass%0A%0Adef%20f1%28%29%3A%0A%20%20%20%20print%28%22Te%20voy%20a%20lanzar%20una%20excepci%C3%B3n....Atrapala%20si%20pod%C3%A9s%22%29%0A%20%20%20%20raise%20MiExcepcion%28%22Error%20en%20f1%22%29%0A%0Adef%20f2%28%29%3A%0A%20%20%20%20try%3A%0A%20%20%20%20%20%20%20%20f1%28%29%0A%20%20%20%20except%3A%20%23Muy%20mala%20practica%20atrapar%20cualquier%20excepci%C3%B3n%0A%20%20%20%20%20%20%20%20print%28%22f2%20No%20puede%20manejar%20ninguna%20excepci%C3%B3n%22%29%0A%20%20%20%20%20%20%20%20raise%0A%0Adef%20f3%28%29%3A%0A%20%20%20%20try%3A%0A%20%20%20%20%20%20%20%20f2%28%29%0A%20%20%20%20except%20TypeError%20as%20e%3A%0A%20%20%20%20%20%20%20%20print%28e%29%0A%20%20%20%20finally%3A%0A%20%20%20%20%20%20%20%20print%28%22f3%20tampoco%20puede%20manejar%20MiExcepcion%22%29%0A%0A%23M%C3%B3dulo%20Global%0Atry%3A%0A%20%20%20%20f3%28%29%0Aexcept%20MiExcepcion%20as%20e%3A%0A%20%20%20%20print%28e%29%0A%20%20%20%20print%28%22La%20atrape%20en%20main%22%29&cumulative=false&curInstr=0&heapPrimitives=nevernest&mode=display&origin=opt-frontend.js&py=3&rawInputLstJSON=%5B%5D&textReferences=false)"
   ]
  },
  {
   "cell_type": "markdown",
   "metadata": {
    "editable": true,
    "slideshow": {
     "slide_type": "slide"
    },
    "tags": []
   },
   "source": [
    "## Archivos\n",
    "\n",
    "Python ofrece una amplia gama de herramientas para trabajar con archivos, desde simples operaciones de lectura y escritura hasta tareas más complejas como la modificación de su contenido"
   ]
  },
  {
   "cell_type": "markdown",
   "metadata": {
    "editable": true,
    "slideshow": {
     "slide_type": "subslide"
    },
    "tags": []
   },
   "source": [
    "### Abrir Archivos\n",
    "\n",
    "La función open, incorporada en el lenguaje, nos permite abrir un archivo para manipularlo\n",
    "\n",
    "```python\n",
    "open(file, mode='r', buffering=-1, encoding=None, errors=None, newline=None, closefd=True, opener=None)\n",
    "```\n",
    "Los principales parámetros son:\n",
    "\n",
    "- `file`: Es el nombre del archivo, puede ser el path absoluto o relativo a un archivo en disco\n",
    "- `mode`: Es el modo de apertura:\n",
    "    - `'r'`: Sólo lectura (por defecto)\n",
    "    - `'w'`: Escritura (si el archivo ya tenía datos, los sobreescribe)\n",
    "    - `'a'`: Append, anexa los datos al final del mismo\n",
    "    - `'x'`: Crear un archivo nuevo (lanza una excepción si el archivo ya existe)"
   ]
  },
  {
   "cell_type": "code",
   "execution_count": 4,
   "metadata": {
    "editable": true,
    "slideshow": {
     "slide_type": "subslide"
    },
    "tags": []
   },
   "outputs": [],
   "source": [
    "salida = open(\"archivo.txt\", mode=\"w\", encoding=\"utf-8\")\n",
    "salida.write(\"Con utf-8 podemos escribir en español con la letra ñ y vocales con tilde.\\n\")\n",
    "salida.write(\"Por ejemplo canción y Ñandú.\")\n",
    "salida.close()"
   ]
  },
  {
   "cell_type": "markdown",
   "metadata": {
    "editable": true,
    "slideshow": {
     "slide_type": "fragment"
    },
    "tags": []
   },
   "source": [
    "Después de procesar un archivo es importante cerrarlo, para liberar el recurso del sistema operativo y para asegurarse que todas las operaciones de escrituras se bajan efectivamente al disco.\n",
    "\n",
    "Para cerrar un archivo se usa la función `close()`\n",
    "\n",
    "Ver [archivo.txt](./archivo.txt)"
   ]
  },
  {
   "cell_type": "markdown",
   "metadata": {
    "editable": true,
    "slideshow": {
     "slide_type": "subslide"
    },
    "tags": []
   },
   "source": [
    "### Leer Archivos"
   ]
  },
  {
   "cell_type": "code",
   "execution_count": 5,
   "metadata": {
    "editable": true,
    "slideshow": {
     "slide_type": "fragment"
    },
    "tags": []
   },
   "outputs": [],
   "source": [
    "fd = open(\"archivo.txt\", encoding=\"utf-8\")"
   ]
  },
  {
   "cell_type": "markdown",
   "metadata": {
    "editable": true,
    "slideshow": {
     "slide_type": "fragment"
    },
    "tags": []
   },
   "source": [
    "<p style=\"text-align: center\">\n",
    "    <img src=\"./figuras/disco-buffer-programa.svg\" />\n",
    "</p>"
   ]
  },
  {
   "cell_type": "code",
   "execution_count": 6,
   "metadata": {
    "editable": true,
    "slideshow": {
     "slide_type": "subslide"
    },
    "tags": []
   },
   "outputs": [
    {
     "name": "stdout",
     "output_type": "stream",
     "text": [
      "['Con utf-8 podemos escribir en español con la letra ñ y vocales con tilde.\\n', 'Por ejemplo canción y Ñandú.']\n"
     ]
    }
   ],
   "source": [
    "print(fd.readlines())  # Lee todas las líneas del archivo y devuelve una lista de cadenas de caracteres"
   ]
  },
  {
   "cell_type": "code",
   "execution_count": 7,
   "metadata": {
    "editable": true,
    "slideshow": {
     "slide_type": "fragment"
    },
    "tags": []
   },
   "outputs": [
    {
     "name": "stdout",
     "output_type": "stream",
     "text": [
      "Con utf-8 podemos escribir en español con la letra ñ y vocales con tilde.\n",
      "\n"
     ]
    }
   ],
   "source": [
    "fd.seek(0)  # Se posiciona al inicio del archivo\n",
    "print(fd.readline())  # Lee una sola línea del archivo)"
   ]
  },
  {
   "cell_type": "code",
   "execution_count": 8,
   "metadata": {
    "editable": true,
    "slideshow": {
     "slide_type": "fragment"
    },
    "tags": []
   },
   "outputs": [
    {
     "name": "stdout",
     "output_type": "stream",
     "text": [
      "Por\n"
     ]
    }
   ],
   "source": [
    "print(fd.read(3))  # Lee 3 caracteres desde la posición actual en el buffer"
   ]
  },
  {
   "cell_type": "code",
   "execution_count": 9,
   "metadata": {
    "editable": true,
    "slideshow": {
     "slide_type": "fragment"
    },
    "tags": []
   },
   "outputs": [
    {
     "name": "stdout",
     "output_type": "stream",
     "text": [
      " ejemplo canción y Ñandú.\n"
     ]
    }
   ],
   "source": [
    "print(fd.read())  # Lee hasta el final\n",
    "fd.close()"
   ]
  },
  {
   "cell_type": "markdown",
   "metadata": {
    "editable": true,
    "slideshow": {
     "slide_type": "subslide"
    },
    "tags": []
   },
   "source": [
    "### Escribir Archivos"
   ]
  },
  {
   "cell_type": "code",
   "execution_count": 10,
   "metadata": {
    "editable": true,
    "slideshow": {
     "slide_type": "fragment"
    },
    "tags": []
   },
   "outputs": [],
   "source": [
    "fd = open(\"archivo.txt\", mode=\"a\", encoding=\"utf-8\")\n",
    "lista = [\"\\ntercera línea\\n\", \"cuarta línea\"]\n",
    "fd.writelines(lista)\n",
    "fd.close()"
   ]
  },
  {
   "cell_type": "markdown",
   "metadata": {
    "editable": true,
    "slideshow": {
     "slide_type": "subslide"
    },
    "tags": []
   },
   "source": [
    "### Manejo de Excepciones\n",
    "\n",
    "Estas son algunas de las excepciones que se pueden producir al manipular un archivo\n",
    "\n",
    "#### Apertura de archivo\n",
    "\n",
    "- `FileNotFoundError`: El archivo no existe o no se encuentra en la ruta especificada.\n",
    "- `PermissionError`: Ocurre cuando no tenemos los permisos de lectura y/o escritura que correspondan.\n",
    "- `IsADirectoryError`: Se intenta abrir un directorio como si fuera un archivo.\n",
    "- `OSError`: Errores generalmente vinculados al sistema operativo. Por ejemplo disco defectuoso.\n",
    "\n",
    "#### Lectura y Escritura\n",
    "\n",
    "- `IOError`: Excepción general de entrada / salida, que puede ocurrir durante la lectura o escritura de un archivo (por ejemplo disco lleno).\n",
    "- `UniceodeEncodeError`: Se lanza cuando se intenta codificar un caracter que no soporta la codificación especificada al abrir el archivo.\n",
    "- `UnicodeDecodeError`: Se lanza cuando se encontró en el archivo un byte que no se puede decodificar la codificación especificad."
   ]
  },
  {
   "cell_type": "markdown",
   "metadata": {
    "editable": true,
    "slideshow": {
     "slide_type": "subslide"
    },
    "tags": []
   },
   "source": [
    "#### Entorno Seguro para Manipular Archivos\n",
    "\n",
    "En Python, la sentencia `with` proporciona un mecanismo elegante y seguro para trabajar con recursos, especialmente archivos. Este contexto de gestión de recursos garantiza que un recurso (como un archivo) se cierre correctamente, incluso si se produce una excepción durante su uso."
   ]
  },
  {
   "cell_type": "code",
   "execution_count": 11,
   "metadata": {
    "editable": true,
    "scrolled": true,
    "slideshow": {
     "slide_type": "fragment"
    },
    "tags": []
   },
   "outputs": [
    {
     "name": "stdout",
     "output_type": "stream",
     "text": [
      "Con utf-8 podemos escribir en espaÃ±ol con la letra Ã± y vocales con tilde.\n",
      "Por ejemplo canciÃ³n y Ã‘andÃº.\n",
      "tercera lÃ­nea\n",
      "cuarta lÃ­nea\n"
     ]
    }
   ],
   "source": [
    "archivo = open(\"archivo.txt\", \"r\")\n",
    "\n",
    "try:\n",
    "    contenido = archivo.read()\n",
    "    print(contenido)\n",
    "finally:\n",
    "    archivo.close()"
   ]
  },
  {
   "cell_type": "code",
   "execution_count": 12,
   "metadata": {
    "editable": true,
    "scrolled": true,
    "slideshow": {
     "slide_type": "fragment"
    },
    "tags": []
   },
   "outputs": [
    {
     "name": "stdout",
     "output_type": "stream",
     "text": [
      "Con utf-8 podemos escribir en espaÃ±ol con la letra Ã± y vocales con tilde.\n",
      "Por ejemplo canciÃ³n y Ã‘andÃº.\n",
      "tercera lÃ­nea\n",
      "cuarta lÃ­nea\n"
     ]
    }
   ],
   "source": [
    "with open(\"archivo.txt\", \"r\") as archivo:\n",
    "    contenido = archivo.read()\n",
    "    print(contenido)"
   ]
  },
  {
   "cell_type": "markdown",
   "metadata": {
    "editable": true,
    "slideshow": {
     "slide_type": "subslide"
    },
    "tags": []
   },
   "source": [
    "### Manipulación de Directorios\n",
    "\n",
    "El módulo `os` provee de varias funciones para manipular directorios\n",
    "\n",
    "#### Creación y Eliminación\n",
    "- `os.mkdir(path)`: Crea un nuevo directorio en la ruta especificada.\n",
    "- `os.makedirs(path)`: Crea un directorio y todos sus directorios padres si no existen.\n",
    "- `os.rmdir(path)`: Elimina un directorio vacío.\n",
    "- `os.removedirs(path)`: Elimina un directorio y todos sus subdirectorios vacíos, hasta un directorio padre no vacío.\n",
    "\n",
    "#### Obtención de Información\n",
    "- `os.listdir(path)`: Devuelve una lista de los nombres de los archivos y subdirectorios en el directorio especificado.\n",
    "- `os.path.getsize(path)`: Devuelve el tamaño en bytes del archivo o directorio especificado.\n",
    "- `os.stat(path)`: Devuelve un objeto os.stat con información detallada sobre el archivo o directorio, como permisos, fecha de modificación, etc.\n",
    "- `os.getcwd()`: Devuelve el directorio de trabajo actual en el que estamos parado"
   ]
  },
  {
   "cell_type": "markdown",
   "metadata": {
    "editable": true,
    "slideshow": {
     "slide_type": "subslide"
    },
    "tags": []
   },
   "source": [
    "#### Cambio de Directorio\n",
    "\n",
    "- `os.chdir(path)`: Cambia el directorio de trabajo al directorio especificado\n",
    "\n",
    "#### Renombrar y Eliminar Archivos\n",
    "\n",
    "- `os.move(src, dst)`: Renombra el archivo `src` por `dst`\n",
    "- `os.remove(path)`: Elimina un archivo\n",
    "\n",
    "#### Otras Funciones Útiles\n",
    "\n",
    "- `os.walk(top)`: Recorre recursivamente un directorio y sus subdirectorios, generando tuplas de la forma `(directorio, subdirectorios, archivos)`\n",
    "- `os.path.join(path1, path2)`: Combina varios componentes en una única ruta. Tiene la ventaja el path asi generado funciona independientemente del sistema operativo donde se está ejecutando el programa\n",
    "- `os.path.split(path)`: La operación inversa de la anterior. Divide una ruta en directorios y nombre de archivo"
   ]
  },
  {
   "cell_type": "code",
   "execution_count": 13,
   "metadata": {
    "editable": true,
    "slideshow": {
     "slide_type": "subslide"
    },
    "tags": []
   },
   "outputs": [
    {
     "name": "stdout",
     "output_type": "stream",
     "text": [
      "..\\..\\..\\edd\\Clases\\Clase 3 - Introducción a Python\n"
     ]
    },
    {
     "ename": "FileNotFoundError",
     "evalue": "[WinError 3] El sistema no puede encontrar la ruta especificada: '..\\\\..\\\\..\\\\edd\\\\Clases\\\\Clase 3 - Introducción a Python'",
     "output_type": "error",
     "traceback": [
      "\u001b[1;31m---------------------------------------------------------------------------\u001b[0m",
      "\u001b[1;31mFileNotFoundError\u001b[0m                         Traceback (most recent call last)",
      "Cell \u001b[1;32mIn[13], line 12\u001b[0m\n\u001b[0;32m      2\u001b[0m path \u001b[38;5;241m=\u001b[39m os\u001b[38;5;241m.\u001b[39mpath\u001b[38;5;241m.\u001b[39mjoin(\n\u001b[0;32m      3\u001b[0m     \u001b[38;5;124m\"\u001b[39m\u001b[38;5;124m..\u001b[39m\u001b[38;5;124m\"\u001b[39m,\n\u001b[0;32m      4\u001b[0m     \u001b[38;5;124m\"\u001b[39m\u001b[38;5;124m..\u001b[39m\u001b[38;5;124m\"\u001b[39m,\n\u001b[1;32m   (...)\u001b[0m\n\u001b[0;32m      8\u001b[0m     \u001b[38;5;124m\"\u001b[39m\u001b[38;5;124mClase 3 - Introducción a Python\u001b[39m\u001b[38;5;124m\"\u001b[39m,\n\u001b[0;32m      9\u001b[0m )\n\u001b[0;32m     10\u001b[0m \u001b[38;5;28mprint\u001b[39m(path)\n\u001b[1;32m---> 12\u001b[0m path \u001b[38;5;241m=\u001b[39m \u001b[43mos\u001b[49m\u001b[38;5;241;43m.\u001b[39;49m\u001b[43mchdir\u001b[49m\u001b[43m(\u001b[49m\u001b[43mpath\u001b[49m\u001b[43m)\u001b[49m\n\u001b[0;32m     13\u001b[0m \u001b[38;5;28mprint\u001b[39m(os\u001b[38;5;241m.\u001b[39mgetcwd())\n",
      "\u001b[1;31mFileNotFoundError\u001b[0m: [WinError 3] El sistema no puede encontrar la ruta especificada: '..\\\\..\\\\..\\\\edd\\\\Clases\\\\Clase 3 - Introducción a Python'"
     ]
    }
   ],
   "source": [
    "import os\n",
    "path = os.path.join(\n",
    "    \"..\",\n",
    "    \"..\",\n",
    "    \"..\",\n",
    "    \"edd\",\n",
    "    \"Clases\",\n",
    "    \"Clase 3 - Introducción a Python\",\n",
    ")\n",
    "print(path)\n",
    "\n",
    "path = os.chdir(path)\n",
    "print(os.getcwd())"
   ]
  },
  {
   "cell_type": "code",
   "execution_count": 14,
   "metadata": {
    "editable": true,
    "slideshow": {
     "slide_type": "subslide"
    },
    "tags": []
   },
   "outputs": [
    {
     "name": "stdout",
     "output_type": "stream",
     "text": [
      "['mi_archivo.txt']\n"
     ]
    }
   ],
   "source": [
    "# Crear un nuevo directorio\n",
    "os.mkdir(\"nuevo_directorio\")\n",
    "\n",
    "# Cambiar al directorio recién creado\n",
    "os.chdir(\"nuevo_directorio\")\n",
    "\n",
    "# Crear un archivo\n",
    "with open(\"mi_archivo.txt\", \"w\") as f:\n",
    "    f.write(\"Hola, mundo!\")\n",
    "\n",
    "# Obtener una lista de los archivos en el directorio actual\n",
    "archivos = os.listdir()\n",
    "print(archivos)"
   ]
  },
  {
   "cell_type": "code",
   "execution_count": 15,
   "metadata": {
    "editable": true,
    "slideshow": {
     "slide_type": "fragment"
    },
    "tags": []
   },
   "outputs": [
    {
     "name": "stdout",
     "output_type": "stream",
     "text": [
      "Borrando mi_archivo.txt\n",
      "c:\\Users\\ignac\\ws-edd\\guia2\\clase2\n",
      "Borrando nuevo_directorio\n"
     ]
    }
   ],
   "source": [
    "# Eliminar el archivo\n",
    "for arch in archivos:\n",
    "    print(\"Borrando \" + arch)\n",
    "    os.remove(arch)\n",
    "\n",
    "os.chdir(\"..\")\n",
    "print(os.getcwd())\n",
    "\n",
    "# Eliminar el directorio (si está vacío)\n",
    "print(\"Borrando nuevo_directorio\")\n",
    "os.rmdir(\"nuevo_directorio\")"
   ]
  },
  {
   "cell_type": "markdown",
   "metadata": {
    "editable": true,
    "slideshow": {
     "slide_type": "slide"
    },
    "tags": []
   },
   "source": [
    "## Persistencia\n",
    "\n",
    "La _**persistencia**_ es la acción de conservar la información un objeto de forma permanente, pero también de recuperarla. Para lograrlo se deben _**serializar**_ los objetos. La serialización de un objeto consiste en generar una secuencia de bytes para su almacenamiento. Después mediante la deserialización, el estado original del objeto se puede reconstruir.\n",
    "\n",
    "Algunos módulos de python para serializar y guardar objetos:\n",
    "\n",
    "- `pickle`: Serializa unos cuantos objetos de Python desde y a una cadena de bytes.\n",
    "- `dill`: Serializa objetos arbitrarios de Python dese y a una cadena de bytes (extiende `pickle`). Hay que instalarla de https://pypi.python.org/pypi/dill\n",
    "- `json`: Serializa algunas clases básicas. Es interoperable con otros lenguajes.\n",
    "- `shelve`: Utiliza los módulos pickle y dbm para almacenar objetos de Python en un archivo accesible por claves. \n",
    "\n",
    "Otra biblioteca disponible:\n",
    "\n",
    "- `dbm`: Implementa un sistema de archivos accesible por claves para almacenar cadenas."
   ]
  },
  {
   "cell_type": "markdown",
   "metadata": {
    "editable": true,
    "slideshow": {
     "slide_type": "subslide"
    },
    "tags": []
   },
   "source": [
    "### `pickle`\n",
    "\n",
    "- Puede manipular muchas clases de objetos: listas, diccionarios, instancias de clases.\n",
    "- El _pickle_ resultante (una cadena de caracteres) se puede salvar en disco para ser leído más adelante (y de esa manera recuperar el objeto original).\n",
    "- No es interoperable con otros lenguajes.\n",
    "- Constituye una brecha de seguridad cuando se usa fuera del ámbito de una computadora privada (en redes o en Internet, por ejemplo). \n",
    "\n",
    "Se puede hacer un pickle con:\n",
    "\n",
    "- `None`, `True`, `False`.\n",
    "- Enteros, números en punto flotante y complejos.\n",
    "- Cadenas, bytes, array de bytes, tuplas, listas y diccionarios que contienen sólo objetos con los que se puede hacer un pickle.\n",
    "- Funciones definidas en el nivel más externo de un módulo (usando def y no lambda).\n",
    "- Clases (con algunas limitaciones) definidas en el nivel más externo de un módulo"
   ]
  },
  {
   "cell_type": "code",
   "execution_count": 42,
   "metadata": {
    "editable": true,
    "slideshow": {
     "slide_type": "subslide"
    },
    "tags": []
   },
   "outputs": [
    {
     "name": "stdout",
     "output_type": "stream",
     "text": [
      "b'\\x80\\x04\\x955\\x00\\x00\\x00\\x00\\x00\\x00\\x00\\x8c\\x08__main__\\x94\\x8c\\x07Persona\\x94\\x93\\x94)\\x81\\x94}\\x94\\x8c\\x06nombre\\x94\\x8c\\n'\n",
      "\n",
      "b'Ana Suarez\\x94sb.\\x80\\x04\\x955\\x00\\x00\\x00\\x00\\x00\\x00\\x00\\x8c\\x08__main__\\x94\\x8c\\x07Persona\\x94\\x93\\x94)\\x81\\x94}\\x94\\x8c\\x06nombre\\x94\\x8c\\n'\n",
      "\n",
      "b'Juan Perez\\x94sb.\\x80\\x04\\x958\\x00\\x00\\x00\\x00\\x00\\x00\\x00\\x8c\\x08__main__\\x94\\x8c\\x07Persona\\x94\\x93\\x94)\\x81\\x94}\\x94\\x8c\\x06nombre\\x94\\x8c\\rCarla Sanchez\\x94sb.'\n",
      "\n"
     ]
    }
   ],
   "source": [
    "import pickle\n",
    "class Persona:\n",
    "    def __init__(self, nombre):\n",
    "        self.nombre = nombre\n",
    "\n",
    "    def __str__(self):\n",
    "        return self.nombre\n",
    "if __name__ == \"__main__\":\n",
    "    ana = Persona(\"Ana Suarez\")\n",
    "    juan = Persona(\"Juan Perez\")\n",
    "    carla = Persona(\"Carla Sanchez\")\n",
    "\n",
    "    with open(\"personas.p\", \"wb\") as contenedor:\n",
    "        pickle.dump(ana, contenedor)\n",
    "        pickle.dump(juan, contenedor)\n",
    "        pickle.dump(carla, contenedor)\n",
    "\n",
    "    with open(\"personas.p\", \"rb\") as contenedor:\n",
    "        for linea in contenedor:\n",
    "            print(linea)\n",
    "            print()"
   ]
  },
  {
   "cell_type": "code",
   "execution_count": 43,
   "metadata": {
    "editable": true,
    "slideshow": {
     "slide_type": "subslide"
    },
    "tags": []
   },
   "outputs": [
    {
     "name": "stdout",
     "output_type": "stream",
     "text": [
      "{('a', 'b'): 'hola'}\n"
     ]
    }
   ],
   "source": [
    "import pickle\n",
    "\n",
    "d = {(\"a\", \"b\"): \"hola\"}\n",
    "\n",
    "with open(\"temp.p\", \"wb\") as contenedor:\n",
    "    pickle.dump(d, contenedor)\n",
    "\n",
    "with open(\"temp.p\", \"rb\") as contenedor:\n",
    "    d = pickle.load(contenedor)\n",
    "\n",
    "print(d)"
   ]
  },
  {
   "cell_type": "code",
   "execution_count": 44,
   "metadata": {
    "editable": true,
    "slideshow": {
     "slide_type": "fragment"
    },
    "tags": []
   },
   "outputs": [
    {
     "name": "stdout",
     "output_type": "stream",
     "text": [
      "Ana Suarez\n",
      "Juan Perez\n",
      "Carla Sanchez\n"
     ]
    }
   ],
   "source": [
    "lista = []\n",
    "\n",
    "with open(\"personas.p\", \"rb\") as contenedor:\n",
    "    try:\n",
    "        while contenedor:\n",
    "            obj = pickle.load(contenedor)\n",
    "            lista.append(obj)\n",
    "    except EOFError:\n",
    "        pass\n",
    "    except:\n",
    "        raise\n",
    "\n",
    "for p in lista:\n",
    "    print(p)"
   ]
  },
  {
   "cell_type": "code",
   "execution_count": 45,
   "metadata": {
    "editable": true,
    "slideshow": {
     "slide_type": "subslide"
    },
    "tags": []
   },
   "outputs": [],
   "source": [
    "class Persona:\n",
    "    \"\"\"\n",
    "    Nueva versión de la clase Persona, se agrega el atributo dni\n",
    "    y el método get_dni\n",
    "    \"\"\"\n",
    "\n",
    "    def __init__(self, nombre, dni=\"\"):\n",
    "        self.nombre = nombre\n",
    "        self.dni = \"\"\n",
    "\n",
    "    def __str__(self):\n",
    "        return self.nombre\n",
    "\n",
    "    def get_dni(self):\n",
    "        return self.dni"
   ]
  },
  {
   "cell_type": "code",
   "execution_count": 46,
   "metadata": {
    "editable": true,
    "slideshow": {
     "slide_type": "subslide"
    },
    "tags": []
   },
   "outputs": [
    {
     "name": "stdout",
     "output_type": "stream",
     "text": [
      "nombre: Ana Suarez\n"
     ]
    }
   ],
   "source": [
    "lista = []\n",
    "\n",
    "with open(\"personas.p\", \"rb\") as contenedor:\n",
    "    try:\n",
    "        while contenedor:\n",
    "            obj = pickle.load(contenedor)\n",
    "            lista.append(obj)\n",
    "    except EOFError:\n",
    "        pass\n",
    "    except:\n",
    "        raise\n",
    "\n",
    "ana = lista[0]\n",
    "juan = lista[1]\n",
    "carla = lista[2]\n",
    "\n",
    "for atributo, valor in vars(ana).items():\n",
    "    print(atributo + \": \" + valor)"
   ]
  },
  {
   "cell_type": "code",
   "execution_count": 21,
   "metadata": {
    "editable": true,
    "slideshow": {
     "slide_type": "fragment"
    },
    "tags": []
   },
   "outputs": [
    {
     "name": "stdout",
     "output_type": "stream",
     "text": [
      "nombre: Ana Suarez\n",
      "dni: 34.154.269\n",
      "34.154.269\n"
     ]
    }
   ],
   "source": [
    "ana.dni = \"34.154.269\"  # agrego dni a ana\n",
    "\n",
    "for atributo, valor in vars(ana).items():\n",
    "    print(atributo + \": \" + valor)\n",
    "\n",
    "print(ana.get_dni())  # el método get_dni ya lo tiene de la nueva versión de Persona"
   ]
  },
  {
   "cell_type": "markdown",
   "metadata": {
    "editable": true,
    "id": "fDonKunVqcaI",
    "slideshow": {
     "slide_type": "subslide"
    },
    "tags": []
   },
   "source": [
    "#### Algunos detalles de la serialización con `pickle`\n",
    "\n",
    "- De las funciones (tanto del sistema como definidas por el usuario) lo único que se conserva es su nombre, no su valor. O sea que en el momento de recuperarlas hay que tener acceso a su valor (cuerpo de la función) para poderlas ejecutar.\n",
    "- Cuando se conserva una instancia de clase como `pickle`, lo único que se guardan son los valores de los atributos, no su código asociado, de modo tal que se puedan luego recuperar instancias que se crearon en versiones anteriores de la clase sin problema.\n",
    "- Cuando se conserva una instancia de clase como `pickle`, se guardan los atributos de instancia de self junto con el nombre de la clase en donde se creó y el módulo donde vive la clase: una vez recuperada esa instancia, se podrá directamente aplicarle métodos de comportamiento.\n"
   ]
  },
  {
   "cell_type": "markdown",
   "metadata": {
    "editable": true,
    "id": "hXWkUlN3qcaI",
    "slideshow": {
     "slide_type": "fragment"
    },
    "tags": []
   },
   "source": [
    "#### La serialización de objetos y la seguridad\n",
    "En la documentación de pickle se encuentra lo siguiente:\n",
    "\n",
    "\n",
    "> **Warning**: The `pickle` module is not secure against erroneous or maliciously constructed data. Never unpickle data received from an untrusted or unauthenticated source."
   ]
  },
  {
   "cell_type": "markdown",
   "metadata": {
    "editable": true,
    "id": "0_49D4qlqcaJ",
    "slideshow": {
     "slide_type": "fragment"
    },
    "tags": []
   },
   "source": [
    "El archivo personas hackeada fue creado modificando la clase Persona para que pickle ejecute un comando arbitrario al tratar de cargar una persona de un archivo. En este caso el comando que se ejecuta es `rm ./log.log`"
   ]
  },
  {
   "cell_type": "code",
   "execution_count": 22,
   "metadata": {
    "editable": true,
    "slideshow": {
     "slide_type": "subslide"
    },
    "tags": []
   },
   "outputs": [],
   "source": [
    "# Creamos el archivo log.log\n",
    "with open(\"./log.log\", \"w\", encoding=\"utf-8\") as archivo:\n",
    "    archivo.write(\"Archivo muy importante\\n\")"
   ]
  },
  {
   "cell_type": "code",
   "execution_count": 23,
   "metadata": {
    "editable": true,
    "slideshow": {
     "slide_type": ""
    },
    "tags": []
   },
   "outputs": [
    {
     "data": {
      "text/plain": [
       "['archivo.txt',\n",
       " 'Introducción a Python.ipynb',\n",
       " 'log.log',\n",
       " 'personas.p',\n",
       " 'temp.p']"
      ]
     },
     "execution_count": 23,
     "metadata": {},
     "output_type": "execute_result"
    }
   ],
   "source": [
    "import os\n",
    "import pickle\n",
    "\n",
    "os.listdir()"
   ]
  },
  {
   "cell_type": "code",
   "execution_count": 25,
   "metadata": {
    "editable": true,
    "id": "5MRLScibqcaJ",
    "slideshow": {
     "slide_type": "fragment"
    },
    "tags": []
   },
   "outputs": [
    {
     "ename": "FileNotFoundError",
     "evalue": "[Errno 2] No such file or directory: 'personas_hackeadas.p'",
     "output_type": "error",
     "traceback": [
      "\u001b[1;31m---------------------------------------------------------------------------\u001b[0m",
      "\u001b[1;31mFileNotFoundError\u001b[0m                         Traceback (most recent call last)",
      "Cell \u001b[1;32mIn[25], line 3\u001b[0m\n\u001b[0;32m      1\u001b[0m lista \u001b[38;5;241m=\u001b[39m []\n\u001b[1;32m----> 3\u001b[0m \u001b[38;5;28;01mwith\u001b[39;00m \u001b[38;5;28;43mopen\u001b[39;49m\u001b[43m(\u001b[49m\u001b[38;5;124;43m\"\u001b[39;49m\u001b[38;5;124;43mpersonas_hackeadas.p\u001b[39;49m\u001b[38;5;124;43m\"\u001b[39;49m\u001b[43m,\u001b[49m\u001b[43m \u001b[49m\u001b[38;5;124;43m\"\u001b[39;49m\u001b[38;5;124;43mrb\u001b[39;49m\u001b[38;5;124;43m\"\u001b[39;49m\u001b[43m)\u001b[49m \u001b[38;5;28;01mas\u001b[39;00m contenedor:\n\u001b[0;32m      4\u001b[0m     \u001b[38;5;28;01mtry\u001b[39;00m:\n\u001b[0;32m      5\u001b[0m         \u001b[38;5;28;01mwhile\u001b[39;00m contenedor:\n",
      "File \u001b[1;32mc:\\Users\\ignac\\AppData\\Local\\Programs\\Python\\Python312\\Lib\\site-packages\\IPython\\core\\interactiveshell.py:324\u001b[0m, in \u001b[0;36m_modified_open\u001b[1;34m(file, *args, **kwargs)\u001b[0m\n\u001b[0;32m    317\u001b[0m \u001b[38;5;28;01mif\u001b[39;00m file \u001b[38;5;129;01min\u001b[39;00m {\u001b[38;5;241m0\u001b[39m, \u001b[38;5;241m1\u001b[39m, \u001b[38;5;241m2\u001b[39m}:\n\u001b[0;32m    318\u001b[0m     \u001b[38;5;28;01mraise\u001b[39;00m \u001b[38;5;167;01mValueError\u001b[39;00m(\n\u001b[0;32m    319\u001b[0m         \u001b[38;5;124mf\u001b[39m\u001b[38;5;124m\"\u001b[39m\u001b[38;5;124mIPython won\u001b[39m\u001b[38;5;124m'\u001b[39m\u001b[38;5;124mt let you open fd=\u001b[39m\u001b[38;5;132;01m{\u001b[39;00mfile\u001b[38;5;132;01m}\u001b[39;00m\u001b[38;5;124m by default \u001b[39m\u001b[38;5;124m\"\u001b[39m\n\u001b[0;32m    320\u001b[0m         \u001b[38;5;124m\"\u001b[39m\u001b[38;5;124mas it is likely to crash IPython. If you know what you are doing, \u001b[39m\u001b[38;5;124m\"\u001b[39m\n\u001b[0;32m    321\u001b[0m         \u001b[38;5;124m\"\u001b[39m\u001b[38;5;124myou can use builtins\u001b[39m\u001b[38;5;124m'\u001b[39m\u001b[38;5;124m open.\u001b[39m\u001b[38;5;124m\"\u001b[39m\n\u001b[0;32m    322\u001b[0m     )\n\u001b[1;32m--> 324\u001b[0m \u001b[38;5;28;01mreturn\u001b[39;00m \u001b[43mio_open\u001b[49m\u001b[43m(\u001b[49m\u001b[43mfile\u001b[49m\u001b[43m,\u001b[49m\u001b[43m \u001b[49m\u001b[38;5;241;43m*\u001b[39;49m\u001b[43margs\u001b[49m\u001b[43m,\u001b[49m\u001b[43m \u001b[49m\u001b[38;5;241;43m*\u001b[39;49m\u001b[38;5;241;43m*\u001b[39;49m\u001b[43mkwargs\u001b[49m\u001b[43m)\u001b[49m\n",
      "\u001b[1;31mFileNotFoundError\u001b[0m: [Errno 2] No such file or directory: 'personas_hackeadas.p'"
     ]
    }
   ],
   "source": [
    "lista = []\n",
    "\n",
    "with open(\"personas_hackeadas.p\", \"rb\") as contenedor:\n",
    "    try:\n",
    "        while contenedor:\n",
    "            obj = pickle.load(contenedor)\n",
    "            lista.append(obj)\n",
    "    except EOFError:\n",
    "        pass\n",
    "    except:\n",
    "        raise\n",
    "\n",
    "for p in lista:\n",
    "    print(p)"
   ]
  },
  {
   "cell_type": "markdown",
   "metadata": {
    "editable": true,
    "id": "3hNE0fBWqcaJ",
    "slideshow": {
     "slide_type": "subslide"
    },
    "tags": []
   },
   "source": [
    "### `dill`\n",
    "No es un módulo estándar, se debe instalar de https://pypi.python.org/pypi/dill\n",
    "\n",
    "```\n",
    "pip install dill\n",
    "```\n",
    "\n",
    "Permite serializar cualquier objeto, clases completas, funciones anidadas, etc. Es un gran riesgo para la seguridad.\n",
    "Nunca se debe abrir un archivo generado con dill de origen desconocido\n"
   ]
  },
  {
   "cell_type": "code",
   "execution_count": 26,
   "metadata": {
    "editable": true,
    "id": "WsMU4dTiqcaK",
    "slideshow": {
     "slide_type": "subslide"
    },
    "tags": []
   },
   "outputs": [],
   "source": [
    "import dill\n",
    "\n",
    "\n",
    "def cifrar_mensaje(msj, password):\n",
    "    def descifrar(x):\n",
    "        if x == password:\n",
    "            return msj\n",
    "        else:\n",
    "            return None\n",
    "\n",
    "    return descifrar\n",
    "\n",
    "\n",
    "mensaje_cifrado = cifrar_mensaje(\"Este es el mensaje cifrado\", \"secreto\")\n",
    "\n",
    "with open(\"msj_cifrado.dill\", \"wb\") as contenedor:\n",
    "    dill.dump(mensaje_cifrado, contenedor)"
   ]
  },
  {
   "cell_type": "code",
   "execution_count": 27,
   "metadata": {
    "editable": true,
    "id": "GajmMov6qcaK",
    "slideshow": {
     "slide_type": "fragment"
    },
    "tags": []
   },
   "outputs": [
    {
     "name": "stdout",
     "output_type": "stream",
     "text": [
      "b'\\x80\\x04\\x95\\t\\x02\\x00\\x00\\x00\\x00\\x00\\x00\\x8c\\n'\n",
      "b'dill._dill\\x94\\x8c\\x10_create_function\\x94\\x93\\x94(h\\x00\\x8c\\x0c_create_code\\x94\\x93\\x94(C\\x06\\x04\\x01\\n'\n",
      "b'\\x01\\x04\\x02\\x94K\\x01K\\x00K\\x00K\\x01K\\x02K\\x13C\\x14\\x95\\x02\\x97\\x00|\\x00\\x89\\x02k(\\x00\\x00r\\x02\\x89\\x01S\\x00y\\x00\\x94N\\x85\\x94)\\x8c\\x01x\\x94\\x85\\x94\\x8c>C:\\\\Users\\\\ignac\\\\AppData\\\\Local\\\\Temp\\\\ipykernel_11248\\\\143950727.py\\x94\\x8c\\tdescifrar\\x94\\x8c!cifrar_mensaje.<locals>.descifrar\\x94K\\x05C\\x12\\xf8\\x80\\x00\\xd8\\x0b\\x0c\\x90\\x08\\x8a=\\xd8\\x13\\x16\\x88J\\xe0\\x13\\x17\\x94C\\x00\\x94\\x8c\\x03msj\\x94\\x8c\\x08password\\x94\\x86\\x94)t\\x94R\\x94c__builtin__\\n'\n",
      "b'__main__\\n'\n",
      "b'h\\x0bNh\\x00\\x8c\\x0c_create_cell\\x94\\x93\\x94N\\x85\\x94R\\x94h\\x15N\\x85\\x94R\\x94\\x86\\x94t\\x94R\\x94}\\x94}\\x94(\\x8c\\x0f__annotations__\\x94}\\x94\\x8c\\x0c__qualname__\\x94h\\x0cu\\x86\\x94b\\x8c\\x08builtins\\x94\\x8c\\x07getattr\\x94\\x93\\x94\\x8c\\x04dill\\x94\\x8c\\x05_dill\\x94\\x93\\x94\\x8c\\x08_setattr\\x94h#\\x8c\\x07setattr\\x94\\x93\\x94\\x87\\x94R\\x94h\\x19\\x8c\\rcell_contents\\x94\\x8c\\x07secreto\\x94\\x87\\x94R0h-h\\x17h.\\x8c\\x1aEste es el mensaje cifrado\\x94\\x87\\x94R0.'\n"
     ]
    }
   ],
   "source": [
    "with open(\"msj_cifrado.dill\", \"rb\") as contenedor:\n",
    "    for linea in contenedor:\n",
    "        print(linea)"
   ]
  },
  {
   "cell_type": "code",
   "execution_count": 28,
   "metadata": {
    "editable": true,
    "id": "2enjy3s4qcaK",
    "slideshow": {
     "slide_type": "fragment"
    },
    "tags": []
   },
   "outputs": [
    {
     "name": "stdout",
     "output_type": "stream",
     "text": [
      "None\n",
      "Este es el mensaje cifrado\n"
     ]
    }
   ],
   "source": [
    "with open(\"msj_cifrado.dill\", \"rb\") as contenedor:\n",
    "    funcion = dill.load(contenedor)\n",
    "\n",
    "print(funcion(\"clave incorrecta\"))\n",
    "\n",
    "print(funcion(\"secreto\"))"
   ]
  },
  {
   "cell_type": "markdown",
   "metadata": {
    "editable": true,
    "id": "B4SfbuQsqcaK",
    "slideshow": {
     "slide_type": "subslide"
    },
    "tags": []
   },
   "source": [
    "### `json` (Javascript Object Notation)\n",
    "\n",
    "La aproximación de `json` al tema de la serialización es totalmente diferente. Se trata de una notación que nació en el ámbito de Javascript para intercambiar datos entre aplicaciones y servidores.\n",
    "\n",
    "Es un formato de intercambio de datos basado en texto."
   ]
  },
  {
   "cell_type": "markdown",
   "metadata": {
    "editable": true,
    "id": "HCtFxJe-qcaK",
    "slideshow": {
     "slide_type": "fragment"
    },
    "tags": []
   },
   "source": [
    "- Puede manipular algunas clases de objetos: cadenas de caracteres, números, booleanos, None, listas, diccionarios cuyas claves son cadenas de caracteres.\n",
    "- La cadena resultante se puede salvar en disco para ser leída más adelante.\n",
    "- Es interoperable con otros lenguajes.\n",
    "- Su contenido se puede leer directamente.\n",
    "- No constituye una brecha de seguridad cuando se usa fuera del ámbito de una computadora privada (en redes o en Internet, por ejemplo) y por lo tanto se recomienda en estos casos.\n"
   ]
  },
  {
   "cell_type": "code",
   "execution_count": 29,
   "metadata": {
    "editable": true,
    "id": "MicROnsUqcaL",
    "slideshow": {
     "slide_type": "subslide"
    },
    "tags": []
   },
   "outputs": [
    {
     "name": "stdout",
     "output_type": "stream",
     "text": [
      "true\n"
     ]
    }
   ],
   "source": [
    "import json\n",
    "\n",
    "dict_colores = {\"leon\": \"amarillo\", \"gatito\": \"gris\"}\n",
    "lista = [1, 2, \"casa\", 3]\n",
    "booleano = True\n",
    "\n",
    "with open(\"ejemplo_json.j\", \"w\") as contenedor:\n",
    "    json.dump(dict_colores, contenedor)\n",
    "    json.dump(lista, contenedor)\n",
    "    json.dump(booleano, contenedor)\n",
    "\n",
    "print(json.dumps(booleano))"
   ]
  },
  {
   "cell_type": "code",
   "execution_count": 30,
   "metadata": {
    "editable": true,
    "id": "oAUXco-SqcaL",
    "slideshow": {
     "slide_type": "fragment"
    },
    "tags": []
   },
   "outputs": [
    {
     "name": "stdout",
     "output_type": "stream",
     "text": [
      "{\"leon\": \"amarillo\", \"gatito\": \"gris\"}[1, 2, \"casa\", 3]true\n"
     ]
    }
   ],
   "source": [
    "with open(\"ejemplo_json.j\", \"r\") as contenedor:\n",
    "    for linea in contenedor:\n",
    "        print(linea)"
   ]
  },
  {
   "cell_type": "code",
   "execution_count": 31,
   "metadata": {
    "editable": true,
    "id": "1UcZJc9EqcaL",
    "slideshow": {
     "slide_type": "subslide"
    },
    "tags": []
   },
   "outputs": [
    {
     "ename": "JSONDecodeError",
     "evalue": "Extra data: line 1 column 39 (char 38)",
     "output_type": "error",
     "traceback": [
      "\u001b[1;31m---------------------------------------------------------------------------\u001b[0m",
      "\u001b[1;31mJSONDecodeError\u001b[0m                           Traceback (most recent call last)",
      "Cell \u001b[1;32mIn[31], line 2\u001b[0m\n\u001b[0;32m      1\u001b[0m \u001b[38;5;28;01mwith\u001b[39;00m \u001b[38;5;28mopen\u001b[39m(\u001b[38;5;124m\"\u001b[39m\u001b[38;5;124mejemplo_json.j\u001b[39m\u001b[38;5;124m\"\u001b[39m, \u001b[38;5;124m\"\u001b[39m\u001b[38;5;124mr\u001b[39m\u001b[38;5;124m\"\u001b[39m) \u001b[38;5;28;01mas\u001b[39;00m contenedor:\n\u001b[1;32m----> 2\u001b[0m     dict_colores \u001b[38;5;241m=\u001b[39m \u001b[43mjson\u001b[49m\u001b[38;5;241;43m.\u001b[39;49m\u001b[43mload\u001b[49m\u001b[43m(\u001b[49m\u001b[43mcontenedor\u001b[49m\u001b[43m)\u001b[49m\n\u001b[0;32m      3\u001b[0m     lista \u001b[38;5;241m=\u001b[39m json\u001b[38;5;241m.\u001b[39mload(contenedor)\n\u001b[0;32m      4\u001b[0m     booleano \u001b[38;5;241m=\u001b[39m json\u001b[38;5;241m.\u001b[39mload(contenedor)\n",
      "File \u001b[1;32mc:\\Users\\ignac\\AppData\\Local\\Programs\\Python\\Python312\\Lib\\json\\__init__.py:293\u001b[0m, in \u001b[0;36mload\u001b[1;34m(fp, cls, object_hook, parse_float, parse_int, parse_constant, object_pairs_hook, **kw)\u001b[0m\n\u001b[0;32m    274\u001b[0m \u001b[38;5;28;01mdef\u001b[39;00m \u001b[38;5;21mload\u001b[39m(fp, \u001b[38;5;241m*\u001b[39m, \u001b[38;5;28mcls\u001b[39m\u001b[38;5;241m=\u001b[39m\u001b[38;5;28;01mNone\u001b[39;00m, object_hook\u001b[38;5;241m=\u001b[39m\u001b[38;5;28;01mNone\u001b[39;00m, parse_float\u001b[38;5;241m=\u001b[39m\u001b[38;5;28;01mNone\u001b[39;00m,\n\u001b[0;32m    275\u001b[0m         parse_int\u001b[38;5;241m=\u001b[39m\u001b[38;5;28;01mNone\u001b[39;00m, parse_constant\u001b[38;5;241m=\u001b[39m\u001b[38;5;28;01mNone\u001b[39;00m, object_pairs_hook\u001b[38;5;241m=\u001b[39m\u001b[38;5;28;01mNone\u001b[39;00m, \u001b[38;5;241m*\u001b[39m\u001b[38;5;241m*\u001b[39mkw):\n\u001b[0;32m    276\u001b[0m \u001b[38;5;250m    \u001b[39m\u001b[38;5;124;03m\"\"\"Deserialize ``fp`` (a ``.read()``-supporting file-like object containing\u001b[39;00m\n\u001b[0;32m    277\u001b[0m \u001b[38;5;124;03m    a JSON document) to a Python object.\u001b[39;00m\n\u001b[0;32m    278\u001b[0m \n\u001b[1;32m   (...)\u001b[0m\n\u001b[0;32m    291\u001b[0m \u001b[38;5;124;03m    kwarg; otherwise ``JSONDecoder`` is used.\u001b[39;00m\n\u001b[0;32m    292\u001b[0m \u001b[38;5;124;03m    \"\"\"\u001b[39;00m\n\u001b[1;32m--> 293\u001b[0m     \u001b[38;5;28;01mreturn\u001b[39;00m \u001b[43mloads\u001b[49m\u001b[43m(\u001b[49m\u001b[43mfp\u001b[49m\u001b[38;5;241;43m.\u001b[39;49m\u001b[43mread\u001b[49m\u001b[43m(\u001b[49m\u001b[43m)\u001b[49m\u001b[43m,\u001b[49m\n\u001b[0;32m    294\u001b[0m \u001b[43m        \u001b[49m\u001b[38;5;28;43mcls\u001b[39;49m\u001b[38;5;241;43m=\u001b[39;49m\u001b[38;5;28;43mcls\u001b[39;49m\u001b[43m,\u001b[49m\u001b[43m \u001b[49m\u001b[43mobject_hook\u001b[49m\u001b[38;5;241;43m=\u001b[39;49m\u001b[43mobject_hook\u001b[49m\u001b[43m,\u001b[49m\n\u001b[0;32m    295\u001b[0m \u001b[43m        \u001b[49m\u001b[43mparse_float\u001b[49m\u001b[38;5;241;43m=\u001b[39;49m\u001b[43mparse_float\u001b[49m\u001b[43m,\u001b[49m\u001b[43m \u001b[49m\u001b[43mparse_int\u001b[49m\u001b[38;5;241;43m=\u001b[39;49m\u001b[43mparse_int\u001b[49m\u001b[43m,\u001b[49m\n\u001b[0;32m    296\u001b[0m \u001b[43m        \u001b[49m\u001b[43mparse_constant\u001b[49m\u001b[38;5;241;43m=\u001b[39;49m\u001b[43mparse_constant\u001b[49m\u001b[43m,\u001b[49m\u001b[43m \u001b[49m\u001b[43mobject_pairs_hook\u001b[49m\u001b[38;5;241;43m=\u001b[39;49m\u001b[43mobject_pairs_hook\u001b[49m\u001b[43m,\u001b[49m\u001b[43m \u001b[49m\u001b[38;5;241;43m*\u001b[39;49m\u001b[38;5;241;43m*\u001b[39;49m\u001b[43mkw\u001b[49m\u001b[43m)\u001b[49m\n",
      "File \u001b[1;32mc:\\Users\\ignac\\AppData\\Local\\Programs\\Python\\Python312\\Lib\\json\\__init__.py:346\u001b[0m, in \u001b[0;36mloads\u001b[1;34m(s, cls, object_hook, parse_float, parse_int, parse_constant, object_pairs_hook, **kw)\u001b[0m\n\u001b[0;32m    341\u001b[0m     s \u001b[38;5;241m=\u001b[39m s\u001b[38;5;241m.\u001b[39mdecode(detect_encoding(s), \u001b[38;5;124m'\u001b[39m\u001b[38;5;124msurrogatepass\u001b[39m\u001b[38;5;124m'\u001b[39m)\n\u001b[0;32m    343\u001b[0m \u001b[38;5;28;01mif\u001b[39;00m (\u001b[38;5;28mcls\u001b[39m \u001b[38;5;129;01mis\u001b[39;00m \u001b[38;5;28;01mNone\u001b[39;00m \u001b[38;5;129;01mand\u001b[39;00m object_hook \u001b[38;5;129;01mis\u001b[39;00m \u001b[38;5;28;01mNone\u001b[39;00m \u001b[38;5;129;01mand\u001b[39;00m\n\u001b[0;32m    344\u001b[0m         parse_int \u001b[38;5;129;01mis\u001b[39;00m \u001b[38;5;28;01mNone\u001b[39;00m \u001b[38;5;129;01mand\u001b[39;00m parse_float \u001b[38;5;129;01mis\u001b[39;00m \u001b[38;5;28;01mNone\u001b[39;00m \u001b[38;5;129;01mand\u001b[39;00m\n\u001b[0;32m    345\u001b[0m         parse_constant \u001b[38;5;129;01mis\u001b[39;00m \u001b[38;5;28;01mNone\u001b[39;00m \u001b[38;5;129;01mand\u001b[39;00m object_pairs_hook \u001b[38;5;129;01mis\u001b[39;00m \u001b[38;5;28;01mNone\u001b[39;00m \u001b[38;5;129;01mand\u001b[39;00m \u001b[38;5;129;01mnot\u001b[39;00m kw):\n\u001b[1;32m--> 346\u001b[0m     \u001b[38;5;28;01mreturn\u001b[39;00m \u001b[43m_default_decoder\u001b[49m\u001b[38;5;241;43m.\u001b[39;49m\u001b[43mdecode\u001b[49m\u001b[43m(\u001b[49m\u001b[43ms\u001b[49m\u001b[43m)\u001b[49m\n\u001b[0;32m    347\u001b[0m \u001b[38;5;28;01mif\u001b[39;00m \u001b[38;5;28mcls\u001b[39m \u001b[38;5;129;01mis\u001b[39;00m \u001b[38;5;28;01mNone\u001b[39;00m:\n\u001b[0;32m    348\u001b[0m     \u001b[38;5;28mcls\u001b[39m \u001b[38;5;241m=\u001b[39m JSONDecoder\n",
      "File \u001b[1;32mc:\\Users\\ignac\\AppData\\Local\\Programs\\Python\\Python312\\Lib\\json\\decoder.py:340\u001b[0m, in \u001b[0;36mJSONDecoder.decode\u001b[1;34m(self, s, _w)\u001b[0m\n\u001b[0;32m    338\u001b[0m end \u001b[38;5;241m=\u001b[39m _w(s, end)\u001b[38;5;241m.\u001b[39mend()\n\u001b[0;32m    339\u001b[0m \u001b[38;5;28;01mif\u001b[39;00m end \u001b[38;5;241m!=\u001b[39m \u001b[38;5;28mlen\u001b[39m(s):\n\u001b[1;32m--> 340\u001b[0m     \u001b[38;5;28;01mraise\u001b[39;00m JSONDecodeError(\u001b[38;5;124m\"\u001b[39m\u001b[38;5;124mExtra data\u001b[39m\u001b[38;5;124m\"\u001b[39m, s, end)\n\u001b[0;32m    341\u001b[0m \u001b[38;5;28;01mreturn\u001b[39;00m obj\n",
      "\u001b[1;31mJSONDecodeError\u001b[0m: Extra data: line 1 column 39 (char 38)"
     ]
    }
   ],
   "source": [
    "with open(\"ejemplo_json.j\", \"r\") as contenedor:\n",
    "    dict_colores = json.load(contenedor)\n",
    "    lista = json.load(contenedor)\n",
    "    booleano = json.load(contenedor)\n",
    "\n",
    "print(dict_colores)\n",
    "print(lista)\n",
    "print(booleano)"
   ]
  },
  {
   "cell_type": "code",
   "execution_count": 32,
   "metadata": {
    "editable": true,
    "id": "XoKtSrtDqcaL",
    "slideshow": {
     "slide_type": "fragment"
    },
    "tags": []
   },
   "outputs": [],
   "source": [
    "dict_colores = {\"leon\": \"amarillo\", \"gatito\": \"gris\"}\n",
    "lista = [1, 2, \"casa\", 3]\n",
    "booleano = True\n",
    "\n",
    "json.dump(dict_colores, open(\"dict_colores.j\", \"w\"))\n",
    "json.dump(lista, open(\"lista.j\", \"w\"))\n",
    "json.dump(booleano, open(\"booleano.j\", \"w\"))"
   ]
  },
  {
   "cell_type": "code",
   "execution_count": 33,
   "metadata": {
    "editable": true,
    "id": "FWJiptYmqcaL",
    "slideshow": {
     "slide_type": "fragment"
    },
    "tags": []
   },
   "outputs": [
    {
     "name": "stdout",
     "output_type": "stream",
     "text": [
      "{'leon': 'amarillo', 'gatito': 'gris'}\n",
      "[1, 2, 'casa', 3]\n",
      "True\n"
     ]
    }
   ],
   "source": [
    "dict_colores = json.load(open(\"dict_colores.j\", \"r\"))\n",
    "print(dict_colores)\n",
    "\n",
    "lista = json.load(open(\"lista.j\", \"r\"))\n",
    "print(lista)\n",
    "\n",
    "booleano = json.load(open(\"booleano.j\", \"r\"))\n",
    "print(booleano)"
   ]
  },
  {
   "cell_type": "markdown",
   "metadata": {
    "editable": true,
    "id": "jBhT4yqhqcaM",
    "slideshow": {
     "slide_type": "subslide"
    },
    "tags": []
   },
   "source": [
    "### `shelve`\n",
    "Agrega una capa de complejidad a `pickle`: guarda los datos preservados por `pickle` en una base indexada. No puede guardar datos preservados por `dill` que no sea preservables por `pickle`.\n",
    "\n",
    "El nombre implica en sí mismo un chiste: si hacer _pickles_ significa preservar algo en salmuera o en vinagre, en frascos, tener _shelves_ (estantes) significa guardar esos datos preservados en estantes, debidamente clasificados.\n"
   ]
  },
  {
   "cell_type": "code",
   "execution_count": 47,
   "metadata": {
    "editable": true,
    "id": "tA8xspyNqcaM",
    "slideshow": {
     "slide_type": "subslide"
    },
    "tags": []
   },
   "outputs": [
    {
     "data": {
      "text/plain": [
       "[<__main__.Persona at 0x1a947320830>,\n",
       " <__main__.Persona at 0x1a947322390>,\n",
       " <__main__.Persona at 0x1a947322540>]"
      ]
     },
     "execution_count": 47,
     "metadata": {},
     "output_type": "execute_result"
    }
   ],
   "source": [
    "import pickle\n",
    "import shelve\n",
    "\n",
    "lista = []\n",
    "with open(\"personas.p\", \"rb\") as contenedor:\n",
    "    try:\n",
    "        while contenedor:\n",
    "            obj = pickle.load(contenedor)\n",
    "            lista.append(obj)\n",
    "    except EOFError:\n",
    "        pass\n",
    "    except:\n",
    "        raise\n",
    "lista"
   ]
  },
  {
   "cell_type": "code",
   "execution_count": 49,
   "metadata": {
    "editable": true,
    "id": "yc-2e446qcaM",
    "slideshow": {
     "slide_type": "fragment"
    },
    "tags": []
   },
   "outputs": [
    {
     "data": {
      "text/plain": [
       "<shelve.DbfilenameShelf at 0x1a947074470>"
      ]
     },
     "execution_count": 49,
     "metadata": {},
     "output_type": "execute_result"
    }
   ],
   "source": [
    "with shelve.open(\"estantes_personas.s\") as db:\n",
    "    for persona in lista:\n",
    "        db[persona.nombre] = persona\n",
    "db"
   ]
  },
  {
   "cell_type": "code",
   "execution_count": 54,
   "metadata": {
    "editable": true,
    "id": "If8FJ5k5qcaM",
    "slideshow": {
     "slide_type": "fragment"
    },
    "tags": []
   },
   "outputs": [
    {
     "name": "stdout",
     "output_type": "stream",
     "text": [
      "Ana Suarez : Ana Suarez\n",
      "Juan Perez : Juan Perez\n",
      "Carla Sanchez : Carla Sanchez\n",
      "Help on class Shelf in module shelve:\n",
      "\n",
      "class Shelf(collections.abc.MutableMapping)\n",
      " |  Shelf(dict, protocol=None, writeback=False, keyencoding='utf-8')\n",
      " |\n",
      " |  Base class for shelf implementations.\n",
      " |\n",
      " |  This is initialized with a dictionary-like object.\n",
      " |  See the module's __doc__ string for an overview of the interface.\n",
      " |\n",
      " |  Method resolution order:\n",
      " |      Shelf\n",
      " |      collections.abc.MutableMapping\n",
      " |      collections.abc.Mapping\n",
      " |      collections.abc.Collection\n",
      " |      collections.abc.Sized\n",
      " |      collections.abc.Iterable\n",
      " |      collections.abc.Container\n",
      " |      builtins.object\n",
      " |\n",
      " |  Methods defined here:\n",
      " |\n",
      " |  __contains__(self, key)\n",
      " |\n",
      " |  __del__(self)\n",
      " |\n",
      " |  __delitem__(self, key)\n",
      " |\n",
      " |  __enter__(self)\n",
      " |\n",
      " |  __exit__(self, type, value, traceback)\n",
      " |\n",
      " |  __getitem__(self, key)\n",
      " |\n",
      " |  __init__(self, dict, protocol=None, writeback=False, keyencoding='utf-8')\n",
      " |      Initialize self.  See help(type(self)) for accurate signature.\n",
      " |\n",
      " |  __iter__(self)\n",
      " |\n",
      " |  __len__(self)\n",
      " |\n",
      " |  __setitem__(self, key, value)\n",
      " |\n",
      " |  close(self)\n",
      " |\n",
      " |  get(self, key, default=None)\n",
      " |      D.get(k[,d]) -> D[k] if k in D, else d.  d defaults to None.\n",
      " |\n",
      " |  sync(self)\n",
      " |\n",
      " |  ----------------------------------------------------------------------\n",
      " |  Data descriptors defined here:\n",
      " |\n",
      " |  __dict__\n",
      " |      dictionary for instance variables\n",
      " |\n",
      " |  __weakref__\n",
      " |      list of weak references to the object\n",
      " |\n",
      " |  ----------------------------------------------------------------------\n",
      " |  Data and other attributes defined here:\n",
      " |\n",
      " |  __abstractmethods__ = frozenset()\n",
      " |\n",
      " |  ----------------------------------------------------------------------\n",
      " |  Methods inherited from collections.abc.MutableMapping:\n",
      " |\n",
      " |  clear(self)\n",
      " |      D.clear() -> None.  Remove all items from D.\n",
      " |\n",
      " |  pop(self, key, default=<object object at 0x000001A9416B8200>)\n",
      " |      D.pop(k[,d]) -> v, remove specified key and return the corresponding value.\n",
      " |      If key is not found, d is returned if given, otherwise KeyError is raised.\n",
      " |\n",
      " |  popitem(self)\n",
      " |      D.popitem() -> (k, v), remove and return some (key, value) pair\n",
      " |      as a 2-tuple; but raise KeyError if D is empty.\n",
      " |\n",
      " |  setdefault(self, key, default=None)\n",
      " |      D.setdefault(k[,d]) -> D.get(k,d), also set D[k]=d if k not in D\n",
      " |\n",
      " |  update(self, other=(), /, **kwds)\n",
      " |      D.update([E, ]**F) -> None.  Update D from mapping/iterable E and F.\n",
      " |      If E present and has a .keys() method, does:     for k in E: D[k] = E[k]\n",
      " |      If E present and lacks .keys() method, does:     for (k, v) in E: D[k] = v\n",
      " |      In either case, this is followed by: for k, v in F.items(): D[k] = v\n",
      " |\n",
      " |  ----------------------------------------------------------------------\n",
      " |  Methods inherited from collections.abc.Mapping:\n",
      " |\n",
      " |  __eq__(self, other)\n",
      " |      Return self==value.\n",
      " |\n",
      " |  items(self)\n",
      " |      D.items() -> a set-like object providing a view on D's items\n",
      " |\n",
      " |  keys(self)\n",
      " |      D.keys() -> a set-like object providing a view on D's keys\n",
      " |\n",
      " |  values(self)\n",
      " |      D.values() -> an object providing a view on D's values\n",
      " |\n",
      " |  ----------------------------------------------------------------------\n",
      " |  Data and other attributes inherited from collections.abc.Mapping:\n",
      " |\n",
      " |  __hash__ = None\n",
      " |\n",
      " |  __reversed__ = None\n",
      " |\n",
      " |  ----------------------------------------------------------------------\n",
      " |  Class methods inherited from collections.abc.Collection:\n",
      " |\n",
      " |  __subclasshook__(C)\n",
      " |      Abstract classes can override this to customize issubclass().\n",
      " |\n",
      " |      This is invoked early on by abc.ABCMeta.__subclasscheck__().\n",
      " |      It should return True, False or NotImplemented.  If it returns\n",
      " |      NotImplemented, the normal algorithm is used.  Otherwise, it\n",
      " |      overrides the normal algorithm (and the outcome is cached).\n",
      " |\n",
      " |  ----------------------------------------------------------------------\n",
      " |  Class methods inherited from collections.abc.Iterable:\n",
      " |\n",
      " |  __class_getitem__ = GenericAlias(...)\n",
      " |      Represent a PEP 585 generic type\n",
      " |\n",
      " |      E.g. for t = list[int], t.__origin__ is list and t.__args__ is (int,).\n",
      "\n"
     ]
    },
    {
     "data": {
      "text/plain": [
       "<shelve.DbfilenameShelf at 0x1a94727e6c0>"
      ]
     },
     "execution_count": 54,
     "metadata": {},
     "output_type": "execute_result"
    }
   ],
   "source": [
    "with shelve.open(\"estantes_personas.s\") as db:\n",
    "    for clave, valor in db.items():\n",
    "        print(clave, \":\", valor)\n",
    "help(shelve.Shelf)\n",
    "db"
   ]
  },
  {
   "cell_type": "markdown",
   "metadata": {
    "editable": true,
    "slideshow": {
     "slide_type": "slide"
    },
    "tags": []
   },
   "source": [
    "## Referencias\n",
    "\n",
    "* **Documentación oficial de Python:**\n",
    "  * Excepciones: https://docs.python.org/es/3/library/exceptions.html\n",
    "  * Tutorial oficial. Errores y Excepciones: https://docs.python.org/es/3/tutorial/errors.html\n",
    "  * Acceso a archivos y directorios: https://docs.python.org/es/3/library/filesys.html\n",
    "  * Tutoria oficial. Leyendo y escribiendo archivos: https://docs.python.org/es/3/tutorial/inputoutput.html#reading-and-writing-files\n",
    "  * Persistencia de datos: https://docs.python.org/es/3/library/persistence.html"
   ]
  },
  {
   "cell_type": "code",
   "execution_count": 55,
   "metadata": {
    "editable": true,
    "slideshow": {
     "slide_type": ""
    },
    "tags": []
   },
   "outputs": [],
   "source": [
    "###### Limpiar directorio. Ejecutar con cuidado\n",
    "import os\n",
    "archivos = os.listdir()\n",
    "conservar = [\"figuras\", \".ipynb_checkpoints\", \"Introducción a Python.ipynb\", \"personas_hackeadas.p\", \"rise.css\",\"Guia 2.ipynb\"]\n",
    "\n",
    "for arch in archivos:\n",
    "    if arch not in conservar:\n",
    "        os.remove(arch)"
   ]
  },
  {
   "cell_type": "code",
   "execution_count": null,
   "metadata": {},
   "outputs": [],
   "source": []
  }
 ],
 "metadata": {
  "colab": {
   "collapsed_sections": [],
   "name": "Clase_2.ipynb",
   "provenance": []
  },
  "kernelspec": {
   "display_name": "Python 3 (ipykernel)",
   "language": "python",
   "name": "python3"
  },
  "language_info": {
   "codemirror_mode": {
    "name": "ipython",
    "version": 3
   },
   "file_extension": ".py",
   "mimetype": "text/x-python",
   "name": "python",
   "nbconvert_exporter": "python",
   "pygments_lexer": "ipython3",
   "version": "3.12.5"
  },
  "rise": {
   "start_slideshow_at": "beginning"
  }
 },
 "nbformat": 4,
 "nbformat_minor": 4
}
