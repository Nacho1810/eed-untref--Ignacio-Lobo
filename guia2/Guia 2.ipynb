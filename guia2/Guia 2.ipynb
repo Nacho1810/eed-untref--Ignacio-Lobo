{
 "cells": [
  {
   "cell_type": "markdown",
   "id": "f05b7e77-8842-4ff5-bf9f-7433e68ccb68",
   "metadata": {
    "editable": false,
    "slideshow": {
     "slide_type": ""
    },
    "tags": []
   },
   "source": [
    "<p style=\"text-align: center\">\n",
    "    <img src=\"data:image/svg+xml,%3Csvg%20version%3D%221.2%22%20baseProfile%3D%22tiny%22%20id%3D%22Capa_1%22%20xmlns%3D%22http%3A%2F%2Fwww.w3.org%2F2000%2Fsvg%22%20xmlns%3Axlink%3D%22http%3A%2F%2Fwww.w3.org%2F1999%2Fxlink%22%20x%3D%220px%22%20y%3D%220px%22%20viewBox%3D%220%200%20136.5%2058%22%20overflow%3D%22visible%22%20xml%3Aspace%3D%22preserve%22%3E%3Cstyle%20type%3D%22text%2Fcss%22%3Epath%2Cpolygon%2Crect%7Bfill%3A%231e1f1d%21important%7D%40media%20%28prefers-color-scheme%3Adark%29%7Bpath%2Cpolygon%2Crect%7Bfill%3A%23e1e0e2%21important%7D%7D%3C%2Fstyle%3E%3Cg%3E%3Cpath%20d%3D%22M0%2C33.4h1v6.3c0%2C1.1%2C0.5%2C1.7%2C1.7%2C1.7s1.7-0.5%2C1.7-1.7v-6.3h1v6.3c0%2C1.8-1%2C2.5-2.7%2C2.5C1%2C42.3%2C0%2C41.5%2C0%2C39.7%20V33.4z%22%3E%3C%2Fpath%3E%3Cpolygon%20points%3D%228.1%2C42.2%208.1%2C33.4%209.4%2C33.4%2012.6%2C40.4%2012.7%2C40.4%2012.7%2C33.4%2013.7%2C33.4%2013.7%2C42.2%2012.4%2C42.2%209.1%2C34.9%209%2C34.9%209%2C42.2%22%3E%3C%2Fpolygon%3E%3Crect%20x%3D%2216.5%22%20width%3D%221%22%20y%3D%2233.4%22%20height%3D%228.7%22%3E%3C%2Frect%3E%3Cpolygon%20points%3D%2224.4%2C33.4%2025.4%2C33.4%2023.1%2C42.2%2021.7%2C42.2%2019.4%2C33.4%2020.5%2C33.4%2022.4%2C40.9%2022.5%2C40.9%22%3E%3C%2Fpolygon%3E%3Cpolygon%20points%3D%2227.4%2C42.2%2027.4%2C33.4%2032.1%2C33.4%2032.1%2C34.3%2028.4%2C34.3%2028.4%2C37.2%2031.6%2C37.2%2031.6%2C38.1%2028.4%2C38.1%2028.4%2C41.3%2032.3%2C41.3%2032.3%2C42.2%22%3E%3C%2Fpolygon%3E%3Cpath%20d%3D%22M35.3%2C37.6h1.8c1.1%2C0%2C1.6-0.5%2C1.6-1.6c0-1.1-0.5-1.6-1.6-1.6h-1.8V37.6z%20M35.3%2C42.2h-1v-8.7h3%20c1.6%2C0%2C2.5%2C0.9%2C2.5%2C2.5c0%2C1.3-0.6%2C2-1.2%2C2.3l1.3%2C3.9h-1.1l-1.2-3.6h-2.3V42.2z%22%3E%3C%2Fpath%3E%3Cpath%20d%3D%22M46.7%2C35.6c-0.1-1-0.6-1.4-1.7-1.4c-1%2C0-1.7%2C0.4-1.7%2C1.4c0%2C1%2C0.8%2C1.2%2C1.9%2C1.6c1.4%2C0.4%2C2.7%2C0.9%2C2.7%2C2.6%20c0%2C1.7-1.1%2C2.5-2.8%2C2.5c-1.8%2C0-2.8-0.8-2.9-2.5l1-0.1c0.1%2C1.2%2C0.7%2C1.7%2C1.9%2C1.7c1.1%2C0%2C1.8-0.5%2C1.8-1.5c0-1-0.6-1.3-1.9-1.7%20c-1.4-0.4-2.6-0.8-2.6-2.5c0-1.7%2C1.1-2.4%2C2.8-2.4c1.6%2C0%2C2.6%2C0.6%2C2.8%2C2.2L46.7%2C35.6z%22%3E%3C%2Fpath%3E%3Crect%20x%3D%2250.2%22%20width%3D%221%22%20y%3D%2233.4%22%20height%3D%228.7%22%3E%3C%2Frect%3E%3Cpath%20d%3D%22M55%2C41.3h1.9c1%2C0%2C1.7-0.5%2C1.7-1.5v-4c0-1-0.6-1.5-1.7-1.5H55V41.3z%20M54%2C33.4h2.8c1.8%2C0%2C2.8%2C0.7%2C2.8%2C2.5v3.7%20c0%2C1.8-1%2C2.5-2.8%2C2.5H54V33.4z%22%3E%3C%2Fpath%3E%3Cpath%20d%3D%22M63.2%2C39.1H66l-1.3-4.6h-0.1L63.2%2C39.1z%20M62.4%2C42.2h-1.1l2.6-8.7h1.5l2.6%2C8.7h-1.1L66.3%2C40H63L62.4%2C42.2z%22%3E%3C%2Fpath%3E%3Cpath%20d%3D%22M70.9%2C41.3h1.9c1%2C0%2C1.7-0.5%2C1.7-1.5v-4c0-1-0.6-1.5-1.7-1.5h-1.9V41.3z%20M69.8%2C33.4h2.8%20c1.8%2C0%2C2.8%2C0.7%2C2.8%2C2.5v3.7c0%2C1.8-1%2C2.5-2.8%2C2.5h-2.8V33.4z%22%3E%3C%2Fpath%3E%3Cpolygon%20points%3D%2281.3%2C42.2%2081.3%2C33.4%2082.6%2C33.4%2085.8%2C40.4%2085.9%2C40.4%2085.9%2C33.4%2086.9%2C33.4%2086.9%2C42.2%2085.6%2C42.2%2082.3%2C34.9%2082.2%2C34.9%2082.2%2C42.2%22%3E%3C%2Fpolygon%3E%3Cpath%20d%3D%22M90.7%2C39.1h2.8l-1.3-4.6H92L90.7%2C39.1z%20M89.8%2C42.2h-1.1l2.6-8.7h1.5l2.6%2C8.7h-1.1L93.7%2C40h-3.3L89.8%2C42.2z%22%3E%3C%2Fpath%3E%3Cpath%20d%3D%22M101.2%2C36.1v-0.4c0-1.1-0.5-1.5-1.7-1.5c-1.1%2C0-1.8%2C0.4-1.8%2C1.5v4.1c0%2C1.1%2C0.6%2C1.5%2C1.8%2C1.5%20c1.1%2C0%2C1.7-0.5%2C1.7-1.5v-0.4l1%2C0.1v0.1c0%2C1.8-0.9%2C2.6-2.7%2C2.6c-1.8%2C0-2.8-0.7-2.8-2.5v-4c0-1.8%2C1-2.5%2C2.8-2.5%20c1.8%2C0%2C2.7%2C0.7%2C2.7%2C2.6V36L101.2%2C36.1z%22%3E%3C%2Fpath%3E%3Crect%20x%3D%22104.7%22%20width%3D%221%22%20y%3D%2233.4%22%20height%3D%228.7%22%3E%3C%2Frect%3E%3Cpath%20d%3D%22M109.3%2C39.9c0%2C1.1%2C0.7%2C1.5%2C1.8%2C1.5c1.1%2C0%2C1.8-0.4%2C1.8-1.5v-4.1c0-1.1-0.7-1.5-1.8-1.5%20c-1.1%2C0-1.8%2C0.4-1.8%2C1.5V39.9z%20M108.3%2C35.8c0-1.9%2C1-2.5%2C2.8-2.5c1.8%2C0%2C2.8%2C0.7%2C2.8%2C2.5v3.9c0%2C1.9-1%2C2.5-2.8%2C2.5%20c-1.8%2C0-2.8-0.7-2.8-2.5V35.8z%22%3E%3C%2Fpath%3E%3Cpolygon%20points%3D%22116.5%2C42.2%20116.5%2C33.4%20117.8%2C33.4%20121%2C40.4%20121.1%2C40.4%20121.1%2C33.4%20122%2C33.4%20122%2C42.2%20120.8%2C42.2%20117.5%2C34.9%20117.4%2C34.9%20117.4%2C42.2%22%3E%3C%2Fpolygon%3E%3Cpath%20d%3D%22M125.9%2C39.1h2.8l-1.3-4.6h-0.1L125.9%2C39.1z%20M125%2C42.2h-1.1l2.6-8.7h1.5l2.6%2C8.7h-1.1l-0.6-2.1h-3.3%20L125%2C42.2z%22%3E%3C%2Fpath%3E%3Cpolygon%20points%3D%22132.5%2C42.2%20132.5%2C33.4%20133.5%2C33.4%20133.5%2C41.3%20136.5%2C41.3%20136.5%2C42.2%22%3E%3C%2Fpolygon%3E%3Cpath%20d%3D%22M1.2%2C57h1.9c1%2C0%2C1.7-0.5%2C1.7-1.5v-4c0-1-0.6-1.5-1.7-1.5H1.2V57z%20M0.1%2C49.1H3c1.8%2C0%2C2.8%2C0.7%2C2.8%2C2.5v3.7%20c0%2C1.8-1%2C2.5-2.8%2C2.5H0.1V49.1z%22%3E%3C%2Fpath%3E%3Cpolygon%20points%3D%228.3%2C57.9%208.3%2C49.1%2013%2C49.1%2013%2C50%209.3%2C50%209.3%2C52.9%2012.6%2C52.9%2012.6%2C53.8%209.3%2C53.8%209.3%2C57%2013.2%2C57%2013.2%2C57.9%22%3E%3C%2Fpolygon%3E%3Cpolygon%20points%3D%2219.7%2C50.1%2017.6%2C50.1%2017.6%2C49.1%2022.7%2C49.1%2022.7%2C50.1%2020.7%2C50.1%2020.7%2C57.9%2019.7%2C57.9%22%3E%3C%2Fpolygon%3E%3Cpath%20d%3D%22M25.6%2C53.3h1.8c1.1%2C0%2C1.6-0.5%2C1.6-1.6c0-1.1-0.5-1.6-1.6-1.6h-1.8V53.3z%20M25.6%2C57.9h-1v-8.7h3%20c1.6%2C0%2C2.5%2C0.9%2C2.5%2C2.5c0%2C1.3-0.6%2C2-1.2%2C2.3l1.3%2C3.9h-1.1l-1.2-3.6h-2.3V57.9z%22%3E%3C%2Fpath%3E%3Cpolygon%20points%3D%2232.8%2C57.9%2032.8%2C49.1%2037.5%2C49.1%2037.5%2C50%2033.8%2C50%2033.8%2C52.9%2037%2C52.9%2037%2C53.8%2033.8%2C53.8%2033.8%2C57%2037.7%2C57%2037.7%2C57.9%22%3E%3C%2Fpolygon%3E%3Cpath%20d%3D%22M44%2C51.3c-0.1-1-0.6-1.4-1.7-1.4c-1%2C0-1.7%2C0.4-1.7%2C1.4c0%2C1%2C0.8%2C1.2%2C1.9%2C1.6c1.4%2C0.4%2C2.7%2C0.9%2C2.7%2C2.6%20c0%2C1.7-1.1%2C2.5-2.8%2C2.5c-1.8%2C0-2.8-0.8-2.9-2.5l1-0.1c0.1%2C1.2%2C0.7%2C1.7%2C1.9%2C1.7c1.1%2C0%2C1.8-0.5%2C1.8-1.5c0-1-0.6-1.3-1.9-1.7%20c-1.4-0.4-2.6-0.8-2.6-2.5c0-1.7%2C1.1-2.4%2C2.8-2.4c1.6%2C0%2C2.6%2C0.6%2C2.8%2C2.2L44%2C51.3z%22%3E%3C%2Fpath%3E%3Cpath%20d%3D%22M51.8%2C57h1.9c1.1%2C0%2C1.7-0.5%2C1.7-1.5v-4c0-1-0.6-1.5-1.7-1.5h-1.9V57z%20M50.8%2C49.1h2.8c1.8%2C0%2C2.8%2C0.7%2C2.8%2C2.5%20v3.7c0%2C1.8-1%2C2.5-2.8%2C2.5h-2.8V49.1z%22%3E%3C%2Fpath%3E%3Cpolygon%20points%3D%2258.9%2C57.9%2058.9%2C49.1%2063.6%2C49.1%2063.6%2C50%2059.9%2C50%2059.9%2C52.9%2063.2%2C52.9%2063.2%2C53.8%2059.9%2C53.8%2059.9%2C57%2063.8%2C57%2063.8%2C57.9%22%3E%3C%2Fpolygon%3E%3Cpolygon%20points%3D%2269.2%2C57.9%2069.2%2C49.1%2073.6%2C49.1%2073.6%2C50%2070.2%2C50%2070.2%2C52.9%2073.2%2C52.9%2073.2%2C53.8%2070.2%2C53.8%2070.2%2C57.9%22%3E%3C%2Fpolygon%3E%3Cpolygon%20points%3D%2275.6%2C57.9%2075.6%2C49.1%2080.3%2C49.1%2080.3%2C50%2076.6%2C50%2076.6%2C52.9%2079.8%2C52.9%2079.8%2C53.8%2076.6%2C53.8%2076.6%2C57%2080.5%2C57%2080.5%2C57.9%22%3E%3C%2Fpolygon%3E%3Cpath%20d%3D%22M83.5%2C57h2.1c1.1%2C0%2C1.7-0.6%2C1.7-1.6c0-1.1-0.6-1.6-1.7-1.6h-2V57z%20M83.5%2C52.9h2c1%2C0%2C1.5-0.5%2C1.5-1.4%20c0-1-0.5-1.4-1.5-1.4h-2V52.9z%20M82.5%2C49.1h3.3c1.6%2C0%2C2.3%2C0.7%2C2.3%2C2.2c0%2C1-0.3%2C1.6-1%2C1.9v0.1c0.6%2C0.2%2C1.2%2C0.9%2C1.2%2C2.1%20c0%2C1.5-0.7%2C2.4-2.4%2C2.4h-3.4V49.1z%22%3E%3C%2Fpath%3E%3Cpath%20d%3D%22M91.9%2C53.3h1.8c1.1%2C0%2C1.6-0.5%2C1.6-1.6c0-1.1-0.5-1.6-1.6-1.6h-1.8V53.3z%20M91.9%2C57.9h-1v-8.7h3%20c1.6%2C0%2C2.5%2C0.9%2C2.5%2C2.5c0%2C1.3-0.6%2C2-1.2%2C2.3l1.3%2C3.9h-1.1l-1.2-3.6h-2.3V57.9z%22%3E%3C%2Fpath%3E%3Cpolygon%20points%3D%2299%2C57.9%2099%2C49.1%20103.7%2C49.1%20103.7%2C50%20100%2C50%20100%2C52.9%20103.3%2C52.9%20103.3%2C53.8%20100%2C53.8%20100%2C57%20103.9%2C57%20103.9%2C57.9%22%3E%3C%2Fpolygon%3E%3Cpath%20d%3D%22M107%2C53.3h1.8c1.1%2C0%2C1.6-0.5%2C1.6-1.6c0-1.1-0.5-1.6-1.6-1.6H107V53.3z%20M107%2C57.9h-1v-8.7h3%20c1.6%2C0%2C2.5%2C0.9%2C2.5%2C2.5c0%2C1.3-0.6%2C2-1.2%2C2.3l1.3%2C3.9h-1.1l-1.2-3.6H107V57.9z%22%3E%3C%2Fpath%3E%3Cpath%20d%3D%22M114.9%2C55.6c0%2C1.1%2C0.7%2C1.5%2C1.8%2C1.5c1.1%2C0%2C1.8-0.4%2C1.8-1.5v-4.1c0-1.1-0.7-1.5-1.8-1.5%20c-1.1%2C0-1.8%2C0.4-1.8%2C1.5V55.6z%20M113.9%2C51.5c0-1.9%2C1-2.5%2C2.8-2.5c1.8%2C0%2C2.8%2C0.7%2C2.8%2C2.5v3.9c0%2C1.9-1%2C2.5-2.8%2C2.5%20c-1.8%2C0-2.8-0.7-2.8-2.5V51.5z%22%3E%3C%2Fpath%3E%3Crect%20y%3D%2223.7%22%20width%3D%2296.4%22%20height%3D%223.6%22%3E%3C%2Frect%3E%3Cpath%20d%3D%22M69.1%2C17.5V0h11.5v2.9h-8V7h7.3v2.9h-7.3v4.7H81v2.9H69.1z%20M85.3%2C17.5V0h11v2.9h-7.6V7h6.9v2.9h-6.9v7.6%20H85.3z%20M54.5%2C17.5H51V0h7.2C62.1%2C0%2C64%2C1.8%2C64%2C5.3c0%2C2.8-1.4%2C4.1-2.7%2C4.6l2.9%2C7.6h-3.8L58%2C10.5h-3.5V17.5z%20M54.5%2C7.7h2.9%20c2%2C0%2C3-0.6%2C3-2.5c0-1.9-1-2.5-3-2.5h-2.9V7.7z%20M39.9%2C2.9h-4.4V0h12.4v2.9h-4.4v14.6h-3.5V2.9z%20M18.8%2C17.5V0h4.1l5.8%2C11.7h0.2V0h3.4%20v17.5h-4L22.2%2C5.3h-0.2v12.2H18.8z%20M0.1%2C0h3.5v12.1c0%2C2%2C1%2C2.8%2C3%2C2.8c2%2C0%2C3-0.8%2C3-2.8V0h3.5v12.1c0%2C3.8-2.3%2C5.7-6.5%2C5.7%20c-4.2%2C0-6.5-1.9-6.5-5.7V0z%22%3E%3C%2Fpath%3E%3C%2Fg%3E%3C%2Fsvg%3E\" style=\"height: 50px;\" />\n",
    "</p>\n",
    "\n",
    "<h3 style=\"text-align: center\">Estructura de Datos</h3>\n",
    "\n",
    "<h2 style=\"text-align: center\">Guía 2: Introducción a Python</h3>"
   ]
  },
  {
   "cell_type": "markdown",
   "id": "28070546-ffda-4931-ae69-0b1bbfb39ad8",
   "metadata": {
    "editable": false,
    "slideshow": {
     "slide_type": ""
    },
    "tags": []
   },
   "source": [
    "**Ej 1:** Escribir una función sumar que reciba una lista de elementos y devuelva la suma de sus elementos, para lo cual debe tratar de convertir cada elemento a un número. Si hay algún elemento que no lo puede convertir a número lo debe ignorar. Escribir los casos de prueba."
   ]
  },
  {
   "cell_type": "code",
   "execution_count": 130,
   "id": "6c7b5f54-5ce4-477a-b100-6e3dec55ae20",
   "metadata": {
    "editable": true,
    "slideshow": {
     "slide_type": ""
    },
    "tags": []
   },
   "outputs": [],
   "source": [
    "def sumar(lista):\n",
    "    try:\n",
    "        suma= 0\n",
    "        for num in lista:\n",
    "            suma += float(num)\n",
    "        return suma\n",
    "    except TypeError:\n",
    "        print(\"Debe pasar un objeto iterable\")\n",
    "    except ValueError:\n",
    "        print(\"Los elementos no son números\")\n",
    "    except OSError as e:\n",
    "        print(e)\n"
   ]
  },
  {
   "cell_type": "code",
   "execution_count": 131,
   "id": "243cc9b3-1e75-44be-9d62-ae2a355d6b49",
   "metadata": {
    "editable": true,
    "slideshow": {
     "slide_type": ""
    },
    "tags": []
   },
   "outputs": [
    {
     "name": "stderr",
     "output_type": "stream",
     "text": [
      "test_argumento_inapropiado (__main__.TestSumar.test_argumento_inapropiado) ... ok\n",
      "test_lista_inapropiada (__main__.TestSumar.test_lista_inapropiada) ... ok\n",
      "test_lista_un_numero (__main__.TestSumar.test_lista_un_numero) ... ok\n",
      "test_lista_variada (__main__.TestSumar.test_lista_variada) ... ok\n",
      "\n",
      "----------------------------------------------------------------------\n",
      "Ran 4 tests in 0.003s\n",
      "\n",
      "OK\n"
     ]
    },
    {
     "name": "stdout",
     "output_type": "stream",
     "text": [
      "Los elementos no son números\n",
      "Debe pasar un objeto iterable\n"
     ]
    }
   ],
   "source": [
    "# Casos de Prueba\n",
    "from unittest import TestCase,main\n",
    "\n",
    "class TestSumar(TestCase):\n",
    "\n",
    "    \n",
    "    def test_lista_variada(self):\n",
    "        self.assertEqual(20,sumar([1.323 , 1/2 , 3+9 , 4 , -0.823 , 3]))\n",
    "    \n",
    "    def test_lista_un_numero(self):\n",
    "        self.assertEqual(99,sumar([99]))\n",
    "\n",
    "    def test_lista_inapropiada(self):\n",
    "        try:\n",
    "            sumar(99)\n",
    "        except TypeError as e:\n",
    "            self.fail(e) \n",
    "            \n",
    "    def test_argumento_inapropiado(self):\n",
    "        try:\n",
    "            sumar([1,2,\"3,\",4])\n",
    "        except ValueError as e:\n",
    "            self.fail(e)\n",
    "            \n",
    "        \n",
    "test = main(argv=[\"\"],defaultTest=\"TestSumar\", verbosity=2, exit=False)"
   ]
  },
  {
   "cell_type": "markdown",
   "id": "8d3583ec-a3b5-4da4-ac28-4af0c312f4ab",
   "metadata": {
    "editable": false,
    "slideshow": {
     "slide_type": ""
    },
    "tags": []
   },
   "source": [
    "**Ej 2:** Dado el siguiente fragmento de código, escribir casos de prueba y justificar si `f1` y `f2` tienen o no el mismo comportamiento. ¿Cuál es la mejor forma de definir la función `f1` o `f2`? ¿Es buena idea atrapar todas las excepciones posibles?\n",
    "\n",
    "El Test "
   ]
  },
  {
   "cell_type": "code",
   "execution_count": 132,
   "id": "a681987c-f227-4aef-9f77-425d28d246af",
   "metadata": {
    "editable": true,
    "slideshow": {
     "slide_type": ""
    },
    "tags": []
   },
   "outputs": [],
   "source": [
    "def f1(a, b):\n",
    "    try:\n",
    "        c = a / b\n",
    "        print(\"El cociente entre a y b es: \", c)\n",
    "        print(\"1\" / \"2\")\n",
    "    except:\n",
    "        print(\"División por cero\")\n",
    "\n",
    "\n",
    "def f2(a, b):\n",
    "    try:\n",
    "        c = a / b\n",
    "    except:\n",
    "        print(\"División por cero\")\n",
    "    else:\n",
    "        print(\"El cociente entre a y b es: \", c)\n",
    "        print(\"1\" / \"2\")\n",
    "\n",
    "\n",
    "if __name__ == \"__main__\":\n",
    "    \"\"\"Escribir casos de pruebas para chequear si f1 y f2 se comportan iguales\"\"\"\n"
   ]
  },
  {
   "cell_type": "code",
   "execution_count": 133,
   "id": "4f7bd572-a51e-4961-9401-696407c68ebd",
   "metadata": {
    "editable": true,
    "slideshow": {
     "slide_type": ""
    },
    "tags": []
   },
   "outputs": [
    {
     "name": "stderr",
     "output_type": "stream",
     "text": [
      "test_division_cero (__main__.Testf1.test_division_cero) ... ok\n",
      "test_division_correcta (__main__.Testf1.test_division_correcta) ... ok\n",
      "\n",
      "----------------------------------------------------------------------\n",
      "Ran 2 tests in 0.002s\n",
      "\n",
      "OK\n",
      "test_division_cero (__main__.Testf2.test_division_cero) ... ok\n",
      "test_division_correcta (__main__.Testf2.test_division_correcta) ... ERROR\n",
      "\n",
      "======================================================================\n",
      "ERROR: test_division_correcta (__main__.Testf2.test_division_correcta)\n",
      "----------------------------------------------------------------------\n",
      "Traceback (most recent call last):\n",
      "  File \"C:\\Users\\ignac\\AppData\\Local\\Temp\\ipykernel_20764\\3407630671.py\", line 21, in test_division_correcta\n",
      "    f2(10,5)\n",
      "  File \"C:\\Users\\ignac\\AppData\\Local\\Temp\\ipykernel_20764\\1310467383.py\", line 17, in f2\n",
      "    print(\"1\" / \"2\")\n",
      "          ~~~~^~~~~\n",
      "TypeError: unsupported operand type(s) for /: 'str' and 'str'\n",
      "\n",
      "----------------------------------------------------------------------\n",
      "Ran 2 tests in 0.002s\n",
      "\n",
      "FAILED (errors=1)\n"
     ]
    },
    {
     "name": "stdout",
     "output_type": "stream",
     "text": [
      "División por cero\n",
      "El cociente entre a y b es:  2.0\n",
      "División por cero\n",
      "División por cero\n",
      "El cociente entre a y b es:  2.0\n"
     ]
    }
   ],
   "source": [
    "# Casos de Prueba\n",
    "import unittest\n",
    "\n",
    "\n",
    "class Testf1(unittest.TestCase):\n",
    "    def test_division_correcta(self):\n",
    "        try:\n",
    "            f1(10,5)\n",
    "        except ZeroDivisionError as z:\n",
    "            self.fail(z)\n",
    "    def test_division_cero(self):\n",
    "        try:\n",
    "            f1(10,0)\n",
    "        except ZeroDivisionError as z:\n",
    "            self.fail(z)\n",
    "\n",
    "class Testf2(unittest.TestCase):\n",
    "\n",
    "    def test_division_correcta(self):\n",
    "        try:\n",
    "            f2(10,5)\n",
    "        except ZeroDivisionError as z:\n",
    "            self.fail(z)\n",
    "    def test_division_cero(self):\n",
    "        try:\n",
    "            f2(10,0)\n",
    "        except ZeroDivisionError as z:\n",
    "            self.fail(z)\n",
    "            \n",
    "test = main(argv=[\"\"],defaultTest=\"Testf1\", verbosity=2, exit=False)\n",
    "test = main(argv=[\"\"],defaultTest=\"Testf2\", verbosity=2, exit=False)\n"
   ]
  },
  {
   "cell_type": "markdown",
   "id": "7515b230-b96a-447a-b69c-7adad18cdd28",
   "metadata": {
    "editable": false,
    "slideshow": {
     "slide_type": ""
    },
    "tags": []
   },
   "source": [
    "**Ej 3:**  Crear una calculadora que permita al usuario realizar operaciones básicas (suma, resta, multiplicación y división) con dos números. Implementar un manejo de excepciones robusto para los siguientes casos:\n",
    "\n",
    "- **División por cero**: Muestra un mensaje de error amigable.\n",
    "- **Operaciones inválidas**: Si el usuario ingresa una operación no soportada.\n",
    "- **Valores no numéricos**: Si el usuario ingresa algo que no sea un número.\n",
    "\n",
    "Escribir los casos de pruebas"
   ]
  },
  {
   "cell_type": "code",
   "execution_count": 134,
   "id": "ca44109e-029d-4bf8-b1fc-cdbec0bb102a",
   "metadata": {
    "editable": true,
    "slideshow": {
     "slide_type": ""
    },
    "tags": []
   },
   "outputs": [],
   "source": [
    "import math\n",
    "\n",
    "def calculadora(a,b,op):\n",
    "    try:\n",
    "        result= 0\n",
    "        match op:\n",
    "            case \"+\":\n",
    "                result = a + b\n",
    "            case \"-\":\n",
    "                result = a - b\n",
    "            case \"*\":\n",
    "                result = a * b\n",
    "            case \"/\":\n",
    "                result = a / b  \n",
    "            case _:\n",
    "                raise TypeError\n",
    "        return result     \n",
    "    except ZeroDivisionError:\n",
    "        print(\"La división por cero no esta definida.\")\n",
    "    except TypeError as e:\n",
    "        print(\"Debe ingresar dos valores numericos y un string como operación:  + ; - ; * ; / \")\n",
    "    except ValueError as e:\n",
    "        print(e)\n",
    "            \n"
   ]
  },
  {
   "cell_type": "code",
   "execution_count": 135,
   "id": "a3e97f81-1df7-4101-ab79-32f629998134",
   "metadata": {
    "editable": true,
    "slideshow": {
     "slide_type": ""
    },
    "tags": []
   },
   "outputs": [
    {
     "name": "stderr",
     "output_type": "stream",
     "text": [
      "test_division (__main__.TestCalculadora.test_division) ... ok\n",
      "test_multiplicacion (__main__.TestCalculadora.test_multiplicacion) ... ok\n",
      "test_resta (__main__.TestCalculadora.test_resta) ... ok\n",
      "test_suma (__main__.TestCalculadora.test_suma) ... ok\n",
      "test_valor_no_numerico (__main__.TestCalculadora.test_valor_no_numerico) ... ok\n",
      "\n",
      "----------------------------------------------------------------------\n",
      "Ran 5 tests in 0.153s\n",
      "\n",
      "OK\n"
     ]
    },
    {
     "name": "stdout",
     "output_type": "stream",
     "text": [
      "La división por cero no esta definida.\n"
     ]
    }
   ],
   "source": [
    "# Casos de Prueba\n",
    "import unittest\n",
    "\n",
    "class TestCalculadora(unittest.TestCase):\n",
    "    def test_suma(self):\n",
    "        self.assertEqual(35,calculadora(12,23,\"+\"))\n",
    "        self.assertLogs(calculadora(1,2,\"+\"))\n",
    "    def test_resta(self):\n",
    "        self.assertEqual(-11,calculadora(12,23,\"-\"))\n",
    "    def test_multiplicacion(self):\n",
    "        self.assertEqual(276,calculadora(12,23,\"*\"))\n",
    "    def test_division(self):\n",
    "        try:\n",
    "            self.assertEqual(12/23,calculadora(12,23,\"/\"))\n",
    "            calculadora(1,0,\"/\")\n",
    "        except ZeroDivisionError as z:\n",
    "            self.fail(z)\n",
    "    def test_valor_no_numerico(self):\n",
    "        pass\n",
    "        \n",
    "\n",
    "test = main(argv=[\"\"],defaultTest=\"TestCalculadora\", verbosity=2, exit=False)"
   ]
  },
  {
   "cell_type": "markdown",
   "id": "637df139-4321-4f8f-ac14-9de1bf4e9b26",
   "metadata": {
    "editable": false,
    "slideshow": {
     "slide_type": ""
    },
    "tags": []
   },
   "source": [
    "**Ej 4:** Crear un programa que copie el contenido de un archivo a otro. El programa debe solicitar al usuario los nombres de ambos archivos. Implementar el manejo de excepciones para los siguientes casos:\n",
    "\n",
    "- **Archivo de origen no encontrado**: Si el archivo original no existe.\n",
    "- **Errores de permisos**: Si el programa no tiene permisos para leer o escribir en los archivos.\n",
    "- **Otros errores de E/S**: Cualquier otro error que pueda ocurrir durante la operación de copia."
   ]
  },
  {
   "cell_type": "code",
   "execution_count": 136,
   "id": "7a36f67a-3258-48df-82b6-49353b159420",
   "metadata": {
    "editable": true,
    "slideshow": {
     "slide_type": ""
    },
    "tags": []
   },
   "outputs": [],
   "source": [
    "#copia el contenido del primer archivo en el segundo. Si el segundo archivo no existe se crea uno con el nombre que se ingrese.\n",
    "def copiar_archivos(origen,copia):\n",
    "    try:        \n",
    "        with open(origen,\"r\") as origen, open(copia,\"w\") as receptor:\n",
    "            for line in origen:\n",
    "                for word in line.split():\n",
    "                    receptor.writelines([word,\" \"])\n",
    "                receptor.write(\"\\n\")\n",
    "    except PermissionError:\n",
    "        print(\"No se poseen los permisos para abrir el archivo\")\n",
    "    except FileNotFoundError:\n",
    "        print(\"Archivo/s no encontrado. Revise el nombre o dirección de sus archivos\")\n",
    "    except OSError as e:\n",
    "        print(e)\n"
   ]
  },
  {
   "cell_type": "code",
   "execution_count": 140,
   "id": "f30d8184-2b9e-4c8a-a898-90c3045b633d",
   "metadata": {
    "editable": true,
    "slideshow": {
     "slide_type": ""
    },
    "tags": []
   },
   "outputs": [
    {
     "name": "stderr",
     "output_type": "stream",
     "text": [
      "test_archivo_no_encontrado (__main__.CopiarArchivos.test_archivo_no_encontrado) ... ok\n",
      "test_archivo_sin_permisos (__main__.CopiarArchivos.test_archivo_sin_permisos) ... ok\n",
      "test_copia (__main__.CopiarArchivos.test_copia) ... ok\n",
      "test_copiar_copia (__main__.CopiarArchivos.test_copiar_copia) ... ok\n",
      "\n",
      "----------------------------------------------------------------------\n",
      "Ran 4 tests in 0.029s\n",
      "\n",
      "OK\n"
     ]
    },
    {
     "name": "stdout",
     "output_type": "stream",
     "text": [
      "Archivo/s no encontrado. Revise el nombre o dirección de sus archivos\n",
      "Archivo/s no encontrado. Revise el nombre o dirección de sus archivos\n",
      "No se poseen los permisos para abrir el archivo\n"
     ]
    }
   ],
   "source": [
    "# Casos de Prueba\n",
    "from unittest import TestCase,main\n",
    "import os\n",
    "\n",
    "class CopiarArchivos(TestCase):\n",
    "    def setUp(self):\n",
    "        with open(\"archivo_copiable.txt\",\"w\") as copiado: \n",
    "            copiado.writelines([\"prueba de copia de archivos \\n\",\"Ignacio Lobo \\n\",\"+-*/ \\n\"])\n",
    "        open(\"receptor_de_copias.txt\",\"w\").close() \n",
    "        open(\"copia_de_la_copia.txt\",\"w\").close()\n",
    "        open(\"archivo_sin_permisos.txt\",\"w\").close()\n",
    "        os.chmod(\"archivo_sin_permisos.txt\",0o000)\n",
    "    \n",
    "    def test_copia(self):\n",
    "        copiar_archivos(\"archivo_copiable.txt\",\"receptor_de_copias.txt\")\n",
    "        with open(\"archivo_copiable.txt\",\"r\") as copiado, open(\"receptor_de_copias.txt\",\"r\") as receptor:\n",
    "            self.assertEqual(copiado.read(),receptor.read())\n",
    "            \n",
    "    def test_copiar_copia(self):\n",
    "        copiar_archivos(\"archivo_copiable.txt\",\"receptor_de_copias.txt\")\n",
    "        with open(\"archivo_copiable.txt\",\"r\") as copiado, open(\"receptor_de_copias.txt\",\"r\") as receptor:\n",
    "            self.assertEqual(copiado.read(),receptor.read())\n",
    "            # restablece el puntero de léctura al inicio del archivo :O\n",
    "            copiado.seek(0)\n",
    "            copiar_archivos(\"receptor_de_copias.txt\",\"copia_de_la_copia.txt\")\n",
    "            with open(\"copia_de_la_copia.txt\",\"r\") as copia_de_la_copia:\n",
    "                self.assertEqual(copiado.read(),copia_de_la_copia.read())\n",
    "\n",
    "    def test_copia(self):\n",
    "        copiar_archivos(\"archivo_copiable.txt\",\"nuevo_archivo.txt\")\n",
    "        with open(\"archivo_copiable.txt\",\"r\") as copiado, open(\"nuevo_archivo.txt\",\"r\") as nuevo:\n",
    "            self.assertEqual(copiado.read(),nuevo.read())\n",
    "        os.remove(\"nuevo_archivo.txt\")\n",
    "\n",
    "    def test_archivo_no_encontrado(self):\n",
    "        try:\n",
    "            copiar_archivos(\"inexistente.txt\",\"inexistible.txt\")\n",
    "            copiar_archivos(\"nada.txt\",\"receptor_de_copias.txt\")\n",
    "        except FileNotFoundError:\n",
    "            self.fail()\n",
    "    \n",
    "    def test_archivo_sin_permisos(self):\n",
    "        try:\n",
    "            copiar_archivos(\"archivo_sin_permisos.txt\",\"receptor_de_copias.txt\")\n",
    "            copiar_archivos(\"archivo_copiable.txt\",\"archivo_sin_permisos.txt\")\n",
    "        # el \"problema\" es tambien me pude tomar esto o OSError\n",
    "        # except FileNotFoundError:\n",
    "        #     self.fail()\n",
    "        except PermissionError:\n",
    "            self.fail()\n",
    "    \n",
    "    def tearDown(self):\n",
    "        os.remove(\"archivo_copiable.txt\")\n",
    "        os.remove(\"receptor_de_copias.txt\")\n",
    "        os.remove(\"copia_de_la_copia.txt\")\n",
    "        #   write user read user stat.S_IWUSR | stat.S_IRUSR\n",
    "        os.chmod(\"archivo_sin_permisos.txt\",0o600)\n",
    "        os.remove(\"archivo_sin_permisos.txt\")\n",
    "test = main(argv=[\"\"], defaultTest=\"CopiarArchivos\", verbosity=2, exit=False)"
   ]
  },
  {
   "cell_type": "markdown",
   "id": "5b33b963-7c99-4797-bea2-f5e45d149e0d",
   "metadata": {
    "editable": false,
    "slideshow": {
     "slide_type": ""
    },
    "tags": []
   },
   "source": [
    "**Ej 5:** Escribir un programa que cuente el número de palabras de un archivo de texto. El programa debe solicitar el nombre del archivo al usuario. Implementar el manejo de excepciones para los casos en los que el archivo no existe o si hay problemas al leer el archivo."
   ]
  },
  {
   "cell_type": "code",
   "execution_count": 141,
   "id": "68c14cb7-18be-412c-8531-88f1c0790efa",
   "metadata": {
    "editable": true,
    "slideshow": {
     "slide_type": ""
    },
    "tags": []
   },
   "outputs": [],
   "source": [
    "def conteo_palabras(archivo: str):\n",
    "    try:\n",
    "        with open(archivo) as arc:\n",
    "            \n",
    "            i=0\n",
    "            for lin in arc:\n",
    "                i+= len(lin.split())\n",
    "        \n",
    "        return i\n",
    "    except PermissionError:\n",
    "        print(\"No posees el permiso para abrir el archivo.\")\n",
    "    except FileNotFoundError:\n",
    "        return -1\n",
    "    except ValueError:\n",
    "        print(\"Argumento inapropiado\")\n",
    "    except OSError as e:\n",
    "        print(e)"
   ]
  },
  {
   "cell_type": "code",
   "execution_count": 142,
   "id": "2dbf5303-6891-4ed9-a85e-3580e7499f3b",
   "metadata": {
    "editable": true,
    "slideshow": {
     "slide_type": ""
    },
    "tags": []
   },
   "outputs": [
    {
     "name": "stderr",
     "output_type": "stream",
     "text": [
      "test_archivo_inexistente (__main__.TestConteoPalabras.test_archivo_inexistente) ... ok\n",
      "test_archivo_lorem_ipsum (__main__.TestConteoPalabras.test_archivo_lorem_ipsum) ... ok\n",
      "test_archivo_pocas_palabras (__main__.TestConteoPalabras.test_archivo_pocas_palabras) ... ok\n",
      "test_archivo_sin_permiso (__main__.TestConteoPalabras.test_archivo_sin_permiso) ... ok\n",
      "test_archivo_vacio (__main__.TestConteoPalabras.test_archivo_vacio) ... ok\n",
      "\n",
      "----------------------------------------------------------------------\n",
      "Ran 5 tests in 0.024s\n",
      "\n",
      "OK\n"
     ]
    }
   ],
   "source": [
    "# Casos de Prueba\n",
    "\n",
    "from unittest import TestCase,main\n",
    "import os\n",
    "\n",
    "class TestConteoPalabras(TestCase):\n",
    "\n",
    "    def setUp(self):\n",
    "        open(\"archivo_vacio.txt\",\"w\").close()\n",
    "        with open(\"archivo.txt\",\"w\") as file:\n",
    "            file.write(\"Estructura de Datos\")\n",
    "        with open(\"archivo_lorem_ipsum.txt\",\"w\") as file:\n",
    "            for i in range (0,10):\n",
    "                file.write(\"Lorem ipsum dolor sit amet, consectetur adipiscing elit, sed do eiusmod tempor incididunt ut labore et dolore magna aliqua.\\n\")\n",
    "        open(\"archivo_sin_permisos_conteo.txt\",\"w\").close()\n",
    "        os.chmod(\"archivo_sin_permisos_conteo.txt\",0o000)\n",
    "        \n",
    "    def test_archivo_vacio(self):\n",
    "        self.assertEqual(0,conteo_palabras(\"archivo_vacio.txt\"))\n",
    "\n",
    "    def test_archivo_pocas_palabras(self):\n",
    "        self.assertEqual(3,conteo_palabras(\"archivo.txt\"))\n",
    "\n",
    "    def test_archivo_lorem_ipsum(self):\n",
    "        self.assertEqual(190,conteo_palabras(\"archivo_lorem_ipsum.txt\"))\n",
    "\n",
    "    def test_archivo_inexistente(self):\n",
    "        self.assertEqual(-1,conteo_palabras(\"archivo_inexistete.txt\"))\n",
    "\n",
    "    def test_archivo_sin_permiso(self):\n",
    "        try:\n",
    "            conteo_palabras(\"archivo_sin_permisos_conteo.txt\")\n",
    "        except PermissionError:\n",
    "            self.fail()    \n",
    "\n",
    "    def tearDown(self):\n",
    "        os.chmod(\"archivo_sin_permisos_conteo.txt\",0o600)\n",
    "        os.remove(\"archivo.txt\")\n",
    "        os.remove(\"archivo_vacio.txt\")\n",
    "        os.remove(\"archivo_lorem_ipsum.txt\")\n",
    "        os.remove(\"archivo_sin_permisos_conteo.txt\")\n",
    "    \n",
    "test = main(argv=[\"\"], defaultTest=\"TestConteoPalabras\", verbosity=2, exit=False)"
   ]
  },
  {
   "cell_type": "markdown",
   "id": "052d4acc-d606-4d31-b2ec-f77fceb85270",
   "metadata": {
    "editable": false,
    "slideshow": {
     "slide_type": ""
    },
    "tags": []
   },
   "source": [
    "**Ej 6:** Crear un programa que busque una palabra específica dentro de un archivo de texto (no debe distinguir entre mayúsculas y minúsculas). El programa debe solicitar al usuario el nombre del archivo y la palabra a buscar. Si la palabra se encuentra, debe indicar en qué línea aparece (si aparece en varias líneas debe indicar todas las líneas). Implementar el manejo de excepciones para los siguientes casos:\n",
    "\n",
    "- **Archivo no encontrado**: Si el archivo no existe.\n",
    "- **Errores de lectura**: Si ocurre algún problema al leer el archivo.\n",
    "- **Palabra no encontrada**: Si la palabra buscada no está en el archivo."
   ]
  },
  {
   "cell_type": "code",
   "execution_count": 143,
   "id": "f98fde7e-1139-475c-b169-9451d380198f",
   "metadata": {
    "editable": true,
    "slideshow": {
     "slide_type": ""
    },
    "tags": []
   },
   "outputs": [],
   "source": [
    "import string\n",
    "class NotFindWord(Exception):\n",
    "    def __init__(self, *args: object) -> None:\n",
    "        super().__init__(*args)\n",
    "    def func(self):\n",
    "        print(\"La palabra no se encontró en el archivo. ¿Escribio la palabra correctamente?\")\n",
    "    \n",
    "#pre: recive una palabra buscada en string y un archivo de texto\n",
    "#pos: devuelve una lista que indica linea y posición en la que se encuentra la palabra deseada.\n",
    "def busqueda_palabras(palabra_entrada: str,archivo: str):\n",
    "    try:\n",
    "        lista=[]\n",
    "        palabra = palabra_entrada.lower().strip(string.punctuation + \" \")\n",
    "        with open(archivo) as archivo:\n",
    "            line_pos=1\n",
    "            for lines in archivo:\n",
    "                for word_pos,word in enumerate(lines.split(),1):\n",
    "                    if word.lower().strip(string.punctuation) == palabra:\n",
    "                        lista.append((line_pos,word_pos))\n",
    "                line_pos+=1\n",
    "        if len(lista) == 0:\n",
    "            raise NotFindWord \n",
    "        else:\n",
    "            return lista\n",
    "    except NotFindWord as nfw: \n",
    "        nfw.func()\n",
    "        return -1 \n",
    "    except FileNotFoundError:\n",
    "        print(\"Arhivo no encontrado.\")\n",
    "        return -2\n"
   ]
  },
  {
   "cell_type": "code",
   "execution_count": 148,
   "id": "a2ff3b3b-8a8a-40fa-bd6b-d9af56f3ae26",
   "metadata": {
    "slideshow": {
     "slide_type": ""
    },
    "tags": []
   },
   "outputs": [
    {
     "name": "stderr",
     "output_type": "stream",
     "text": [
      "test_archivo_no_encontrada (__main__.TestBuscarArchivo.test_archivo_no_encontrada) ... ok\n",
      "test_palabra_no_encontrada (__main__.TestBuscarArchivo.test_palabra_no_encontrada) ... ok\n",
      "test_palabra_palabras (__main__.TestBuscarArchivo.test_palabra_palabras) ... ok\n",
      "test_palabras_strip_lower (__main__.TestBuscarArchivo.test_palabras_strip_lower) ... ok\n",
      "\n",
      "----------------------------------------------------------------------\n",
      "Ran 4 tests in 0.011s\n",
      "\n",
      "OK\n"
     ]
    },
    {
     "name": "stdout",
     "output_type": "stream",
     "text": [
      "Arhivo no encontrado.\n",
      "La palabra no se encontró en el archivo. ¿Escribio la palabra correctamente?\n"
     ]
    }
   ],
   "source": [
    "# Casos de Prueba\n",
    "from unittest import TestCase,main\n",
    "import os\n",
    "\n",
    "class TestBuscarArchivo(TestCase):\n",
    "    def setUp(self):\n",
    "        with open(\"buscar_palabra.txt\",\"w\") as archi:\n",
    "            archi.write(\"Estoy buscando la palabra que no encuentro.\\nPalabras por todos lados, pero no las palabras que busco.\\nNo digas pocas cosas con muchas palabras sino muchas cosas con pocas palabras.\\nLa palabra es el reflejo de la accion.\\nNo te obseciones con las palabras demasiado.\\nBusca el significado detras de las palabras y luego decide.\")\n",
    "        \n",
    "    def test_palabra_palabras(self):\n",
    "        self.assertEqual([(1, 4), (4, 2)],busqueda_palabras(\"palabra\",\"buscar_palabra.txt\"))\n",
    "        self.assertEqual([(2, 1), (2, 8), (3, 7), (3, 13), (5, 6), (6, 7)],busqueda_palabras(\"palabras\",\"buscar_palabra.txt\"))\n",
    "        \n",
    "    def test_palabras_strip_lower(self):\n",
    "        self.assertEqual( busqueda_palabras(\" palabras. \",\"buscar_palabra.txt\") , busqueda_palabras(\", palabras ,\",\"buscar_palabra.txt\"))\n",
    "        self.assertEqual([(1, 6), (2, 6), (3, 1), (5, 1)],busqueda_palabras(\"nO\",\"buscar_palabra.txt\"))\n",
    "        self.assertEqual([(1, 3), (4, 1), (4, 7)],busqueda_palabras(\"La\",\"buscar_palabra.txt\"))\n",
    "        self.assertEqual([(2, 7), (5, 5), (6, 6)],busqueda_palabras(\"LAS\",\"buscar_palabra.txt\"))\n",
    "        self.assertEqual([(6, 10)],busqueda_palabras(\"decIDE.\",\"buscar_palabra.txt\"))\n",
    "        \n",
    "    def test_palabra_no_encontrada(self):\n",
    "        self.assertEqual(-1,busqueda_palabras(\"\",\"buscar_palabra.txt\"))\n",
    "    \n",
    "    def test_archivo_no_encontrada(self):\n",
    "        self.assertEqual(-2,busqueda_palabras(\"a\",\"palabra.txt\"))\n",
    "        \n",
    "    def tearDown(self):\n",
    "        os.remove(\"buscar_palabra.txt\")\n",
    "    \n",
    "test = main(argv=[\"\"],defaultTest=\"TestBuscarArchivo\",verbosity=2,exit=False)"
   ]
  },
  {
   "cell_type": "markdown",
   "id": "e6d5b243-4481-41fb-8ce1-0a50a0bc671a",
   "metadata": {
    "editable": false,
    "slideshow": {
     "slide_type": ""
    },
    "tags": []
   },
   "source": [
    "**Ej 7:**  Crear una clase que represente a una persona con atributos nombre, edad y una lista de hobbies. Crear un objeto de esta clase y serializarlo tanto con pickle como con dill. Deserializar los archivos resultantes y verificar que los objetos recuperados sean idénticos al original."
   ]
  },
  {
   "cell_type": "code",
   "execution_count": 145,
   "id": "dace7ea9-d779-49b1-802b-edc99aac3221",
   "metadata": {
    "editable": true,
    "slideshow": {
     "slide_type": ""
    },
    "tags": []
   },
   "outputs": [],
   "source": [
    "class PersonaConHobbies():\n",
    "    def __init__(self,nombre,edad):\n",
    "        self.nombre = nombre\n",
    "        self.edad = edad\n",
    "        self.hobbies = []\n",
    "    def get_hobbies(self):\n",
    "        return self.hobbies\n",
    "    def add_hobbie(self,hobbie):\n",
    "        self.hobbies.append(hobbie)\n"
   ]
  },
  {
   "cell_type": "code",
   "execution_count": 152,
   "id": "bd81524d-2166-4e02-853f-2e733ee2b27c",
   "metadata": {
    "editable": true,
    "slideshow": {
     "slide_type": ""
    },
    "tags": []
   },
   "outputs": [
    {
     "name": "stderr",
     "output_type": "stream",
     "text": [
      "test_deserializar_dill (__main__.TestSerializarHobbies.test_deserializar_dill) ... ok\n",
      "test_deserializar_pickle (__main__.TestSerializarHobbies.test_deserializar_pickle) ... ok\n",
      "\n",
      "----------------------------------------------------------------------\n",
      "Ran 2 tests in 0.010s\n",
      "\n",
      "OK\n"
     ]
    },
    {
     "name": "stdout",
     "output_type": "stream",
     "text": [
      "nacho:  <__main__.PersonaConHobbies object at 0x00000237AD7A0C80> \n",
      " hobbies: ['Leer ficción-fantasia', 'Jugar videojuegos', 'Escuchar Bach', 'Contemplar la belleza y el horror del cosmos']\n",
      "nacho_dill:  <__main__.PersonaConHobbies object at 0x00000237AD438F80> \n",
      " hobbies: ['Leer ficción-fantasia', 'Jugar videojuegos', 'Escuchar Bach', 'Contemplar la belleza y el horror del cosmos']\n",
      "nacho_pickle:  <__main__.PersonaConHobbies object at 0x00000237AD7AC710> \n",
      " hobbies:  ['Leer ficción-fantasia', 'Jugar videojuegos', 'Escuchar Bach', 'Contemplar la belleza y el horror del cosmos']\n"
     ]
    }
   ],
   "source": [
    "# Casos de Prueba\n",
    "from unittest import TestCase, main\n",
    "import pickle, dill, os\n",
    "\n",
    "nacho = PersonaConHobbies(\"Ignacio\",20)\n",
    "nacho.add_hobbie(\"Leer ficción-fantasia\")\n",
    "nacho.add_hobbie(\"Jugar videojuegos\")\n",
    "nacho.add_hobbie(\"Escuchar Bach\")\n",
    "nacho.add_hobbie(\"Contemplar la belleza y el horror del cosmos\")\n",
    "\n",
    "class TestSerializarHobbies(TestCase):\n",
    "\n",
    "    def setUp(self) -> None:\n",
    "        with open(\"dillseri.txt\", \"wb\") as file_nacho_dill, open(\"pickleseri.txt\", \"wb\") as file_nacho_pickle:\n",
    "            pickle.dump(nacho, file_nacho_pickle)\n",
    "            dill.dump(nacho, file_nacho_dill)\n",
    "\n",
    "    def test_deserializar_dill(self):\n",
    "\n",
    "        file_nacho_dill = open(\"dillseri.txt\",\"rb\")\n",
    "        print(\"nacho: \",nacho,\"\\n hobbies:\",nacho.get_hobbies())\n",
    "        #no son el mismo objeto, ocupan diferentes posiciones en el heap, \n",
    "        # pero se crea con la información almacenada en el archivo, \n",
    "        # por tanto los atributos son identicos... ?\n",
    "        nacho_dill = dill.load(file_nacho_dill)\n",
    "        print(\"nacho_dill: \",nacho_dill,\"\\n hobbies:\",nacho_dill.get_hobbies())\n",
    "        self.assertEqual(nacho.nombre,nacho_dill.nombre)\n",
    "        self.assertEqual(nacho.edad,nacho_dill.edad)\n",
    "        self.assertEqual(nacho.hobbies,nacho_dill.get_hobbies())\n",
    "        file_nacho_dill.close()\n",
    "\n",
    "    def test_deserializar_pickle(self):\n",
    "        with open(\"pickleseri.txt\",\"rb\") as file_nacho_pickle:\n",
    "            nacho_pickle = pickle.load(file_nacho_pickle)\n",
    "            print(\"nacho_pickle: \",nacho_pickle,\"\\n hobbies: \",nacho_pickle.get_hobbies())\n",
    "            self.assertEqual(nacho.nombre,nacho_pickle.nombre)\n",
    "            self.assertEqual(nacho.edad,nacho_pickle.edad)\n",
    "            self.assertEqual(nacho.hobbies,nacho_pickle.get_hobbies())\n",
    "\n",
    "    def tearDown(self):\n",
    "        os.remove(\"pickleseri.txt\")\n",
    "        os.remove(\"dillseri.txt\")\n",
    "\n",
    "\n",
    "test = main(argv=[\"\"], defaultTest=\"TestSerializarHobbies\", verbosity=2, exit=False)"
   ]
  },
  {
   "cell_type": "code",
   "execution_count": null,
   "id": "8669f1e0",
   "metadata": {},
   "outputs": [],
   "source": []
  },
  {
   "cell_type": "markdown",
   "id": "2959545d-536f-457d-aaaa-a45dd8bb4f5b",
   "metadata": {
    "editable": false,
    "slideshow": {
     "slide_type": ""
    },
    "tags": []
   },
   "source": [
    "**Ej 8:** Crear un diccionario que represente a un producto con atributos nombre, precio, descripción y una lista de características. Serializar este diccionario a un archivo JSON. Implementar un menu que permita cargar el diccionario desde memoria, guardar un diccionario y agregar características a un producto existente. Manejar cualquier excepción que pueda surgir."
   ]
  },
  {
   "cell_type": "code",
   "execution_count": 4,
   "id": "ed6fbab6-815f-4d97-b63a-b2bf011f3753",
   "metadata": {
    "editable": true,
    "slideshow": {
     "slide_type": ""
    },
    "tags": []
   },
   "outputs": [
    {
     "name": "stdout",
     "output_type": "stream",
     "text": [
      "Producto:  {'Name': 'coquita', 'Price': '200', 'Description': 'envase de vidrio', 'Features': ''}\n",
      "\n",
      "0. SALIR DEL PROGRAMA.\n",
      "1. Nuevo Producto\n",
      "2. Guardar en memoria.\n",
      "3. Cargar de memoria.\n",
      "4. Modificar un producto existente. \n",
      "5. Agregar Característica.\n",
      "\n"
     ]
    }
   ],
   "source": [
    "#import os\n",
    "import json\n",
    "from IPython.display import clear_output\n",
    "\n",
    "dictProduct = {\"Name\":\"\",\"Price\":\"\",\"Description\":\"\",\"Features\":\"\"}\n",
    "\n",
    "def _crear_producto(nombre,precio,descrip):\n",
    "    _mod_nombre(nombre)\n",
    "    _mod_precio(precio=precio)\n",
    "    _mod_descripcion(descrip=descrip)\n",
    "    dictProduct[\"Features\"] = \"\"\n",
    "    \n",
    "def _mod_nombre(nombre:str):\n",
    "    dictProduct[\"Name\"] = nombre\n",
    "\n",
    "def _mod_precio(precio:int):\n",
    "    dictProduct[\"Price\"] = precio\n",
    "\n",
    "def _mod_descripcion(descrip:str):\n",
    "    dictProduct[\"Description\"] = descrip\n",
    "\n",
    "def _agrega_caracterictica(caract):\n",
    "    if caract == \"Name\" or caract == \"Description\":\n",
    "        print(\"Si desea modificar el producto, seleccione la opción 4.\\n\")\n",
    "        return\n",
    "    if dictProduct[\"Features\"] == \"\": \n",
    "        coma = \"\"\n",
    "    else:\n",
    "        coma = \"; \"     \n",
    "    dictProduct[\"Features\"] = dictProduct[\"Features\"] + coma + caract\n",
    "\n",
    "def _guardar_producto(file:str):\n",
    "    with open(file, \"w\") as file:\n",
    "        json.dump(dictProduct,file)\n",
    "\n",
    "def _cargar_producto(file:str):\n",
    "    global dictProduct\n",
    "    try:\n",
    "        with  open(file, \"r\") as jeison:\n",
    "            dictProduct = json.load(jeison)\n",
    "    except FileNotFoundError:\n",
    "        print(\"Archivo no encontrado.\")\n",
    "\n",
    "def _imprimir_producto():\n",
    "    print(\"Producto: \",dictProduct)\n",
    "\n",
    "tecla= -1\n",
    "while tecla != \"10\":\n",
    "    \n",
    "    \n",
    "    \n",
    "    _imprimir_producto()\n",
    "    print(\"\\n0. SALIR DEL PROGRAMA.\\n1. Nuevo Producto\\n2. Guardar en memoria.\\n3. Cargar de memoria.\\n4. Modificar un producto existente. \\n5. Agregar Característica.\\n\")\n",
    "    tecla = input(\"Elija una opción: \")\n",
    "    match tecla:\n",
    "        case \"1\":\n",
    "            print(\"Nuevo Producto\") \n",
    "            nombre_prod = input(\"Nombre del producto: \")\n",
    "            precio_prod = input(\"Precio del producto: \")          \n",
    "            descrip_prod = input(\"Descripcion del producto: \")\n",
    "            _crear_producto(nombre_prod,precio_prod,descrip_prod)\n",
    "            \n",
    "        case \"2\":\n",
    "            file_name = input(\"Nombre del archivo que desea guardar: \")\n",
    "            _guardar_producto(file_name)\n",
    "        case \"3\":\n",
    "            file_name = input(\"Nombre del archivo json que desea cargar en memoria: \")\n",
    "            _cargar_producto(file_name)\n",
    "        case \"4\":\n",
    "            mini_menu = -1\n",
    "            while mini_menu != 0:\n",
    "                print(\"\\n0. Volver al menú.\\n1. Cambiar nombre del producto.\\n2. Cambiar precio del producto.\\n3. Cambiar descripción del producto.\\n\")\n",
    "                mini_menu= input(\"Elija una opción para modificar: \")\n",
    "                                \n",
    "                _imprimir_producto()\n",
    "                match mini_menu:\n",
    "                    case \"0\":\n",
    "                        break\n",
    "                    case \"1\":\n",
    "                        cambio = input(\"Nuevo nombre: \")\n",
    "                        _mod_nombre(cambio)\n",
    "                    case \"2\":\n",
    "                        cambio = input(\"Nuevo precio: \")\n",
    "                        _mod_precio(cambio)\n",
    "                    case \"3\":\n",
    "                        cambio = input(\"Nueva descripción: \")\n",
    "                        _mod_descripcion(cambio)\n",
    "                    case _:\n",
    "                        pass\n",
    "                clear_output(True)\n",
    "\n",
    "        case \"5\":\n",
    "            caracte = input(\"Ingrese la nueva característica del producto: \")\n",
    "            _agrega_caracterictica(caracte)      \n",
    "        case \"0\":\n",
    "            break\n",
    "        case _:\n",
    "            print(\"Opcion incorrecta.\")\n",
    "    clear_output(True)\n",
    "    \n",
    "\n",
    "    \"\"\" Si fallan los clear_output...\n",
    "    0. SALIR DEL PROGRAMA.\n",
    "    1. Nuevo Producto\n",
    "    2. Guardar en memoria.\n",
    "    3. Cargar de memoria.\n",
    "    4. Modificar un producto existente.\n",
    "        0. Volver al menú.\n",
    "        1. Cambiar nombre del producto.\n",
    "        2. Cambiar precio del producto.\n",
    "        3. Cambiar descripción del producto.\n",
    "    5. Agregar Característica.\n",
    "    \"\"\"\n"
   ]
  },
  {
   "cell_type": "code",
   "execution_count": 11,
   "id": "9d3d4a03-cad4-4ce5-9849-1c3e53f6c43a",
   "metadata": {
    "slideshow": {
     "slide_type": ""
    },
    "tags": []
   },
   "outputs": [
    {
     "name": "stderr",
     "output_type": "stream",
     "text": [
      "test_deserializar_json (__main__.TestProductoDiccionario.test_deserializar_json) ... ok\n",
      "\n",
      "----------------------------------------------------------------------\n",
      "Ran 1 test in 0.003s\n",
      "\n",
      "OK\n"
     ]
    }
   ],
   "source": [
    "# Casos de Prueba\n",
    "import os\n",
    "from unittest import TestCase, main\n",
    "\n",
    "class TestProductoDiccionario(TestCase):\n",
    "\n",
    "    def setUp(self) -> None:\n",
    "        _crear_producto(\"Pepsi\",1500,\"500ml\")\n",
    "        _agrega_caracterictica(\"Envase de plástico\")\n",
    "        _agrega_caracterictica(\"Etiqueta azul\")\n",
    "        _guardar_producto(\"Pepsi.j\")\n",
    "\n",
    "\n",
    "    def test_deserializar_json(self):\n",
    "        _crear_producto(\"Coca\",1200,\"1L\")\n",
    "        _agrega_caracterictica(\"Envase de vidrio\")\n",
    "        _guardar_producto(\"Coca.j\")\n",
    "        _cargar_producto(\"Pepsi.j\")\n",
    "        self.assertEqual(dictProduct[\"Name\"],\"Pepsi\")\n",
    "        self.assertEqual(dictProduct[\"Price\"],1500)\n",
    "        self.assertEqual(dictProduct[\"Description\"],\"500ml\")\n",
    "        self.assertEqual(dictProduct[\"Features\"],\"Envase de plástico; Etiqueta azul\")\n",
    "        _cargar_producto(\"Coca.j\")\n",
    "        self.assertEqual(dictProduct[\"Name\"],\"Coca\")\n",
    "        self.assertEqual(dictProduct[\"Price\"],1200)\n",
    "        self.assertEqual(dictProduct[\"Description\"],\"1L\")\n",
    "        self.assertEqual(dictProduct[\"Features\"],\"Envase de vidrio\")\n",
    "        os.remove(\"Coca.j\")\n",
    "\n",
    "    def tearDown(self):\n",
    "        os.remove(\"Pepsi.j\")\n",
    "\n",
    "\n",
    "test = main(argv=[\"\"], defaultTest=\"TestProductoDiccionario\", verbosity=2, exit=False)"
   ]
  },
  {
   "cell_type": "markdown",
   "id": "26b644b4-e884-4a11-bc95-07f93649ce7c",
   "metadata": {
    "editable": false,
    "slideshow": {
     "slide_type": ""
    },
    "tags": []
   },
   "source": [
    "**Ej 9:** Crear una base de datos simple utilizando shelve para almacenar información de contactos. Cada contacto debe tener un nombre, un número de teléfono y una dirección de correo electrónico. Implementar funciones para agregar nuevos contactos, buscar contactos por nombre y eliminar contactos. Manejar cualquier excepción que pueda ocurrir. Los contactos se indexan por el nombre."
   ]
  },
  {
   "cell_type": "code",
   "execution_count": 49,
   "id": "d41a7adf-017a-4174-a646-60638e015c6e",
   "metadata": {
    "editable": true,
    "slideshow": {
     "slide_type": ""
    },
    "tags": []
   },
   "outputs": [],
   "source": [
    "import shelve, pickle\n",
    "\n",
    "class Contacto():\n",
    "    def __init__(self,nombre,numero,email) -> None:\n",
    "        self.nombre=nombre\n",
    "        self.numero=numero\n",
    "        self.email=email\n",
    "\n",
    "\n",
    "def agregar_contacto_BD(lista_contactos):\n",
    "        with shelve.open(\"base_de_datos.s\") as bd:\n",
    "            for contacto in lista_contactos:\n",
    "                bd[contacto.nombre] = contacto\n",
    "\n",
    "#ingrese contacto/s    \n",
    "def buscar_contacto_BD(nombre_buscado):\n",
    "    with shelve.open(\"base_de_datos.s\") as bd:\n",
    "        try:\n",
    "            return bd[nombre_buscado]\n",
    "        except KeyError:\n",
    "            print(\"No se encuentra en la base de datos\")\n",
    "       \n",
    "def eliminar_contacto_BD(nombre_buscado):\n",
    "    with shelve.open(\"base_de_datos.s\") as bd:\n",
    "        try:\n",
    "            bd.pop(nombre_buscado)\n",
    "        except KeyError:\n",
    "            print(\"No se encuentra en la base de datos\")\n",
    "\n"
   ]
  },
  {
   "cell_type": "code",
   "execution_count": 51,
   "id": "90fb5a84-90cb-4d1d-a841-ce163e59f6a3",
   "metadata": {
    "editable": true,
    "slideshow": {
     "slide_type": ""
    },
    "tags": []
   },
   "outputs": [
    {
     "name": "stderr",
     "output_type": "stream",
     "text": [
      "test_deserializar_shelve (__main__.TestContactosShelve.test_deserializar_shelve) ... ok\n",
      "\n",
      "----------------------------------------------------------------------\n",
      "Ran 1 test in 0.008s\n",
      "\n",
      "OK\n"
     ]
    }
   ],
   "source": [
    "# Casos de Prueba\n",
    "import os\n",
    "from unittest import TestCase, main\n",
    "\n",
    "class TestContactosShelve(TestCase):\n",
    "\n",
    "    def setUp(self) -> None:\n",
    "        contactos = (Contacto(\"Ana\",\"1122334455\",\"anadelastejas@gmail.com\"),Contacto(\"Juana\",\"1199887766\",\"juana@gmail.com\"))\n",
    "        agregar_contacto_BD(contactos)\n",
    "\n",
    "\n",
    "    def test_deserializar_shelve(self):\n",
    "        self.assertEqual(\"juana@gmail.com\",buscar_contacto_BD(\"Juana\").email)\n",
    "        self.assertEqual(\"1122334455\",buscar_contacto_BD(\"Ana\").numero)\n",
    "        self.assertEqual(\"Juana\",buscar_contacto_BD(\"Juana\").nombre)\n",
    "       \n",
    "    def test_eliminar_shelve(self):\n",
    "        eliminar_contacto_BD(\"Juana\")\n",
    "        try:\n",
    "            buscar_contacto_BD(\"Juana\")\n",
    "            buscar_contacto_BD(\"Ana\").nombre\n",
    "        except AttributeError:\n",
    "            self.fail()\n",
    "        try:\n",
    "            eliminar_contacto_BD(\"Paco\")\n",
    "        except KeyError:\n",
    "            self.fail()\n",
    "\n",
    "    def tearDown(self):\n",
    "        conservar = [\"Guia 2.ipynb\"]\n",
    "        # os.remove(\"base_de_datos.s\")\n",
    "        pass\n",
    "        basura = os.listdir()\n",
    "        for sacar in basura:\n",
    "            if sacar not in conservar:\n",
    "                os.remove(sacar)\n",
    "\n",
    "\n",
    "test = main(argv=[\"\"], defaultTest=\"TestContactosShelve\", verbosity=2, exit=False)"
   ]
  },
  {
   "cell_type": "markdown",
   "id": "1188981b-d1e9-4002-b49b-95616b4ec8ea",
   "metadata": {
    "editable": false,
    "slideshow": {
     "slide_type": ""
    },
    "tags": []
   },
   "source": [
    "**Ej 10:** Crear una base de datos utilizando dbm para almacenar pares clave-valor. Las claves serán cadenas de texto y los valores serán números enteros. Implementar funciones para agregar nuevos pares, buscar valores por clave y eliminar pares. Investigar y comparar el rendimiento de dbm con shelve para almacenar grandes cantidades de datos."
   ]
  },
  {
   "cell_type": "code",
   "execution_count": null,
   "id": "ac46be21-2445-4f10-a388-243ee18f3fca",
   "metadata": {
    "editable": true,
    "slideshow": {
     "slide_type": ""
    },
    "tags": []
   },
   "outputs": [],
   "source": []
  },
  {
   "cell_type": "code",
   "execution_count": null,
   "id": "e820f383-e7c2-4919-b089-cc97ca26fdaf",
   "metadata": {
    "editable": true,
    "slideshow": {
     "slide_type": ""
    },
    "tags": []
   },
   "outputs": [],
   "source": [
    "# Casos de Prueba"
   ]
  },
  {
   "cell_type": "markdown",
   "id": "3ac2fb42-a959-47a4-9a77-2d501d41e4c1",
   "metadata": {
    "editable": false,
    "slideshow": {
     "slide_type": ""
    },
    "tags": []
   },
   "source": [
    "##### Comparación entre Shelve y dbm"
   ]
  },
  {
   "cell_type": "markdown",
   "id": "4b2d756c-cef9-4039-8222-e968269fb4f2",
   "metadata": {
    "editable": true,
    "slideshow": {
     "slide_type": ""
    },
    "tags": []
   },
   "source": []
  }
 ],
 "metadata": {
  "kernelspec": {
   "display_name": "Python 3 (ipykernel)",
   "language": "python",
   "name": "python3"
  },
  "language_info": {
   "codemirror_mode": {
    "name": "ipython",
    "version": 3
   },
   "file_extension": ".py",
   "mimetype": "text/x-python",
   "name": "python",
   "nbconvert_exporter": "python",
   "pygments_lexer": "ipython3",
   "version": "3.12.5"
  },
  "rise": {
   "start_slideshow_at": "beginning"
  }
 },
 "nbformat": 4,
 "nbformat_minor": 5
}
